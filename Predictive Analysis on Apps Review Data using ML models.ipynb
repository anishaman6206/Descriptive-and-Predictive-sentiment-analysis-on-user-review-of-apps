{
 "cells": [
  {
   "cell_type": "code",
   "execution_count": 1,
   "id": "876218d9-a631-4fe1-94e6-52e2c3bc6d09",
   "metadata": {},
   "outputs": [],
   "source": [
    "import pandas as pd\n",
    "import numpy as np"
   ]
  },
  {
   "cell_type": "markdown",
   "id": "16cbe13f-8872-4a20-a5e7-6f3d06288116",
   "metadata": {},
   "source": [
    "import combined_app_data"
   ]
  },
  {
   "cell_type": "code",
   "execution_count": 2,
   "id": "51c171c0-ffcd-4d28-8ae2-746822e4010b",
   "metadata": {},
   "outputs": [],
   "source": [
    "combined_app_data_vader = pd.read_csv('combined_app_data_vader.csv')"
   ]
  },
  {
   "cell_type": "code",
   "execution_count": 3,
   "id": "d63cc54f-bd14-4be3-a6b9-c60ce9ac13f3",
   "metadata": {
    "scrolled": true
   },
   "outputs": [
    {
     "data": {
      "text/html": [
       "<div>\n",
       "<style scoped>\n",
       "    .dataframe tbody tr th:only-of-type {\n",
       "        vertical-align: middle;\n",
       "    }\n",
       "\n",
       "    .dataframe tbody tr th {\n",
       "        vertical-align: top;\n",
       "    }\n",
       "\n",
       "    .dataframe thead th {\n",
       "        text-align: right;\n",
       "    }\n",
       "</style>\n",
       "<table border=\"1\" class=\"dataframe\">\n",
       "  <thead>\n",
       "    <tr style=\"text-align: right;\">\n",
       "      <th></th>\n",
       "      <th>ID</th>\n",
       "      <th>CleanText</th>\n",
       "      <th>rating</th>\n",
       "      <th>source</th>\n",
       "      <th>sentiment_vader</th>\n",
       "      <th>num_characters</th>\n",
       "      <th>num_words</th>\n",
       "      <th>num_sentences</th>\n",
       "    </tr>\n",
       "  </thead>\n",
       "  <tbody>\n",
       "    <tr>\n",
       "      <th>0</th>\n",
       "      <td>1</td>\n",
       "      <td>professional</td>\n",
       "      <td>5</td>\n",
       "      <td>ReviewData1</td>\n",
       "      <td>neutral</td>\n",
       "      <td>12</td>\n",
       "      <td>1</td>\n",
       "      <td>1</td>\n",
       "    </tr>\n",
       "    <tr>\n",
       "      <th>1</th>\n",
       "      <td>2</td>\n",
       "      <td>buggy far mostly customer support always late ...</td>\n",
       "      <td>1</td>\n",
       "      <td>ReviewData1</td>\n",
       "      <td>positive</td>\n",
       "      <td>88</td>\n",
       "      <td>13</td>\n",
       "      <td>1</td>\n",
       "    </tr>\n",
       "    <tr>\n",
       "      <th>2</th>\n",
       "      <td>3</td>\n",
       "      <td>great easy navigate use super easy</td>\n",
       "      <td>5</td>\n",
       "      <td>ReviewData1</td>\n",
       "      <td>positive</td>\n",
       "      <td>34</td>\n",
       "      <td>6</td>\n",
       "      <td>1</td>\n",
       "    </tr>\n",
       "    <tr>\n",
       "      <th>3</th>\n",
       "      <td>4</td>\n",
       "      <td>airbus use affordable years ago shock discover...</td>\n",
       "      <td>1</td>\n",
       "      <td>ReviewData1</td>\n",
       "      <td>negative</td>\n",
       "      <td>137</td>\n",
       "      <td>21</td>\n",
       "      <td>1</td>\n",
       "    </tr>\n",
       "    <tr>\n",
       "      <th>4</th>\n",
       "      <td>5</td>\n",
       "      <td>easy use great rates love meeting host super f...</td>\n",
       "      <td>5</td>\n",
       "      <td>ReviewData1</td>\n",
       "      <td>positive</td>\n",
       "      <td>76</td>\n",
       "      <td>13</td>\n",
       "      <td>1</td>\n",
       "    </tr>\n",
       "    <tr>\n",
       "      <th>...</th>\n",
       "      <td>...</td>\n",
       "      <td>...</td>\n",
       "      <td>...</td>\n",
       "      <td>...</td>\n",
       "      <td>...</td>\n",
       "      <td>...</td>\n",
       "      <td>...</td>\n",
       "      <td>...</td>\n",
       "    </tr>\n",
       "    <tr>\n",
       "      <th>177095</th>\n",
       "      <td>84689</td>\n",
       "      <td>try type venice search function crashes immedi...</td>\n",
       "      <td>1</td>\n",
       "      <td>ReviewData2</td>\n",
       "      <td>negative</td>\n",
       "      <td>56</td>\n",
       "      <td>8</td>\n",
       "      <td>1</td>\n",
       "    </tr>\n",
       "    <tr>\n",
       "      <th>177096</th>\n",
       "      <td>84692</td>\n",
       "      <td>clean room many facilities u ask towel soap mi...</td>\n",
       "      <td>5</td>\n",
       "      <td>ReviewData2</td>\n",
       "      <td>positive</td>\n",
       "      <td>327</td>\n",
       "      <td>55</td>\n",
       "      <td>1</td>\n",
       "    </tr>\n",
       "    <tr>\n",
       "      <th>177097</th>\n",
       "      <td>84693</td>\n",
       "      <td>good guide travels asia good choice hotels pic...</td>\n",
       "      <td>2</td>\n",
       "      <td>ReviewData2</td>\n",
       "      <td>positive</td>\n",
       "      <td>242</td>\n",
       "      <td>38</td>\n",
       "      <td>1</td>\n",
       "    </tr>\n",
       "    <tr>\n",
       "      <th>177098</th>\n",
       "      <td>84694</td>\n",
       "      <td>useful times use</td>\n",
       "      <td>4</td>\n",
       "      <td>ReviewData2</td>\n",
       "      <td>positive</td>\n",
       "      <td>16</td>\n",
       "      <td>3</td>\n",
       "      <td>1</td>\n",
       "    </tr>\n",
       "    <tr>\n",
       "      <th>177099</th>\n",
       "      <td>84696</td>\n",
       "      <td>great slow</td>\n",
       "      <td>4</td>\n",
       "      <td>ReviewData2</td>\n",
       "      <td>positive</td>\n",
       "      <td>10</td>\n",
       "      <td>2</td>\n",
       "      <td>1</td>\n",
       "    </tr>\n",
       "  </tbody>\n",
       "</table>\n",
       "<p>177100 rows × 8 columns</p>\n",
       "</div>"
      ],
      "text/plain": [
       "           ID                                          CleanText  rating  \\\n",
       "0           1                                       professional       5   \n",
       "1           2  buggy far mostly customer support always late ...       1   \n",
       "2           3                 great easy navigate use super easy       5   \n",
       "3           4  airbus use affordable years ago shock discover...       1   \n",
       "4           5  easy use great rates love meeting host super f...       5   \n",
       "...       ...                                                ...     ...   \n",
       "177095  84689  try type venice search function crashes immedi...       1   \n",
       "177096  84692  clean room many facilities u ask towel soap mi...       5   \n",
       "177097  84693  good guide travels asia good choice hotels pic...       2   \n",
       "177098  84694                                   useful times use       4   \n",
       "177099  84696                                         great slow       4   \n",
       "\n",
       "             source sentiment_vader  num_characters  num_words  num_sentences  \n",
       "0       ReviewData1         neutral              12          1              1  \n",
       "1       ReviewData1        positive              88         13              1  \n",
       "2       ReviewData1        positive              34          6              1  \n",
       "3       ReviewData1        negative             137         21              1  \n",
       "4       ReviewData1        positive              76         13              1  \n",
       "...             ...             ...             ...        ...            ...  \n",
       "177095  ReviewData2        negative              56          8              1  \n",
       "177096  ReviewData2        positive             327         55              1  \n",
       "177097  ReviewData2        positive             242         38              1  \n",
       "177098  ReviewData2        positive              16          3              1  \n",
       "177099  ReviewData2        positive              10          2              1  \n",
       "\n",
       "[177100 rows x 8 columns]"
      ]
     },
     "execution_count": 3,
     "metadata": {},
     "output_type": "execute_result"
    }
   ],
   "source": [
    "combined_app_data_vader"
   ]
  },
  {
   "cell_type": "code",
   "execution_count": 4,
   "id": "e9b3489b-ae06-4669-a154-ce9b8c713df8",
   "metadata": {},
   "outputs": [
    {
     "name": "stdout",
     "output_type": "stream",
     "text": [
      "<class 'pandas.core.frame.DataFrame'>\n",
      "RangeIndex: 177100 entries, 0 to 177099\n",
      "Data columns (total 8 columns):\n",
      " #   Column           Non-Null Count   Dtype \n",
      "---  ------           --------------   ----- \n",
      " 0   ID               177100 non-null  int64 \n",
      " 1   CleanText        177100 non-null  object\n",
      " 2   rating           177100 non-null  int64 \n",
      " 3   source           177100 non-null  object\n",
      " 4   sentiment_vader  177100 non-null  object\n",
      " 5   num_characters   177100 non-null  int64 \n",
      " 6   num_words        177100 non-null  int64 \n",
      " 7   num_sentences    177100 non-null  int64 \n",
      "dtypes: int64(5), object(3)\n",
      "memory usage: 10.8+ MB\n"
     ]
    }
   ],
   "source": [
    "combined_app_data_vader.info()"
   ]
  },
  {
   "cell_type": "code",
   "execution_count": 5,
   "id": "8892d339-56b2-4b3d-bd79-3a6b77961602",
   "metadata": {},
   "outputs": [
    {
     "data": {
      "text/html": [
       "<div>\n",
       "<style scoped>\n",
       "    .dataframe tbody tr th:only-of-type {\n",
       "        vertical-align: middle;\n",
       "    }\n",
       "\n",
       "    .dataframe tbody tr th {\n",
       "        vertical-align: top;\n",
       "    }\n",
       "\n",
       "    .dataframe thead th {\n",
       "        text-align: right;\n",
       "    }\n",
       "</style>\n",
       "<table border=\"1\" class=\"dataframe\">\n",
       "  <thead>\n",
       "    <tr style=\"text-align: right;\">\n",
       "      <th></th>\n",
       "      <th>ID</th>\n",
       "      <th>CleanText</th>\n",
       "      <th>rating</th>\n",
       "      <th>source</th>\n",
       "      <th>sentiment_vader</th>\n",
       "      <th>num_characters</th>\n",
       "      <th>num_words</th>\n",
       "      <th>num_sentences</th>\n",
       "    </tr>\n",
       "  </thead>\n",
       "  <tbody>\n",
       "    <tr>\n",
       "      <th>count</th>\n",
       "      <td>177100.000000</td>\n",
       "      <td>177100</td>\n",
       "      <td>177100.000000</td>\n",
       "      <td>177100</td>\n",
       "      <td>177100</td>\n",
       "      <td>177100.000000</td>\n",
       "      <td>177100.000000</td>\n",
       "      <td>177100.0</td>\n",
       "    </tr>\n",
       "    <tr>\n",
       "      <th>unique</th>\n",
       "      <td>NaN</td>\n",
       "      <td>174153</td>\n",
       "      <td>NaN</td>\n",
       "      <td>2</td>\n",
       "      <td>3</td>\n",
       "      <td>NaN</td>\n",
       "      <td>NaN</td>\n",
       "      <td>NaN</td>\n",
       "    </tr>\n",
       "    <tr>\n",
       "      <th>top</th>\n",
       "      <td>NaN</td>\n",
       "      <td>professional</td>\n",
       "      <td>NaN</td>\n",
       "      <td>ReviewData1</td>\n",
       "      <td>positive</td>\n",
       "      <td>NaN</td>\n",
       "      <td>NaN</td>\n",
       "      <td>NaN</td>\n",
       "    </tr>\n",
       "    <tr>\n",
       "      <th>freq</th>\n",
       "      <td>NaN</td>\n",
       "      <td>2</td>\n",
       "      <td>NaN</td>\n",
       "      <td>115354</td>\n",
       "      <td>119669</td>\n",
       "      <td>NaN</td>\n",
       "      <td>NaN</td>\n",
       "      <td>NaN</td>\n",
       "    </tr>\n",
       "    <tr>\n",
       "      <th>mean</th>\n",
       "      <td>61386.353495</td>\n",
       "      <td>NaN</td>\n",
       "      <td>3.721293</td>\n",
       "      <td>NaN</td>\n",
       "      <td>NaN</td>\n",
       "      <td>66.788752</td>\n",
       "      <td>10.515223</td>\n",
       "      <td>1.0</td>\n",
       "    </tr>\n",
       "    <tr>\n",
       "      <th>std</th>\n",
       "      <td>41271.082010</td>\n",
       "      <td>NaN</td>\n",
       "      <td>1.684542</td>\n",
       "      <td>NaN</td>\n",
       "      <td>NaN</td>\n",
       "      <td>68.026488</td>\n",
       "      <td>10.548043</td>\n",
       "      <td>0.0</td>\n",
       "    </tr>\n",
       "    <tr>\n",
       "      <th>min</th>\n",
       "      <td>1.000000</td>\n",
       "      <td>NaN</td>\n",
       "      <td>1.000000</td>\n",
       "      <td>NaN</td>\n",
       "      <td>NaN</td>\n",
       "      <td>1.000000</td>\n",
       "      <td>1.000000</td>\n",
       "      <td>1.0</td>\n",
       "    </tr>\n",
       "    <tr>\n",
       "      <th>25%</th>\n",
       "      <td>26274.000000</td>\n",
       "      <td>NaN</td>\n",
       "      <td>2.000000</td>\n",
       "      <td>NaN</td>\n",
       "      <td>NaN</td>\n",
       "      <td>24.000000</td>\n",
       "      <td>4.000000</td>\n",
       "      <td>1.0</td>\n",
       "    </tr>\n",
       "    <tr>\n",
       "      <th>50%</th>\n",
       "      <td>55745.500000</td>\n",
       "      <td>NaN</td>\n",
       "      <td>5.000000</td>\n",
       "      <td>NaN</td>\n",
       "      <td>NaN</td>\n",
       "      <td>41.000000</td>\n",
       "      <td>7.000000</td>\n",
       "      <td>1.0</td>\n",
       "    </tr>\n",
       "    <tr>\n",
       "      <th>75%</th>\n",
       "      <td>90151.250000</td>\n",
       "      <td>NaN</td>\n",
       "      <td>5.000000</td>\n",
       "      <td>NaN</td>\n",
       "      <td>NaN</td>\n",
       "      <td>81.000000</td>\n",
       "      <td>13.000000</td>\n",
       "      <td>1.0</td>\n",
       "    </tr>\n",
       "    <tr>\n",
       "      <th>max</th>\n",
       "      <td>147603.000000</td>\n",
       "      <td>NaN</td>\n",
       "      <td>5.000000</td>\n",
       "      <td>NaN</td>\n",
       "      <td>NaN</td>\n",
       "      <td>1755.000000</td>\n",
       "      <td>296.000000</td>\n",
       "      <td>1.0</td>\n",
       "    </tr>\n",
       "  </tbody>\n",
       "</table>\n",
       "</div>"
      ],
      "text/plain": [
       "                   ID     CleanText         rating       source  \\\n",
       "count   177100.000000        177100  177100.000000       177100   \n",
       "unique            NaN        174153            NaN            2   \n",
       "top               NaN  professional            NaN  ReviewData1   \n",
       "freq              NaN             2            NaN       115354   \n",
       "mean     61386.353495           NaN       3.721293          NaN   \n",
       "std      41271.082010           NaN       1.684542          NaN   \n",
       "min          1.000000           NaN       1.000000          NaN   \n",
       "25%      26274.000000           NaN       2.000000          NaN   \n",
       "50%      55745.500000           NaN       5.000000          NaN   \n",
       "75%      90151.250000           NaN       5.000000          NaN   \n",
       "max     147603.000000           NaN       5.000000          NaN   \n",
       "\n",
       "       sentiment_vader  num_characters      num_words  num_sentences  \n",
       "count           177100   177100.000000  177100.000000       177100.0  \n",
       "unique               3             NaN            NaN            NaN  \n",
       "top           positive             NaN            NaN            NaN  \n",
       "freq            119669             NaN            NaN            NaN  \n",
       "mean               NaN       66.788752      10.515223            1.0  \n",
       "std                NaN       68.026488      10.548043            0.0  \n",
       "min                NaN        1.000000       1.000000            1.0  \n",
       "25%                NaN       24.000000       4.000000            1.0  \n",
       "50%                NaN       41.000000       7.000000            1.0  \n",
       "75%                NaN       81.000000      13.000000            1.0  \n",
       "max                NaN     1755.000000     296.000000            1.0  "
      ]
     },
     "execution_count": 5,
     "metadata": {},
     "output_type": "execute_result"
    }
   ],
   "source": [
    "combined_app_data_vader.describe(include='all')"
   ]
  },
  {
   "cell_type": "markdown",
   "id": "90710c05-56f7-4095-ad34-915487b5d8da",
   "metadata": {},
   "source": [
    "remove duplicate data"
   ]
  },
  {
   "cell_type": "code",
   "execution_count": 6,
   "id": "00875998-52d9-4767-8c3c-0b84c75b7fda",
   "metadata": {},
   "outputs": [
    {
     "data": {
      "text/html": [
       "<div>\n",
       "<style scoped>\n",
       "    .dataframe tbody tr th:only-of-type {\n",
       "        vertical-align: middle;\n",
       "    }\n",
       "\n",
       "    .dataframe tbody tr th {\n",
       "        vertical-align: top;\n",
       "    }\n",
       "\n",
       "    .dataframe thead th {\n",
       "        text-align: right;\n",
       "    }\n",
       "</style>\n",
       "<table border=\"1\" class=\"dataframe\">\n",
       "  <thead>\n",
       "    <tr style=\"text-align: right;\">\n",
       "      <th></th>\n",
       "      <th>ID</th>\n",
       "      <th>CleanText</th>\n",
       "      <th>rating</th>\n",
       "      <th>source</th>\n",
       "      <th>sentiment_vader</th>\n",
       "      <th>num_characters</th>\n",
       "      <th>num_words</th>\n",
       "      <th>num_sentences</th>\n",
       "    </tr>\n",
       "  </thead>\n",
       "  <tbody>\n",
       "    <tr>\n",
       "      <th>0</th>\n",
       "      <td>1</td>\n",
       "      <td>professional</td>\n",
       "      <td>5</td>\n",
       "      <td>ReviewData1</td>\n",
       "      <td>neutral</td>\n",
       "      <td>12</td>\n",
       "      <td>1</td>\n",
       "      <td>1</td>\n",
       "    </tr>\n",
       "    <tr>\n",
       "      <th>1</th>\n",
       "      <td>2</td>\n",
       "      <td>buggy far mostly customer support always late ...</td>\n",
       "      <td>1</td>\n",
       "      <td>ReviewData1</td>\n",
       "      <td>positive</td>\n",
       "      <td>88</td>\n",
       "      <td>13</td>\n",
       "      <td>1</td>\n",
       "    </tr>\n",
       "    <tr>\n",
       "      <th>2</th>\n",
       "      <td>3</td>\n",
       "      <td>great easy navigate use super easy</td>\n",
       "      <td>5</td>\n",
       "      <td>ReviewData1</td>\n",
       "      <td>positive</td>\n",
       "      <td>34</td>\n",
       "      <td>6</td>\n",
       "      <td>1</td>\n",
       "    </tr>\n",
       "    <tr>\n",
       "      <th>3</th>\n",
       "      <td>4</td>\n",
       "      <td>airbus use affordable years ago shock discover...</td>\n",
       "      <td>1</td>\n",
       "      <td>ReviewData1</td>\n",
       "      <td>negative</td>\n",
       "      <td>137</td>\n",
       "      <td>21</td>\n",
       "      <td>1</td>\n",
       "    </tr>\n",
       "    <tr>\n",
       "      <th>4</th>\n",
       "      <td>5</td>\n",
       "      <td>easy use great rates love meeting host super f...</td>\n",
       "      <td>5</td>\n",
       "      <td>ReviewData1</td>\n",
       "      <td>positive</td>\n",
       "      <td>76</td>\n",
       "      <td>13</td>\n",
       "      <td>1</td>\n",
       "    </tr>\n",
       "    <tr>\n",
       "      <th>...</th>\n",
       "      <td>...</td>\n",
       "      <td>...</td>\n",
       "      <td>...</td>\n",
       "      <td>...</td>\n",
       "      <td>...</td>\n",
       "      <td>...</td>\n",
       "      <td>...</td>\n",
       "      <td>...</td>\n",
       "    </tr>\n",
       "    <tr>\n",
       "      <th>174148</th>\n",
       "      <td>84687</td>\n",
       "      <td>force closes overtime open please fix</td>\n",
       "      <td>1</td>\n",
       "      <td>ReviewData2</td>\n",
       "      <td>positive</td>\n",
       "      <td>37</td>\n",
       "      <td>6</td>\n",
       "      <td>1</td>\n",
       "    </tr>\n",
       "    <tr>\n",
       "      <th>174149</th>\n",
       "      <td>84689</td>\n",
       "      <td>try type venice search function crashes immedi...</td>\n",
       "      <td>1</td>\n",
       "      <td>ReviewData2</td>\n",
       "      <td>negative</td>\n",
       "      <td>56</td>\n",
       "      <td>8</td>\n",
       "      <td>1</td>\n",
       "    </tr>\n",
       "    <tr>\n",
       "      <th>174150</th>\n",
       "      <td>84692</td>\n",
       "      <td>clean room many facilities u ask towel soap mi...</td>\n",
       "      <td>5</td>\n",
       "      <td>ReviewData2</td>\n",
       "      <td>positive</td>\n",
       "      <td>327</td>\n",
       "      <td>55</td>\n",
       "      <td>1</td>\n",
       "    </tr>\n",
       "    <tr>\n",
       "      <th>174151</th>\n",
       "      <td>84693</td>\n",
       "      <td>good guide travels asia good choice hotels pic...</td>\n",
       "      <td>2</td>\n",
       "      <td>ReviewData2</td>\n",
       "      <td>positive</td>\n",
       "      <td>242</td>\n",
       "      <td>38</td>\n",
       "      <td>1</td>\n",
       "    </tr>\n",
       "    <tr>\n",
       "      <th>174152</th>\n",
       "      <td>84694</td>\n",
       "      <td>useful times use</td>\n",
       "      <td>4</td>\n",
       "      <td>ReviewData2</td>\n",
       "      <td>positive</td>\n",
       "      <td>16</td>\n",
       "      <td>3</td>\n",
       "      <td>1</td>\n",
       "    </tr>\n",
       "  </tbody>\n",
       "</table>\n",
       "<p>174153 rows × 8 columns</p>\n",
       "</div>"
      ],
      "text/plain": [
       "           ID                                          CleanText  rating  \\\n",
       "0           1                                       professional       5   \n",
       "1           2  buggy far mostly customer support always late ...       1   \n",
       "2           3                 great easy navigate use super easy       5   \n",
       "3           4  airbus use affordable years ago shock discover...       1   \n",
       "4           5  easy use great rates love meeting host super f...       5   \n",
       "...       ...                                                ...     ...   \n",
       "174148  84687              force closes overtime open please fix       1   \n",
       "174149  84689  try type venice search function crashes immedi...       1   \n",
       "174150  84692  clean room many facilities u ask towel soap mi...       5   \n",
       "174151  84693  good guide travels asia good choice hotels pic...       2   \n",
       "174152  84694                                   useful times use       4   \n",
       "\n",
       "             source sentiment_vader  num_characters  num_words  num_sentences  \n",
       "0       ReviewData1         neutral              12          1              1  \n",
       "1       ReviewData1        positive              88         13              1  \n",
       "2       ReviewData1        positive              34          6              1  \n",
       "3       ReviewData1        negative             137         21              1  \n",
       "4       ReviewData1        positive              76         13              1  \n",
       "...             ...             ...             ...        ...            ...  \n",
       "174148  ReviewData2        positive              37          6              1  \n",
       "174149  ReviewData2        negative              56          8              1  \n",
       "174150  ReviewData2        positive             327         55              1  \n",
       "174151  ReviewData2        positive             242         38              1  \n",
       "174152  ReviewData2        positive              16          3              1  \n",
       "\n",
       "[174153 rows x 8 columns]"
      ]
     },
     "execution_count": 6,
     "metadata": {},
     "output_type": "execute_result"
    }
   ],
   "source": [
    "combined_app_data_vader1 = combined_app_data_vader.drop_duplicates(subset=['CleanText'])\n",
    "combined_app_data_vader1 = combined_app_data_vader1.reset_index(drop=True)\n",
    "combined_app_data_vader1"
   ]
  },
  {
   "cell_type": "code",
   "execution_count": 7,
   "id": "a7a90774-bd7d-485d-8771-d573759f0997",
   "metadata": {
    "scrolled": true
   },
   "outputs": [
    {
     "data": {
      "text/plain": [
       "sentiment_vader\n",
       "positive    117322\n",
       "negative     32907\n",
       "neutral      23924\n",
       "Name: count, dtype: int64"
      ]
     },
     "execution_count": 7,
     "metadata": {},
     "output_type": "execute_result"
    }
   ],
   "source": [
    "combined_app_data_vader1['sentiment_vader'].value_counts()"
   ]
  },
  {
   "cell_type": "markdown",
   "id": "75007c2e-bcd5-4f48-bfcf-2edc53183ade",
   "metadata": {},
   "source": [
    "Randomly sample 20,000 rows for each sentiment category to make the dataset balanced"
   ]
  },
  {
   "cell_type": "code",
   "execution_count": 8,
   "id": "e34e6faf-e0fc-43b7-b54e-83fc6a06000d",
   "metadata": {},
   "outputs": [],
   "source": [
    "positive_sample_CA = combined_app_data_vader1[combined_app_data_vader1['sentiment_vader'] == 'positive'].sample(n=20000, random_state=42)\n",
    "negative_sample_CA = combined_app_data_vader1[combined_app_data_vader1['sentiment_vader'] == 'negative'].sample(n=20000, random_state=42)\n",
    "neutral_sample_CA = combined_app_data_vader1[combined_app_data_vader1['sentiment_vader'] == 'neutral'].sample(n=20000, random_state=42)"
   ]
  },
  {
   "cell_type": "markdown",
   "id": "79af61af-74b1-41bd-b0dd-b6a60e354897",
   "metadata": {},
   "source": [
    "Combine the sampled data into a single DataFrame"
   ]
  },
  {
   "cell_type": "code",
   "execution_count": 9,
   "id": "d108c400-bba3-4da7-bd4e-4fb393a3456d",
   "metadata": {},
   "outputs": [],
   "source": [
    "balanced_data_CA = pd.concat([positive_sample_CA, negative_sample_CA, neutral_sample_CA])"
   ]
  },
  {
   "cell_type": "markdown",
   "id": "28e3f4bb-2006-4b13-9463-b34b69620823",
   "metadata": {},
   "source": [
    "Shuffle the combined DataFrame"
   ]
  },
  {
   "cell_type": "code",
   "execution_count": 10,
   "id": "44771fe7-133b-4fbc-8a85-1eede0503d2d",
   "metadata": {},
   "outputs": [
    {
     "name": "stdout",
     "output_type": "stream",
     "text": [
      "sentiment_vader\n",
      "positive    20000\n",
      "negative    20000\n",
      "neutral     20000\n",
      "Name: count, dtype: int64\n"
     ]
    }
   ],
   "source": [
    "balanced_data_CA_vader = balanced_data_CA.sample(frac=1, random_state=42).reset_index(drop=True)\n",
    "print(balanced_data_CA_vader['sentiment_vader'].value_counts())"
   ]
  },
  {
   "cell_type": "code",
   "execution_count": 11,
   "id": "d7802625-b26d-4056-8760-0f2cf8eb9fd5",
   "metadata": {},
   "outputs": [],
   "source": [
    "from sklearn.preprocessing import LabelEncoder\n",
    "\n",
    "label_encoder = LabelEncoder()\n",
    "balanced_data_CA_vader['sentiment_encoded'] = label_encoder.fit_transform(balanced_data_CA_vader['sentiment_vader'])\n",
    "combined_app_data_vader['sentiment_encoded'] = label_encoder.fit_transform(combined_app_data_vader['sentiment_vader'])  "
   ]
  },
  {
   "cell_type": "code",
   "execution_count": 12,
   "id": "87169579-7708-4558-8f70-fdbe62244d4c",
   "metadata": {},
   "outputs": [
    {
     "data": {
      "text/html": [
       "<div>\n",
       "<style scoped>\n",
       "    .dataframe tbody tr th:only-of-type {\n",
       "        vertical-align: middle;\n",
       "    }\n",
       "\n",
       "    .dataframe tbody tr th {\n",
       "        vertical-align: top;\n",
       "    }\n",
       "\n",
       "    .dataframe thead th {\n",
       "        text-align: right;\n",
       "    }\n",
       "</style>\n",
       "<table border=\"1\" class=\"dataframe\">\n",
       "  <thead>\n",
       "    <tr style=\"text-align: right;\">\n",
       "      <th></th>\n",
       "      <th>ID</th>\n",
       "      <th>CleanText</th>\n",
       "      <th>rating</th>\n",
       "      <th>source</th>\n",
       "      <th>sentiment_vader</th>\n",
       "      <th>num_characters</th>\n",
       "      <th>num_words</th>\n",
       "      <th>num_sentences</th>\n",
       "      <th>sentiment_encoded</th>\n",
       "    </tr>\n",
       "  </thead>\n",
       "  <tbody>\n",
       "    <tr>\n",
       "      <th>0</th>\n",
       "      <td>101658</td>\n",
       "      <td>reliable excellent choices convenient great pr...</td>\n",
       "      <td>5</td>\n",
       "      <td>ReviewData1</td>\n",
       "      <td>positive</td>\n",
       "      <td>67</td>\n",
       "      <td>8</td>\n",
       "      <td>1</td>\n",
       "      <td>2</td>\n",
       "    </tr>\n",
       "    <tr>\n",
       "      <th>1</th>\n",
       "      <td>35759</td>\n",
       "      <td>horrible experience support provide team book ...</td>\n",
       "      <td>1</td>\n",
       "      <td>ReviewData2</td>\n",
       "      <td>negative</td>\n",
       "      <td>157</td>\n",
       "      <td>25</td>\n",
       "      <td>1</td>\n",
       "      <td>0</td>\n",
       "    </tr>\n",
       "    <tr>\n",
       "      <th>2</th>\n",
       "      <td>124692</td>\n",
       "      <td>keeps freeze send error message try make reser...</td>\n",
       "      <td>3</td>\n",
       "      <td>ReviewData1</td>\n",
       "      <td>negative</td>\n",
       "      <td>70</td>\n",
       "      <td>11</td>\n",
       "      <td>1</td>\n",
       "      <td>0</td>\n",
       "    </tr>\n",
       "    <tr>\n",
       "      <th>3</th>\n",
       "      <td>112808</td>\n",
       "      <td>great great way travel stay amazing unexpected...</td>\n",
       "      <td>5</td>\n",
       "      <td>ReviewData1</td>\n",
       "      <td>positive</td>\n",
       "      <td>57</td>\n",
       "      <td>9</td>\n",
       "      <td>1</td>\n",
       "      <td>2</td>\n",
       "    </tr>\n",
       "    <tr>\n",
       "      <th>4</th>\n",
       "      <td>25536</td>\n",
       "      <td>okay recommend</td>\n",
       "      <td>4</td>\n",
       "      <td>ReviewData2</td>\n",
       "      <td>positive</td>\n",
       "      <td>14</td>\n",
       "      <td>2</td>\n",
       "      <td>1</td>\n",
       "      <td>2</td>\n",
       "    </tr>\n",
       "    <tr>\n",
       "      <th>...</th>\n",
       "      <td>...</td>\n",
       "      <td>...</td>\n",
       "      <td>...</td>\n",
       "      <td>...</td>\n",
       "      <td>...</td>\n",
       "      <td>...</td>\n",
       "      <td>...</td>\n",
       "      <td>...</td>\n",
       "      <td>...</td>\n",
       "    </tr>\n",
       "    <tr>\n",
       "      <th>59995</th>\n",
       "      <td>43643</td>\n",
       "      <td>sometimes messages take come</td>\n",
       "      <td>4</td>\n",
       "      <td>ReviewData1</td>\n",
       "      <td>neutral</td>\n",
       "      <td>28</td>\n",
       "      <td>4</td>\n",
       "      <td>1</td>\n",
       "      <td>1</td>\n",
       "    </tr>\n",
       "    <tr>\n",
       "      <th>59996</th>\n",
       "      <td>21632</td>\n",
       "      <td>single link connect human side even competitio...</td>\n",
       "      <td>1</td>\n",
       "      <td>ReviewData2</td>\n",
       "      <td>negative</td>\n",
       "      <td>218</td>\n",
       "      <td>38</td>\n",
       "      <td>1</td>\n",
       "      <td>0</td>\n",
       "    </tr>\n",
       "    <tr>\n",
       "      <th>59997</th>\n",
       "      <td>71935</td>\n",
       "      <td>make book travel easy user friendly great form...</td>\n",
       "      <td>5</td>\n",
       "      <td>ReviewData1</td>\n",
       "      <td>positive</td>\n",
       "      <td>130</td>\n",
       "      <td>21</td>\n",
       "      <td>1</td>\n",
       "      <td>2</td>\n",
       "    </tr>\n",
       "    <tr>\n",
       "      <th>59998</th>\n",
       "      <td>27378</td>\n",
       "      <td>cancel booking due covid situation get full re...</td>\n",
       "      <td>5</td>\n",
       "      <td>ReviewData2</td>\n",
       "      <td>positive</td>\n",
       "      <td>62</td>\n",
       "      <td>10</td>\n",
       "      <td>1</td>\n",
       "      <td>2</td>\n",
       "    </tr>\n",
       "    <tr>\n",
       "      <th>59999</th>\n",
       "      <td>59599</td>\n",
       "      <td>use always travels start use trips</td>\n",
       "      <td>5</td>\n",
       "      <td>ReviewData1</td>\n",
       "      <td>neutral</td>\n",
       "      <td>34</td>\n",
       "      <td>6</td>\n",
       "      <td>1</td>\n",
       "      <td>1</td>\n",
       "    </tr>\n",
       "  </tbody>\n",
       "</table>\n",
       "<p>60000 rows × 9 columns</p>\n",
       "</div>"
      ],
      "text/plain": [
       "           ID                                          CleanText  rating  \\\n",
       "0      101658  reliable excellent choices convenient great pr...       5   \n",
       "1       35759  horrible experience support provide team book ...       1   \n",
       "2      124692  keeps freeze send error message try make reser...       3   \n",
       "3      112808  great great way travel stay amazing unexpected...       5   \n",
       "4       25536                                     okay recommend       4   \n",
       "...       ...                                                ...     ...   \n",
       "59995   43643                       sometimes messages take come       4   \n",
       "59996   21632  single link connect human side even competitio...       1   \n",
       "59997   71935  make book travel easy user friendly great form...       5   \n",
       "59998   27378  cancel booking due covid situation get full re...       5   \n",
       "59999   59599                 use always travels start use trips       5   \n",
       "\n",
       "            source sentiment_vader  num_characters  num_words  num_sentences  \\\n",
       "0      ReviewData1        positive              67          8              1   \n",
       "1      ReviewData2        negative             157         25              1   \n",
       "2      ReviewData1        negative              70         11              1   \n",
       "3      ReviewData1        positive              57          9              1   \n",
       "4      ReviewData2        positive              14          2              1   \n",
       "...            ...             ...             ...        ...            ...   \n",
       "59995  ReviewData1         neutral              28          4              1   \n",
       "59996  ReviewData2        negative             218         38              1   \n",
       "59997  ReviewData1        positive             130         21              1   \n",
       "59998  ReviewData2        positive              62         10              1   \n",
       "59999  ReviewData1         neutral              34          6              1   \n",
       "\n",
       "       sentiment_encoded  \n",
       "0                      2  \n",
       "1                      0  \n",
       "2                      0  \n",
       "3                      2  \n",
       "4                      2  \n",
       "...                  ...  \n",
       "59995                  1  \n",
       "59996                  0  \n",
       "59997                  2  \n",
       "59998                  2  \n",
       "59999                  1  \n",
       "\n",
       "[60000 rows x 9 columns]"
      ]
     },
     "execution_count": 12,
     "metadata": {},
     "output_type": "execute_result"
    }
   ],
   "source": [
    "balanced_data_CA_vader"
   ]
  },
  {
   "cell_type": "markdown",
   "id": "691d6c03-e533-48d0-b5c8-bd439784b2b4",
   "metadata": {},
   "source": [
    "spliting data"
   ]
  },
  {
   "cell_type": "code",
   "execution_count": 13,
   "id": "d56d1555-4c4b-4e16-b6f7-b1779031a25e",
   "metadata": {},
   "outputs": [],
   "source": [
    "from sklearn.model_selection import train_test_split\n",
    "\n",
    "def data_split(data):\n",
    "  X_train, X_test, y_train, y_test = train_test_split(data['CleanText'], data['sentiment_encoded'], test_size=0.2, random_state=42)\n",
    "  return X_train, X_test, y_train, y_test"
   ]
  },
  {
   "cell_type": "code",
   "execution_count": 14,
   "id": "5383710c-4806-4e9b-8e6e-bcdd8fe0f3e5",
   "metadata": {},
   "outputs": [
    {
     "name": "stdout",
     "output_type": "stream",
     "text": [
      "Total data for training : 48000\n",
      "Total data for testing : 12000\n",
      "Total sentiments counts for train data : \n",
      "     sentiment_encoded\n",
      "2    16042\n",
      "0    15980\n",
      "1    15978\n",
      "Name: count, dtype: int64\n",
      "Total sentiments counts for test data : \n",
      "     sentiment_encoded\n",
      "1    4022\n",
      "0    4020\n",
      "2    3958\n",
      "Name: count, dtype: int64\n"
     ]
    }
   ],
   "source": [
    "X_train_combinedData, X_test_combinedData, y_train_combinedData, y_test_combinedData = data_split(balanced_data_CA_vader)\n",
    "print(f'Total data for training : {X_train_combinedData.nunique()}')\n",
    "print(f'Total data for testing : {X_test_combinedData.nunique()}')\n",
    "print(f\"\"\"Total sentiments counts for train data : \n",
    "     {y_train_combinedData.value_counts()}\"\"\")\n",
    "print(f\"\"\"Total sentiments counts for test data : \n",
    "     {y_test_combinedData.value_counts()}\"\"\") "
   ]
  },
  {
   "cell_type": "markdown",
   "id": "2f56d596-d52c-42b4-8bc2-5566fb243124",
   "metadata": {},
   "source": [
    "Used simple_preprocess library to tokenize texts because 'simple_preprocess' function from Gensim performs several filtering steps to clean the text, which includes removing words that do not meet certain criteria.\n",
    "\n",
    "Steps and Criteria Used by simple_preprocess:\n",
    "Lowercasing: Converts all characters to lowercase.\n",
    "Removing Special Characters and Punctuation: Keeps only alphabetic characters and discards everything else.\n",
    "Token Length: Removes words that are shorter than 2 characters or longer than 15 characters.\n",
    "\n",
    "while 'nltk.word_tokenize' provides a more straightforward tokenization without additional filtering"
   ]
  },
  {
   "cell_type": "code",
   "execution_count": 15,
   "id": "c4f95afd-7f45-4e73-9e6f-38c6f20ec485",
   "metadata": {},
   "outputs": [],
   "source": [
    "from gensim.utils import simple_preprocess\n",
    "\n",
    "def tokenize_text(data):\n",
    " text_tokens = [simple_preprocess(text) for text in data]\n",
    " return text_tokens"
   ]
  },
  {
   "cell_type": "code",
   "execution_count": 16,
   "id": "959395f7-d9fb-4d0a-bf7c-0fdec0fe1c04",
   "metadata": {},
   "outputs": [
    {
     "name": "stdout",
     "output_type": "stream",
     "text": [
      "['seem', 'slow', 'access', 'new', 'messages']\n",
      "['disappointed', 'service']\n"
     ]
    }
   ],
   "source": [
    "X_train_combinedData_tokens = tokenize_text(X_train_combinedData)\n",
    "X_test_combinedData_tokens = tokenize_text(X_test_combinedData)\n",
    "print(X_train_combinedData_tokens[0])\n",
    "print(X_test_combinedData_tokens[0])"
   ]
  },
  {
   "cell_type": "markdown",
   "id": "fa07eb10-131e-4e2a-a393-f4f22fbc4bde",
   "metadata": {},
   "source": [
    "implementing woed2vec and TF-IDF Vectorizer for word embeddings"
   ]
  },
  {
   "cell_type": "code",
   "execution_count": 17,
   "id": "4813b31d-52f9-4f34-aa14-b726a0a41753",
   "metadata": {},
   "outputs": [],
   "source": [
    "from gensim.models import Word2Vec\n",
    "\n",
    "word2vec_model_vader = Word2Vec(sentences=X_train_combinedData_tokens, vector_size=100, window=4, min_count=5, workers=-1, sg=1, hs=0, negative=10, seed=34)\n",
    "word2vec_model_vader.save(\"word2vec_model_vader.model\")"
   ]
  },
  {
   "cell_type": "code",
   "execution_count": 18,
   "id": "b2641c57-201b-40c4-84ba-916c1a7bc27a",
   "metadata": {},
   "outputs": [],
   "source": [
    "loaded_model = Word2Vec.load(\"word2vec_model_vader.model\")\n",
    "vocabulary_combinedData = set(loaded_model.wv.key_to_index)"
   ]
  },
  {
   "cell_type": "code",
   "execution_count": 19,
   "id": "5367ee84-b524-47d5-b6fd-db9304732ad2",
   "metadata": {},
   "outputs": [],
   "source": [
    "def average_word_vectors(words, model, vocabulary, num_features):\n",
    "    feature_vec = np.zeros((num_features,), dtype=\"float32\")\n",
    "    n_words = 0\n",
    "    for word in words:\n",
    "        if word in vocabulary:\n",
    "            n_words += 1\n",
    "            feature_vec = np.add(feature_vec, model[word])\n",
    "    if n_words > 0:\n",
    "        feature_vec = np.divide(feature_vec, n_words)\n",
    "    return feature_vec"
   ]
  },
  {
   "cell_type": "code",
   "execution_count": 20,
   "id": "89191d26-cb36-41e6-9fb3-d36b38f858bc",
   "metadata": {},
   "outputs": [],
   "source": [
    "X_train_word2vec = np.array([average_word_vectors(tokens, word2vec_model_vader.wv, vocabulary_combinedData, word2vec_model_vader.vector_size) for tokens in X_train_combinedData_tokens])\n",
    "X_test_word2vec = np.array([average_word_vectors(tokens, word2vec_model_vader.wv, vocabulary_combinedData, word2vec_model_vader.vector_size) for tokens in X_test_combinedData_tokens])"
   ]
  },
  {
   "cell_type": "code",
   "execution_count": 21,
   "id": "71d5bdf5-1ce8-481a-9094-7ec18506d61f",
   "metadata": {},
   "outputs": [
    {
     "name": "stdout",
     "output_type": "stream",
     "text": [
      "(48000, 100)\n",
      "(12000, 100)\n"
     ]
    }
   ],
   "source": [
    "print(X_train_word2vec.shape)  \n",
    "print(X_test_word2vec.shape) "
   ]
  },
  {
   "cell_type": "code",
   "execution_count": 22,
   "id": "7bdd058f-0b5c-4028-aca4-79ce2998a49f",
   "metadata": {},
   "outputs": [
    {
     "data": {
      "text/html": [
       "<div>\n",
       "<style scoped>\n",
       "    .dataframe tbody tr th:only-of-type {\n",
       "        vertical-align: middle;\n",
       "    }\n",
       "\n",
       "    .dataframe tbody tr th {\n",
       "        vertical-align: top;\n",
       "    }\n",
       "\n",
       "    .dataframe thead th {\n",
       "        text-align: right;\n",
       "    }\n",
       "</style>\n",
       "<table border=\"1\" class=\"dataframe\">\n",
       "  <thead>\n",
       "    <tr style=\"text-align: right;\">\n",
       "      <th></th>\n",
       "      <th>0</th>\n",
       "      <th>1</th>\n",
       "      <th>2</th>\n",
       "      <th>3</th>\n",
       "      <th>4</th>\n",
       "      <th>5</th>\n",
       "      <th>6</th>\n",
       "      <th>7</th>\n",
       "      <th>8</th>\n",
       "      <th>9</th>\n",
       "      <th>...</th>\n",
       "      <th>90</th>\n",
       "      <th>91</th>\n",
       "      <th>92</th>\n",
       "      <th>93</th>\n",
       "      <th>94</th>\n",
       "      <th>95</th>\n",
       "      <th>96</th>\n",
       "      <th>97</th>\n",
       "      <th>98</th>\n",
       "      <th>99</th>\n",
       "    </tr>\n",
       "  </thead>\n",
       "  <tbody>\n",
       "    <tr>\n",
       "      <th>0</th>\n",
       "      <td>0.002579</td>\n",
       "      <td>0.004584</td>\n",
       "      <td>0.001745</td>\n",
       "      <td>-0.003502</td>\n",
       "      <td>-0.001074</td>\n",
       "      <td>0.001376</td>\n",
       "      <td>-0.000835</td>\n",
       "      <td>-0.001994</td>\n",
       "      <td>0.007952</td>\n",
       "      <td>-0.002166</td>\n",
       "      <td>...</td>\n",
       "      <td>-0.005099</td>\n",
       "      <td>-0.000536</td>\n",
       "      <td>0.001886</td>\n",
       "      <td>0.000732</td>\n",
       "      <td>0.000223</td>\n",
       "      <td>0.000468</td>\n",
       "      <td>-0.003362</td>\n",
       "      <td>-0.002043</td>\n",
       "      <td>-0.001117</td>\n",
       "      <td>-0.002936</td>\n",
       "    </tr>\n",
       "    <tr>\n",
       "      <th>1</th>\n",
       "      <td>0.000304</td>\n",
       "      <td>-0.001388</td>\n",
       "      <td>0.001270</td>\n",
       "      <td>-0.001028</td>\n",
       "      <td>0.001097</td>\n",
       "      <td>-0.001988</td>\n",
       "      <td>0.000304</td>\n",
       "      <td>0.000387</td>\n",
       "      <td>0.000300</td>\n",
       "      <td>0.000778</td>\n",
       "      <td>...</td>\n",
       "      <td>-0.001826</td>\n",
       "      <td>-0.002295</td>\n",
       "      <td>0.002905</td>\n",
       "      <td>0.001507</td>\n",
       "      <td>-0.002895</td>\n",
       "      <td>-0.001904</td>\n",
       "      <td>0.000687</td>\n",
       "      <td>0.001544</td>\n",
       "      <td>-0.002137</td>\n",
       "      <td>-0.002003</td>\n",
       "    </tr>\n",
       "    <tr>\n",
       "      <th>2</th>\n",
       "      <td>-0.000256</td>\n",
       "      <td>-0.002861</td>\n",
       "      <td>-0.002663</td>\n",
       "      <td>0.000485</td>\n",
       "      <td>0.001674</td>\n",
       "      <td>0.000384</td>\n",
       "      <td>-0.005488</td>\n",
       "      <td>-0.002002</td>\n",
       "      <td>-0.002609</td>\n",
       "      <td>-0.000939</td>\n",
       "      <td>...</td>\n",
       "      <td>0.000664</td>\n",
       "      <td>0.000530</td>\n",
       "      <td>-0.000325</td>\n",
       "      <td>-0.003387</td>\n",
       "      <td>-0.001368</td>\n",
       "      <td>-0.002264</td>\n",
       "      <td>0.000406</td>\n",
       "      <td>0.001354</td>\n",
       "      <td>-0.002798</td>\n",
       "      <td>-0.000428</td>\n",
       "    </tr>\n",
       "    <tr>\n",
       "      <th>3</th>\n",
       "      <td>0.000605</td>\n",
       "      <td>-0.000422</td>\n",
       "      <td>0.001093</td>\n",
       "      <td>0.000384</td>\n",
       "      <td>-0.000063</td>\n",
       "      <td>-0.003158</td>\n",
       "      <td>0.000343</td>\n",
       "      <td>0.002041</td>\n",
       "      <td>0.001649</td>\n",
       "      <td>-0.001647</td>\n",
       "      <td>...</td>\n",
       "      <td>0.001646</td>\n",
       "      <td>-0.003081</td>\n",
       "      <td>0.000933</td>\n",
       "      <td>0.000136</td>\n",
       "      <td>0.002790</td>\n",
       "      <td>-0.000526</td>\n",
       "      <td>0.001342</td>\n",
       "      <td>0.000537</td>\n",
       "      <td>0.004943</td>\n",
       "      <td>-0.001207</td>\n",
       "    </tr>\n",
       "    <tr>\n",
       "      <th>4</th>\n",
       "      <td>0.008870</td>\n",
       "      <td>-0.004380</td>\n",
       "      <td>0.006430</td>\n",
       "      <td>-0.003864</td>\n",
       "      <td>-0.003096</td>\n",
       "      <td>-0.004425</td>\n",
       "      <td>0.003387</td>\n",
       "      <td>-0.001418</td>\n",
       "      <td>0.001004</td>\n",
       "      <td>-0.001240</td>\n",
       "      <td>...</td>\n",
       "      <td>0.000019</td>\n",
       "      <td>0.003008</td>\n",
       "      <td>0.000844</td>\n",
       "      <td>0.002297</td>\n",
       "      <td>-0.008193</td>\n",
       "      <td>-0.003953</td>\n",
       "      <td>-0.004860</td>\n",
       "      <td>0.001537</td>\n",
       "      <td>-0.000011</td>\n",
       "      <td>0.001894</td>\n",
       "    </tr>\n",
       "    <tr>\n",
       "      <th>...</th>\n",
       "      <td>...</td>\n",
       "      <td>...</td>\n",
       "      <td>...</td>\n",
       "      <td>...</td>\n",
       "      <td>...</td>\n",
       "      <td>...</td>\n",
       "      <td>...</td>\n",
       "      <td>...</td>\n",
       "      <td>...</td>\n",
       "      <td>...</td>\n",
       "      <td>...</td>\n",
       "      <td>...</td>\n",
       "      <td>...</td>\n",
       "      <td>...</td>\n",
       "      <td>...</td>\n",
       "      <td>...</td>\n",
       "      <td>...</td>\n",
       "      <td>...</td>\n",
       "      <td>...</td>\n",
       "      <td>...</td>\n",
       "      <td>...</td>\n",
       "    </tr>\n",
       "    <tr>\n",
       "      <th>47995</th>\n",
       "      <td>-0.002733</td>\n",
       "      <td>0.002404</td>\n",
       "      <td>0.003355</td>\n",
       "      <td>-0.002750</td>\n",
       "      <td>-0.002971</td>\n",
       "      <td>0.003086</td>\n",
       "      <td>-0.001296</td>\n",
       "      <td>0.000659</td>\n",
       "      <td>-0.003260</td>\n",
       "      <td>0.002970</td>\n",
       "      <td>...</td>\n",
       "      <td>0.002280</td>\n",
       "      <td>-0.000644</td>\n",
       "      <td>-0.001488</td>\n",
       "      <td>0.002847</td>\n",
       "      <td>0.002316</td>\n",
       "      <td>0.001725</td>\n",
       "      <td>0.000351</td>\n",
       "      <td>-0.001837</td>\n",
       "      <td>0.002749</td>\n",
       "      <td>-0.002498</td>\n",
       "    </tr>\n",
       "    <tr>\n",
       "      <th>47996</th>\n",
       "      <td>0.002200</td>\n",
       "      <td>-0.000876</td>\n",
       "      <td>0.000728</td>\n",
       "      <td>-0.001501</td>\n",
       "      <td>0.000407</td>\n",
       "      <td>-0.000545</td>\n",
       "      <td>0.000757</td>\n",
       "      <td>0.001060</td>\n",
       "      <td>0.001171</td>\n",
       "      <td>-0.000400</td>\n",
       "      <td>...</td>\n",
       "      <td>-0.000483</td>\n",
       "      <td>0.000435</td>\n",
       "      <td>0.001070</td>\n",
       "      <td>-0.000536</td>\n",
       "      <td>0.000311</td>\n",
       "      <td>-0.001085</td>\n",
       "      <td>-0.000585</td>\n",
       "      <td>-0.001269</td>\n",
       "      <td>0.000985</td>\n",
       "      <td>-0.000394</td>\n",
       "    </tr>\n",
       "    <tr>\n",
       "      <th>47997</th>\n",
       "      <td>-0.001628</td>\n",
       "      <td>0.001389</td>\n",
       "      <td>-0.000424</td>\n",
       "      <td>0.000037</td>\n",
       "      <td>-0.001493</td>\n",
       "      <td>0.001225</td>\n",
       "      <td>-0.000810</td>\n",
       "      <td>0.001591</td>\n",
       "      <td>-0.000017</td>\n",
       "      <td>-0.001498</td>\n",
       "      <td>...</td>\n",
       "      <td>0.001818</td>\n",
       "      <td>-0.000529</td>\n",
       "      <td>-0.000691</td>\n",
       "      <td>-0.001115</td>\n",
       "      <td>-0.000041</td>\n",
       "      <td>-0.000726</td>\n",
       "      <td>-0.001401</td>\n",
       "      <td>-0.000321</td>\n",
       "      <td>0.000685</td>\n",
       "      <td>-0.000192</td>\n",
       "    </tr>\n",
       "    <tr>\n",
       "      <th>47998</th>\n",
       "      <td>-0.000392</td>\n",
       "      <td>-0.001813</td>\n",
       "      <td>-0.003384</td>\n",
       "      <td>-0.001870</td>\n",
       "      <td>-0.000467</td>\n",
       "      <td>-0.002359</td>\n",
       "      <td>-0.000304</td>\n",
       "      <td>-0.002193</td>\n",
       "      <td>-0.000228</td>\n",
       "      <td>-0.000575</td>\n",
       "      <td>...</td>\n",
       "      <td>-0.001249</td>\n",
       "      <td>0.001208</td>\n",
       "      <td>0.002929</td>\n",
       "      <td>-0.005998</td>\n",
       "      <td>-0.004378</td>\n",
       "      <td>-0.002995</td>\n",
       "      <td>-0.000952</td>\n",
       "      <td>0.001664</td>\n",
       "      <td>-0.002989</td>\n",
       "      <td>-0.000100</td>\n",
       "    </tr>\n",
       "    <tr>\n",
       "      <th>47999</th>\n",
       "      <td>-0.002909</td>\n",
       "      <td>-0.001123</td>\n",
       "      <td>-0.000158</td>\n",
       "      <td>0.004132</td>\n",
       "      <td>-0.001447</td>\n",
       "      <td>0.002455</td>\n",
       "      <td>0.000631</td>\n",
       "      <td>0.002849</td>\n",
       "      <td>-0.000263</td>\n",
       "      <td>-0.000279</td>\n",
       "      <td>...</td>\n",
       "      <td>0.000716</td>\n",
       "      <td>-0.000551</td>\n",
       "      <td>0.001973</td>\n",
       "      <td>-0.000768</td>\n",
       "      <td>0.000953</td>\n",
       "      <td>-0.001490</td>\n",
       "      <td>-0.001991</td>\n",
       "      <td>0.000173</td>\n",
       "      <td>0.000907</td>\n",
       "      <td>0.000951</td>\n",
       "    </tr>\n",
       "  </tbody>\n",
       "</table>\n",
       "<p>48000 rows × 100 columns</p>\n",
       "</div>"
      ],
      "text/plain": [
       "             0         1         2         3         4         5         6   \\\n",
       "0      0.002579  0.004584  0.001745 -0.003502 -0.001074  0.001376 -0.000835   \n",
       "1      0.000304 -0.001388  0.001270 -0.001028  0.001097 -0.001988  0.000304   \n",
       "2     -0.000256 -0.002861 -0.002663  0.000485  0.001674  0.000384 -0.005488   \n",
       "3      0.000605 -0.000422  0.001093  0.000384 -0.000063 -0.003158  0.000343   \n",
       "4      0.008870 -0.004380  0.006430 -0.003864 -0.003096 -0.004425  0.003387   \n",
       "...         ...       ...       ...       ...       ...       ...       ...   \n",
       "47995 -0.002733  0.002404  0.003355 -0.002750 -0.002971  0.003086 -0.001296   \n",
       "47996  0.002200 -0.000876  0.000728 -0.001501  0.000407 -0.000545  0.000757   \n",
       "47997 -0.001628  0.001389 -0.000424  0.000037 -0.001493  0.001225 -0.000810   \n",
       "47998 -0.000392 -0.001813 -0.003384 -0.001870 -0.000467 -0.002359 -0.000304   \n",
       "47999 -0.002909 -0.001123 -0.000158  0.004132 -0.001447  0.002455  0.000631   \n",
       "\n",
       "             7         8         9   ...        90        91        92  \\\n",
       "0     -0.001994  0.007952 -0.002166  ... -0.005099 -0.000536  0.001886   \n",
       "1      0.000387  0.000300  0.000778  ... -0.001826 -0.002295  0.002905   \n",
       "2     -0.002002 -0.002609 -0.000939  ...  0.000664  0.000530 -0.000325   \n",
       "3      0.002041  0.001649 -0.001647  ...  0.001646 -0.003081  0.000933   \n",
       "4     -0.001418  0.001004 -0.001240  ...  0.000019  0.003008  0.000844   \n",
       "...         ...       ...       ...  ...       ...       ...       ...   \n",
       "47995  0.000659 -0.003260  0.002970  ...  0.002280 -0.000644 -0.001488   \n",
       "47996  0.001060  0.001171 -0.000400  ... -0.000483  0.000435  0.001070   \n",
       "47997  0.001591 -0.000017 -0.001498  ...  0.001818 -0.000529 -0.000691   \n",
       "47998 -0.002193 -0.000228 -0.000575  ... -0.001249  0.001208  0.002929   \n",
       "47999  0.002849 -0.000263 -0.000279  ...  0.000716 -0.000551  0.001973   \n",
       "\n",
       "             93        94        95        96        97        98        99  \n",
       "0      0.000732  0.000223  0.000468 -0.003362 -0.002043 -0.001117 -0.002936  \n",
       "1      0.001507 -0.002895 -0.001904  0.000687  0.001544 -0.002137 -0.002003  \n",
       "2     -0.003387 -0.001368 -0.002264  0.000406  0.001354 -0.002798 -0.000428  \n",
       "3      0.000136  0.002790 -0.000526  0.001342  0.000537  0.004943 -0.001207  \n",
       "4      0.002297 -0.008193 -0.003953 -0.004860  0.001537 -0.000011  0.001894  \n",
       "...         ...       ...       ...       ...       ...       ...       ...  \n",
       "47995  0.002847  0.002316  0.001725  0.000351 -0.001837  0.002749 -0.002498  \n",
       "47996 -0.000536  0.000311 -0.001085 -0.000585 -0.001269  0.000985 -0.000394  \n",
       "47997 -0.001115 -0.000041 -0.000726 -0.001401 -0.000321  0.000685 -0.000192  \n",
       "47998 -0.005998 -0.004378 -0.002995 -0.000952  0.001664 -0.002989 -0.000100  \n",
       "47999 -0.000768  0.000953 -0.001490 -0.001991  0.000173  0.000907  0.000951  \n",
       "\n",
       "[48000 rows x 100 columns]"
      ]
     },
     "execution_count": 22,
     "metadata": {},
     "output_type": "execute_result"
    }
   ],
   "source": [
    "X_train_word2vec_df = pd.DataFrame(X_train_word2vec)\n",
    "X_train_word2vec_df"
   ]
  },
  {
   "cell_type": "code",
   "execution_count": 25,
   "id": "bfc69eca-28c8-43fd-8769-93fc713c8865",
   "metadata": {},
   "outputs": [
    {
     "name": "stdout",
     "output_type": "stream",
     "text": [
      "Total number of tokens: 539866\n",
      "Total number of unique tokens: 16771\n"
     ]
    }
   ],
   "source": [
    "all_tokens = sum(X_train_combinedData_tokens,[])\n",
    "unique_tokens = len(set(all_tokens))\n",
    "print(f\"Total number of tokens: {len(all_tokens)}\")\n",
    "print(f\"Total number of unique tokens: {unique_tokens}\")"
   ]
  },
  {
   "cell_type": "code",
   "execution_count": 23,
   "id": "c838e4aa-e298-46b0-8a8c-655ae1bb72f5",
   "metadata": {},
   "outputs": [],
   "source": [
    "from sklearn.feature_extraction.text import TfidfVectorizer\n",
    "\n",
    "tfidf_vectorizer_vader = TfidfVectorizer(max_features=16771)  \n",
    "\n",
    "X_train_tfidf = tfidf_vectorizer_vader.fit_transform(X_train_combinedData) \n",
    "X_test_tfidf = tfidf_vectorizer_vader.transform(X_test_combinedData)"
   ]
  },
  {
   "cell_type": "code",
   "execution_count": 24,
   "id": "d515af9b-2eb2-4f24-ba18-ae529197bcb3",
   "metadata": {},
   "outputs": [
    {
     "name": "stdout",
     "output_type": "stream",
     "text": [
      "  (0, 9366)\t0.4515631924695303\n",
      "  (0, 9992)\t0.3987056760881313\n",
      "  (0, 107)\t0.46337856669356037\n",
      "  (0, 13704)\t0.46178316528066704\n",
      "  (0, 13207)\t0.45734131592741745\n",
      "  (1, 4225)\t0.28468456263892555\n",
      "  (1, 7123)\t0.3482635149702948\n",
      "  (1, 8686)\t0.23917831172157356\n",
      "  (1, 9923)\t0.19288594463826708\n",
      "  (1, 11421)\t0.248736558195512\n",
      "  (1, 14918)\t0.2600999767951401\n",
      "  (1, 15749)\t0.2884969091077781\n",
      "  (1, 6976)\t0.21920750559366256\n",
      "  (1, 8577)\t0.26111421455418\n",
      "  (1, 4451)\t0.20598758040302684\n",
      "  (1, 15037)\t0.21253818384634984\n",
      "  (1, 8937)\t0.207555394571534\n",
      "  (1, 8215)\t0.3836013786488223\n",
      "  (1, 7950)\t0.2605479305711868\n",
      "  (1, 6158)\t0.1689769852859443\n",
      "  (2, 6848)\t0.2384026535694463\n",
      "  (2, 1934)\t0.19729803023319908\n",
      "  (2, 16218)\t0.3364260397281241\n",
      "  (2, 16526)\t0.33723818544827777\n",
      "  (2, 2918)\t0.5776280113728484\n",
      "  (2, 9936)\t0.4817539340848013\n",
      "  (2, 8937)\t0.3340428349430883\n",
      "  (3, 576)\t0.2476860201631613\n",
      "  (3, 12556)\t0.46274839253659394\n",
      "  (3, 12370)\t0.31270052742611487\n",
      "  (3, 11297)\t0.25303755415338014\n",
      "  (3, 5589)\t0.21186476871777837\n",
      "  (3, 5263)\t0.41457425987521107\n",
      "  (3, 607)\t0.3561828419729993\n",
      "  (3, 83)\t0.3864276411414679\n",
      "  (3, 9992)\t0.26411153141617794\n",
      "  (4, 1699)\t0.46736377256071404\n",
      "  (4, 13573)\t0.8840651017305328\n",
      "[[0. 0. 0. ... 0. 0. 0.]\n",
      " [0. 0. 0. ... 0. 0. 0.]\n",
      " [0. 0. 0. ... 0. 0. 0.]\n",
      " ...\n",
      " [0. 0. 0. ... 0. 0. 0.]\n",
      " [0. 0. 0. ... 0. 0. 0.]\n",
      " [0. 0. 0. ... 0. 0. 0.]]\n"
     ]
    }
   ],
   "source": [
    "print(X_train_tfidf[:5])\n",
    "print(X_train_tfidf.toarray())"
   ]
  },
  {
   "cell_type": "markdown",
   "id": "9fb3e945-94ba-43ab-8e36-d824e59380ec",
   "metadata": {},
   "source": [
    "making a random subset of 5000 data, to find the best hyperparameter for each model by using RandomizedSearchCV library on this subset data, as applying this on complete dataset at once can take many hours for models like SVC to figure out the best hyperparameter "
   ]
  },
  {
   "cell_type": "code",
   "execution_count": 27,
   "id": "ea3a2110-5e2c-44da-8676-2a3e51cf5125",
   "metadata": {},
   "outputs": [],
   "source": [
    "subset_data_combined_app = balanced_data_CA_vader.sample(n=5000, random_state=42).copy()"
   ]
  },
  {
   "cell_type": "code",
   "execution_count": 28,
   "id": "3780c5b2-5db2-4294-a5c6-f798f35841c3",
   "metadata": {},
   "outputs": [
    {
     "data": {
      "text/html": [
       "<div>\n",
       "<style scoped>\n",
       "    .dataframe tbody tr th:only-of-type {\n",
       "        vertical-align: middle;\n",
       "    }\n",
       "\n",
       "    .dataframe tbody tr th {\n",
       "        vertical-align: top;\n",
       "    }\n",
       "\n",
       "    .dataframe thead th {\n",
       "        text-align: right;\n",
       "    }\n",
       "</style>\n",
       "<table border=\"1\" class=\"dataframe\">\n",
       "  <thead>\n",
       "    <tr style=\"text-align: right;\">\n",
       "      <th></th>\n",
       "      <th>ID</th>\n",
       "      <th>CleanText</th>\n",
       "      <th>rating</th>\n",
       "      <th>source</th>\n",
       "      <th>sentiment_vader</th>\n",
       "      <th>sentiment_encoded</th>\n",
       "    </tr>\n",
       "  </thead>\n",
       "  <tbody>\n",
       "    <tr>\n",
       "      <th>12628</th>\n",
       "      <td>36929</td>\n",
       "      <td>disappointed service</td>\n",
       "      <td>1</td>\n",
       "      <td>ReviewData2</td>\n",
       "      <td>negative</td>\n",
       "      <td>0</td>\n",
       "    </tr>\n",
       "    <tr>\n",
       "      <th>37730</th>\n",
       "      <td>50959</td>\n",
       "      <td>try application holiday</td>\n",
       "      <td>5</td>\n",
       "      <td>ReviewData2</td>\n",
       "      <td>positive</td>\n",
       "      <td>2</td>\n",
       "    </tr>\n",
       "    <tr>\n",
       "      <th>39991</th>\n",
       "      <td>28318</td>\n",
       "      <td>terrible provide photos tell host reason trip ...</td>\n",
       "      <td>1</td>\n",
       "      <td>ReviewData1</td>\n",
       "      <td>negative</td>\n",
       "      <td>0</td>\n",
       "    </tr>\n",
       "    <tr>\n",
       "      <th>8525</th>\n",
       "      <td>23365</td>\n",
       "      <td>absolutely brilliant experience far</td>\n",
       "      <td>5</td>\n",
       "      <td>ReviewData1</td>\n",
       "      <td>positive</td>\n",
       "      <td>2</td>\n",
       "    </tr>\n",
       "    <tr>\n",
       "      <th>8279</th>\n",
       "      <td>91759</td>\n",
       "      <td>easy use great host guests</td>\n",
       "      <td>5</td>\n",
       "      <td>ReviewData1</td>\n",
       "      <td>positive</td>\n",
       "      <td>2</td>\n",
       "    </tr>\n",
       "    <tr>\n",
       "      <th>...</th>\n",
       "      <td>...</td>\n",
       "      <td>...</td>\n",
       "      <td>...</td>\n",
       "      <td>...</td>\n",
       "      <td>...</td>\n",
       "      <td>...</td>\n",
       "    </tr>\n",
       "    <tr>\n",
       "      <th>13371</th>\n",
       "      <td>140082</td>\n",
       "      <td>husband see home housekeeper see search show w...</td>\n",
       "      <td>3</td>\n",
       "      <td>ReviewData1</td>\n",
       "      <td>neutral</td>\n",
       "      <td>1</td>\n",
       "    </tr>\n",
       "    <tr>\n",
       "      <th>16875</th>\n",
       "      <td>14839</td>\n",
       "      <td>smooth book experience</td>\n",
       "      <td>5</td>\n",
       "      <td>ReviewData1</td>\n",
       "      <td>neutral</td>\n",
       "      <td>1</td>\n",
       "    </tr>\n",
       "    <tr>\n",
       "      <th>11400</th>\n",
       "      <td>141818</td>\n",
       "      <td>dont think oh login whats</td>\n",
       "      <td>1</td>\n",
       "      <td>ReviewData1</td>\n",
       "      <td>neutral</td>\n",
       "      <td>1</td>\n",
       "    </tr>\n",
       "    <tr>\n",
       "      <th>39680</th>\n",
       "      <td>52977</td>\n",
       "      <td>wonderful experience make trips much affordabl...</td>\n",
       "      <td>5</td>\n",
       "      <td>ReviewData1</td>\n",
       "      <td>positive</td>\n",
       "      <td>2</td>\n",
       "    </tr>\n",
       "    <tr>\n",
       "      <th>29731</th>\n",
       "      <td>87836</td>\n",
       "      <td>places advert good guess tell good far</td>\n",
       "      <td>4</td>\n",
       "      <td>ReviewData1</td>\n",
       "      <td>positive</td>\n",
       "      <td>2</td>\n",
       "    </tr>\n",
       "  </tbody>\n",
       "</table>\n",
       "<p>5000 rows × 6 columns</p>\n",
       "</div>"
      ],
      "text/plain": [
       "           ID                                          CleanText  rating  \\\n",
       "12628   36929                               disappointed service       1   \n",
       "37730   50959                            try application holiday       5   \n",
       "39991   28318  terrible provide photos tell host reason trip ...       1   \n",
       "8525    23365                absolutely brilliant experience far       5   \n",
       "8279    91759                         easy use great host guests       5   \n",
       "...       ...                                                ...     ...   \n",
       "13371  140082  husband see home housekeeper see search show w...       3   \n",
       "16875   14839                             smooth book experience       5   \n",
       "11400  141818                          dont think oh login whats       1   \n",
       "39680   52977  wonderful experience make trips much affordabl...       5   \n",
       "29731   87836             places advert good guess tell good far       4   \n",
       "\n",
       "            source sentiment_vader  sentiment_encoded  \n",
       "12628  ReviewData2        negative                  0  \n",
       "37730  ReviewData2        positive                  2  \n",
       "39991  ReviewData1        negative                  0  \n",
       "8525   ReviewData1        positive                  2  \n",
       "8279   ReviewData1        positive                  2  \n",
       "...            ...             ...                ...  \n",
       "13371  ReviewData1         neutral                  1  \n",
       "16875  ReviewData1         neutral                  1  \n",
       "11400  ReviewData1         neutral                  1  \n",
       "39680  ReviewData1        positive                  2  \n",
       "29731  ReviewData1        positive                  2  \n",
       "\n",
       "[5000 rows x 6 columns]"
      ]
     },
     "execution_count": 28,
     "metadata": {},
     "output_type": "execute_result"
    }
   ],
   "source": [
    "subset_data_combined_app "
   ]
  },
  {
   "cell_type": "code",
   "execution_count": 29,
   "id": "98a0450d-6b48-43c9-a4bb-15a90bea5a64",
   "metadata": {},
   "outputs": [],
   "source": [
    "subset_combinedData_tokens = tokenize_text(subset_data_combined_app ['CleanText'])"
   ]
  },
  {
   "cell_type": "code",
   "execution_count": 30,
   "id": "a0d5304a-d857-45da-9e9e-666280f7f2e6",
   "metadata": {},
   "outputs": [
    {
     "data": {
      "text/plain": [
       "['disappointed', 'service']"
      ]
     },
     "execution_count": 30,
     "metadata": {},
     "output_type": "execute_result"
    }
   ],
   "source": [
    "subset_combinedData_tokens[0]"
   ]
  },
  {
   "cell_type": "code",
   "execution_count": 57,
   "id": "db8356db-4534-4766-90f9-47dfb43630e9",
   "metadata": {},
   "outputs": [
    {
     "name": "stdout",
     "output_type": "stream",
     "text": [
      "Total number of tokens: 57237\n",
      "Total number of unique tokens: 6075\n"
     ]
    }
   ],
   "source": [
    "all_tokens1 = sum(subset_combinedData_tokens,[])\n",
    "unique_tokens1 = len(set(all_tokens1))\n",
    "print(f\"Total number of tokens: {len(all_tokens1)}\")\n",
    "print(f\"Total number of unique tokens: {unique_tokens1}\")"
   ]
  },
  {
   "cell_type": "code",
   "execution_count": 31,
   "id": "b9ba9373-9424-410e-8971-0a09c39df8d0",
   "metadata": {},
   "outputs": [],
   "source": [
    "subset_combinedData_word2vec = np.array([average_word_vectors(tokens, word2vec_model_vader.wv, vocabulary_combinedData, word2vec_model_vader.vector_size) for tokens in subset_combinedData_tokens])"
   ]
  },
  {
   "cell_type": "code",
   "execution_count": 32,
   "id": "4462ee4f-286e-4560-ae97-278559372b5a",
   "metadata": {},
   "outputs": [],
   "source": [
    "subset_tfidf_vectorizer = TfidfVectorizer(max_features=6075)\n",
    "subset_combinedData_tfidf= subset_tfidf_vectorizer.fit_transform(subset_data_combined_app['CleanText'])"
   ]
  },
  {
   "cell_type": "code",
   "execution_count": 77,
   "id": "93235a86-1b16-4c7e-a190-ada795d917f2",
   "metadata": {},
   "outputs": [
    {
     "name": "stdout",
     "output_type": "stream",
     "text": [
      "{'n_estimators': [10, 14, 19, 24, 28, 33, 38, 43, 47, 52, 57, 62, 66, 71, 76, 81, 85, 90, 95, 100], 'max_features': [1, 'sqrt', 'log2'], 'max_depth': [10, 20, 30, 40], 'min_samples_split': [2, 5, 10, 15], 'min_samples_leaf': [1, 2, 5, 10]}\n"
     ]
    }
   ],
   "source": [
    "#parameters in random forest\n",
    "n_estimators = [int(x) for x in np.linspace(start = 10, stop = 100, num = 20)] #tree number\n",
    "max_features = [1, 'sqrt','log2']\n",
    "max_depth = [10,20,30,40]\n",
    "min_samples_split = [2, 5, 10, 15]\n",
    "min_samples_leaf = [1, 2, 5, 10]\n",
    "\n",
    "# Create the param grid\n",
    "param_grid_forest = {'n_estimators': n_estimators,\n",
    "               'max_features': max_features,\n",
    "               'max_depth': max_depth,\n",
    "               'min_samples_split': min_samples_split,\n",
    "               'min_samples_leaf': min_samples_leaf}\n",
    "print(param_grid_forest)"
   ]
  },
  {
   "cell_type": "code",
   "execution_count": 33,
   "id": "1463c729-01df-4778-a6db-c0e5c58f1c87",
   "metadata": {},
   "outputs": [
    {
     "name": "stdout",
     "output_type": "stream",
     "text": [
      "{'min_child_weight': [1, 5, 10], 'gamma': [0.5, 1, 1.5, 2, 5], 'subsample': [0.6, 0.8, 1.0], 'colsample_bytree': [0.6, 0.8, 1.0], 'max_depth': [3, 4, 5]}\n"
     ]
    }
   ],
   "source": [
    "#parameter grid for XGBoost\n",
    "param_grid_xgb = {\n",
    "        'min_child_weight': [1, 5, 10],\n",
    "        'gamma': [0.5, 1, 1.5, 2, 5],\n",
    "        'subsample': [0.6, 0.8, 1.0],\n",
    "        'colsample_bytree': [0.6, 0.8, 1.0],\n",
    "        'max_depth': [3, 4, 5]\n",
    "        }\n",
    "print(param_grid_xgb)"
   ]
  },
  {
   "cell_type": "code",
   "execution_count": 61,
   "id": "2ddfbfc3-b164-4d7a-814d-d41c4b294cd0",
   "metadata": {},
   "outputs": [
    {
     "name": "stdout",
     "output_type": "stream",
     "text": [
      "{'var_smoothing': [1e-11, 1e-10, 1e-09, 1e-08, 1e-07, 1e-06, 1e-05]}\n"
     ]
    }
   ],
   "source": [
    "#parameters in MNB\n",
    "param_grid_nb = {\n",
    "    'var_smoothing': [1e-11, 1e-10, 1e-9, 1e-8, 1e-7, 1e-6, 1e-5]\n",
    "}\n",
    "print(param_grid_nb)"
   ]
  },
  {
   "cell_type": "code",
   "execution_count": 62,
   "id": "0f89f8f6-5d28-4a7f-a1a0-7887c13bb3ce",
   "metadata": {},
   "outputs": [
    {
     "name": "stdout",
     "output_type": "stream",
     "text": [
      "{'C': [1, 10, 100, 1000], 'kernel': ['linear', 'poly', 'rbf', 'sigmoid'], 'degree': [1, 2, 3, 4]}\n"
     ]
    }
   ],
   "source": [
    "#parameters in SVC\n",
    "param_grid_svc = {'C': [1, 10, 100, 1000],\n",
    "                  'kernel': ['linear','poly','rbf','sigmoid'],\n",
    "                  'degree': [1,2,3,4]}\n",
    "print(param_grid_svc)"
   ]
  },
  {
   "cell_type": "code",
   "execution_count": 63,
   "id": "4e3aec3d-9efe-49f2-868c-1cfbcebd362b",
   "metadata": {},
   "outputs": [
    {
     "name": "stdout",
     "output_type": "stream",
     "text": [
      "{'C': [0.01, 0.1, 1, 10, 100], 'penalty': ['l1', 'l2', 'elasticnet', 'none'], 'solver': ['liblinear', 'saga'], 'max_iter': [100, 200, 300]}\n"
     ]
    }
   ],
   "source": [
    "#parameter in logistic regression\n",
    "param_grid_logreg = {\n",
    "    'C': [0.01, 0.1, 1, 10, 100],\n",
    "    'penalty': ['l1', 'l2', 'elasticnet', 'none'],\n",
    "    'solver': ['liblinear', 'saga'],  # 'saga' supports elasticnet but 'liblinear' does not\n",
    "    'max_iter': [100, 200, 300]\n",
    "}\n",
    "print(param_grid_logreg)"
   ]
  },
  {
   "cell_type": "code",
   "execution_count": 2,
   "id": "08a2c36d-0f38-49c9-864e-89ae81182a0e",
   "metadata": {
    "collapsed": true,
    "jupyter": {
     "outputs_hidden": true
    }
   },
   "outputs": [
    {
     "name": "stdout",
     "output_type": "stream",
     "text": [
      "Collecting xgboost\n",
      "  Downloading xgboost-2.1.0-py3-none-win_amd64.whl.metadata (2.1 kB)\n",
      "Requirement already satisfied: numpy in c:\\users\\anish\\anaconda3\\envs\\gputest\\lib\\site-packages (from xgboost) (1.23.5)\n",
      "Requirement already satisfied: scipy in c:\\users\\anish\\anaconda3\\envs\\gputest\\lib\\site-packages (from xgboost) (1.10.1)\n",
      "Downloading xgboost-2.1.0-py3-none-win_amd64.whl (124.9 MB)\n",
      "   ---------------------------------------- 0.0/124.9 MB ? eta -:--:--\n",
      "   ---------------------------------------- 0.0/124.9 MB ? eta -:--:--\n",
      "   ---------------------------------------- 0.0/124.9 MB 435.7 kB/s eta 0:04:47\n",
      "   ---------------------------------------- 0.0/124.9 MB 393.8 kB/s eta 0:05:18\n",
      "   ---------------------------------------- 0.0/124.9 MB 393.8 kB/s eta 0:05:18\n",
      "   ---------------------------------------- 0.1/124.9 MB 272.3 kB/s eta 0:07:39\n",
      "   ---------------------------------------- 0.1/124.9 MB 532.5 kB/s eta 0:03:55\n",
      "   ---------------------------------------- 0.2/124.9 MB 577.4 kB/s eta 0:03:37\n",
      "   ---------------------------------------- 0.2/124.9 MB 513.4 kB/s eta 0:04:03\n",
      "   ---------------------------------------- 0.2/124.9 MB 602.4 kB/s eta 0:03:27\n",
      "   ---------------------------------------- 0.3/124.9 MB 655.5 kB/s eta 0:03:11\n",
      "   ---------------------------------------- 0.4/124.9 MB 716.8 kB/s eta 0:02:54\n",
      "   ---------------------------------------- 0.4/124.9 MB 745.7 kB/s eta 0:02:47\n",
      "   ---------------------------------------- 0.5/124.9 MB 896.4 kB/s eta 0:02:19\n",
      "   ---------------------------------------- 0.6/124.9 MB 926.6 kB/s eta 0:02:15\n",
      "   ---------------------------------------- 0.7/124.9 MB 982.3 kB/s eta 0:02:07\n",
      "   ---------------------------------------- 0.8/124.9 MB 1.0 MB/s eta 0:02:01\n",
      "   ---------------------------------------- 0.8/124.9 MB 1.1 MB/s eta 0:01:56\n",
      "   ---------------------------------------- 0.9/124.9 MB 1.1 MB/s eta 0:01:52\n",
      "   ---------------------------------------- 1.0/124.9 MB 1.1 MB/s eta 0:01:49\n",
      "   ---------------------------------------- 1.1/124.9 MB 1.2 MB/s eta 0:01:47\n",
      "   ---------------------------------------- 1.2/124.9 MB 1.2 MB/s eta 0:01:42\n",
      "   ---------------------------------------- 1.3/124.9 MB 1.3 MB/s eta 0:01:39\n",
      "   ---------------------------------------- 1.4/124.9 MB 1.3 MB/s eta 0:01:35\n",
      "   ---------------------------------------- 1.5/124.9 MB 1.3 MB/s eta 0:01:35\n",
      "    --------------------------------------- 1.6/124.9 MB 1.4 MB/s eta 0:01:31\n",
      "    --------------------------------------- 1.7/124.9 MB 1.4 MB/s eta 0:01:29\n",
      "    --------------------------------------- 1.8/124.9 MB 1.4 MB/s eta 0:01:27\n",
      "    --------------------------------------- 1.9/124.9 MB 1.5 MB/s eta 0:01:25\n",
      "    --------------------------------------- 2.0/124.9 MB 1.5 MB/s eta 0:01:23\n",
      "    --------------------------------------- 2.2/124.9 MB 1.5 MB/s eta 0:01:20\n",
      "    --------------------------------------- 2.3/124.9 MB 1.6 MB/s eta 0:01:17\n",
      "    --------------------------------------- 2.5/124.9 MB 1.7 MB/s eta 0:01:14\n",
      "    --------------------------------------- 2.7/124.9 MB 1.7 MB/s eta 0:01:11\n",
      "    --------------------------------------- 2.9/124.9 MB 1.8 MB/s eta 0:01:07\n",
      "   - -------------------------------------- 3.1/124.9 MB 1.9 MB/s eta 0:01:04\n",
      "   - -------------------------------------- 3.4/124.9 MB 2.0 MB/s eta 0:01:02\n",
      "   - -------------------------------------- 3.6/124.9 MB 2.1 MB/s eta 0:00:59\n",
      "   - -------------------------------------- 3.9/124.9 MB 2.1 MB/s eta 0:00:57\n",
      "   - -------------------------------------- 4.1/124.9 MB 2.2 MB/s eta 0:00:55\n",
      "   - -------------------------------------- 4.3/124.9 MB 2.3 MB/s eta 0:00:53\n",
      "   - -------------------------------------- 4.5/124.9 MB 2.4 MB/s eta 0:00:52\n",
      "   - -------------------------------------- 4.8/124.9 MB 2.4 MB/s eta 0:00:50\n",
      "   - -------------------------------------- 5.0/124.9 MB 2.5 MB/s eta 0:00:49\n",
      "   - -------------------------------------- 5.3/124.9 MB 2.6 MB/s eta 0:00:47\n",
      "   - -------------------------------------- 5.6/124.9 MB 2.6 MB/s eta 0:00:46\n",
      "   - -------------------------------------- 5.9/124.9 MB 2.7 MB/s eta 0:00:44\n",
      "   - -------------------------------------- 6.2/124.9 MB 2.8 MB/s eta 0:00:43\n",
      "   -- ------------------------------------- 6.4/124.9 MB 2.8 MB/s eta 0:00:42\n",
      "   -- ------------------------------------- 6.7/124.9 MB 2.9 MB/s eta 0:00:41\n",
      "   -- ------------------------------------- 7.0/124.9 MB 3.0 MB/s eta 0:00:40\n",
      "   -- ------------------------------------- 7.4/124.9 MB 3.1 MB/s eta 0:00:39\n",
      "   -- ------------------------------------- 7.7/124.9 MB 3.1 MB/s eta 0:00:38\n",
      "   -- ------------------------------------- 8.0/124.9 MB 3.2 MB/s eta 0:00:37\n",
      "   -- ------------------------------------- 8.4/124.9 MB 3.3 MB/s eta 0:00:36\n",
      "   -- ------------------------------------- 8.7/124.9 MB 3.4 MB/s eta 0:00:35\n",
      "   -- ------------------------------------- 9.1/124.9 MB 3.4 MB/s eta 0:00:34\n",
      "   --- ------------------------------------ 9.4/124.9 MB 3.5 MB/s eta 0:00:34\n",
      "   --- ------------------------------------ 9.8/124.9 MB 3.6 MB/s eta 0:00:33\n",
      "   --- ------------------------------------ 10.2/124.9 MB 3.7 MB/s eta 0:00:32\n",
      "   --- ------------------------------------ 10.5/124.9 MB 4.3 MB/s eta 0:00:27\n",
      "   --- ------------------------------------ 11.0/124.9 MB 4.8 MB/s eta 0:00:24\n",
      "   --- ------------------------------------ 11.4/124.9 MB 5.2 MB/s eta 0:00:22\n",
      "   --- ------------------------------------ 11.8/124.9 MB 5.7 MB/s eta 0:00:20\n",
      "   --- ------------------------------------ 12.3/124.9 MB 6.2 MB/s eta 0:00:19\n",
      "   ---- ----------------------------------- 12.7/124.9 MB 6.5 MB/s eta 0:00:18\n",
      "   ---- ----------------------------------- 13.1/124.9 MB 6.7 MB/s eta 0:00:17\n",
      "   ---- ----------------------------------- 13.5/124.9 MB 7.0 MB/s eta 0:00:16\n",
      "   ---- ----------------------------------- 14.0/124.9 MB 7.1 MB/s eta 0:00:16\n",
      "   ---- ----------------------------------- 14.4/124.9 MB 7.4 MB/s eta 0:00:16\n",
      "   ---- ----------------------------------- 14.9/124.9 MB 7.6 MB/s eta 0:00:15\n",
      "   ---- ----------------------------------- 15.3/124.9 MB 7.7 MB/s eta 0:00:15\n",
      "   ----- ---------------------------------- 15.8/124.9 MB 7.9 MB/s eta 0:00:14\n",
      "   ----- ---------------------------------- 16.4/124.9 MB 8.3 MB/s eta 0:00:14\n",
      "   ----- ---------------------------------- 16.8/124.9 MB 8.4 MB/s eta 0:00:13\n",
      "   ----- ---------------------------------- 16.9/124.9 MB 8.4 MB/s eta 0:00:13\n",
      "   ----- ---------------------------------- 17.0/124.9 MB 8.1 MB/s eta 0:00:14\n",
      "   ----- ---------------------------------- 17.0/124.9 MB 8.1 MB/s eta 0:00:14\n",
      "   ----- ---------------------------------- 17.0/124.9 MB 7.5 MB/s eta 0:00:15\n",
      "   ----- ---------------------------------- 17.6/124.9 MB 7.4 MB/s eta 0:00:15\n",
      "   ----- ---------------------------------- 17.6/124.9 MB 7.3 MB/s eta 0:00:15\n",
      "   ----- ---------------------------------- 17.6/124.9 MB 7.3 MB/s eta 0:00:15\n",
      "   ----- ---------------------------------- 17.6/124.9 MB 7.3 MB/s eta 0:00:15\n",
      "   ----- ---------------------------------- 18.2/124.9 MB 7.2 MB/s eta 0:00:15\n",
      "   ----- ---------------------------------- 18.6/124.9 MB 7.2 MB/s eta 0:00:15\n",
      "   ------ --------------------------------- 18.8/124.9 MB 7.0 MB/s eta 0:00:16\n",
      "   ------ --------------------------------- 18.8/124.9 MB 7.0 MB/s eta 0:00:16\n",
      "   ------ --------------------------------- 19.3/124.9 MB 6.9 MB/s eta 0:00:16\n",
      "   ------ --------------------------------- 19.3/124.9 MB 6.9 MB/s eta 0:00:16\n",
      "   ------ --------------------------------- 19.6/124.9 MB 6.6 MB/s eta 0:00:16\n",
      "   ------ --------------------------------- 20.1/124.9 MB 6.7 MB/s eta 0:00:16\n",
      "   ------ --------------------------------- 21.1/124.9 MB 7.0 MB/s eta 0:00:15\n",
      "   ------ --------------------------------- 21.4/124.9 MB 7.0 MB/s eta 0:00:15\n",
      "   ------ --------------------------------- 21.6/124.9 MB 6.7 MB/s eta 0:00:16\n",
      "   ------ --------------------------------- 21.8/124.9 MB 6.7 MB/s eta 0:00:16\n",
      "   ------- -------------------------------- 22.0/124.9 MB 6.6 MB/s eta 0:00:16\n",
      "   ------- -------------------------------- 22.3/124.9 MB 6.5 MB/s eta 0:00:16\n",
      "   ------- -------------------------------- 22.5/124.9 MB 6.4 MB/s eta 0:00:16\n",
      "   ------- -------------------------------- 22.7/124.9 MB 6.4 MB/s eta 0:00:16\n",
      "   ------- -------------------------------- 22.9/124.9 MB 6.2 MB/s eta 0:00:17\n",
      "   ------- -------------------------------- 23.2/124.9 MB 6.2 MB/s eta 0:00:17\n",
      "   ------- -------------------------------- 23.4/124.9 MB 6.1 MB/s eta 0:00:17\n",
      "   ------- -------------------------------- 23.6/124.9 MB 6.0 MB/s eta 0:00:17\n",
      "   ------- -------------------------------- 23.8/124.9 MB 5.9 MB/s eta 0:00:18\n",
      "   ------- -------------------------------- 24.1/124.9 MB 5.8 MB/s eta 0:00:18\n",
      "   ------- -------------------------------- 24.3/124.9 MB 5.7 MB/s eta 0:00:18\n",
      "   ------- -------------------------------- 24.5/124.9 MB 5.7 MB/s eta 0:00:18\n",
      "   ------- -------------------------------- 24.7/124.9 MB 5.6 MB/s eta 0:00:18\n",
      "   ------- -------------------------------- 25.0/124.9 MB 5.5 MB/s eta 0:00:19\n",
      "   -------- ------------------------------- 25.2/124.9 MB 5.5 MB/s eta 0:00:19\n",
      "   -------- ------------------------------- 25.4/124.9 MB 5.4 MB/s eta 0:00:19\n",
      "   -------- ------------------------------- 25.6/124.9 MB 5.3 MB/s eta 0:00:19\n",
      "   -------- ------------------------------- 25.9/124.9 MB 5.3 MB/s eta 0:00:19\n",
      "   -------- ------------------------------- 26.1/124.9 MB 5.2 MB/s eta 0:00:19\n",
      "   -------- ------------------------------- 26.3/124.9 MB 5.1 MB/s eta 0:00:20\n",
      "   -------- ------------------------------- 26.6/124.9 MB 5.1 MB/s eta 0:00:20\n",
      "   -------- ------------------------------- 26.8/124.9 MB 5.0 MB/s eta 0:00:20\n",
      "   -------- ------------------------------- 27.0/124.9 MB 5.0 MB/s eta 0:00:20\n",
      "   -------- ------------------------------- 27.2/124.9 MB 5.5 MB/s eta 0:00:18\n",
      "   -------- ------------------------------- 27.5/124.9 MB 5.4 MB/s eta 0:00:19\n",
      "   -------- ------------------------------- 27.7/124.9 MB 5.2 MB/s eta 0:00:19\n",
      "   -------- ------------------------------- 27.9/124.9 MB 5.6 MB/s eta 0:00:18\n",
      "   --------- ------------------------------ 28.1/124.9 MB 5.5 MB/s eta 0:00:18\n",
      "   --------- ------------------------------ 28.4/124.9 MB 5.3 MB/s eta 0:00:19\n",
      "   --------- ------------------------------ 28.6/124.9 MB 5.3 MB/s eta 0:00:19\n",
      "   --------- ------------------------------ 28.8/124.9 MB 5.2 MB/s eta 0:00:19\n",
      "   --------- ------------------------------ 29.0/124.9 MB 5.3 MB/s eta 0:00:19\n",
      "   --------- ------------------------------ 29.3/124.9 MB 5.3 MB/s eta 0:00:18\n",
      "   --------- ------------------------------ 29.5/124.9 MB 5.2 MB/s eta 0:00:19\n",
      "   --------- ------------------------------ 29.7/124.9 MB 5.3 MB/s eta 0:00:18\n",
      "   --------- ------------------------------ 30.0/124.9 MB 5.3 MB/s eta 0:00:18\n",
      "   --------- ------------------------------ 30.2/124.9 MB 5.2 MB/s eta 0:00:19\n",
      "   --------- ------------------------------ 30.4/124.9 MB 5.2 MB/s eta 0:00:19\n",
      "   --------- ------------------------------ 30.6/124.9 MB 5.1 MB/s eta 0:00:19\n",
      "   --------- ------------------------------ 30.9/124.9 MB 5.0 MB/s eta 0:00:19\n",
      "   --------- ------------------------------ 31.1/124.9 MB 4.8 MB/s eta 0:00:20\n",
      "   ---------- ----------------------------- 31.3/124.9 MB 4.8 MB/s eta 0:00:20\n",
      "   ---------- ----------------------------- 31.5/124.9 MB 4.8 MB/s eta 0:00:20\n",
      "   ---------- ----------------------------- 31.8/124.9 MB 4.8 MB/s eta 0:00:20\n",
      "   ---------- ----------------------------- 32.0/124.9 MB 4.8 MB/s eta 0:00:20\n",
      "   ---------- ----------------------------- 32.2/124.9 MB 4.8 MB/s eta 0:00:20\n",
      "   ---------- ----------------------------- 32.5/124.9 MB 4.8 MB/s eta 0:00:20\n",
      "   ---------- ----------------------------- 32.7/124.9 MB 4.7 MB/s eta 0:00:20\n",
      "   ---------- ----------------------------- 32.9/124.9 MB 4.7 MB/s eta 0:00:20\n",
      "   ---------- ----------------------------- 33.1/124.9 MB 4.8 MB/s eta 0:00:20\n",
      "   ---------- ----------------------------- 33.4/124.9 MB 4.8 MB/s eta 0:00:20\n",
      "   ---------- ----------------------------- 33.6/124.9 MB 4.8 MB/s eta 0:00:20\n",
      "   ---------- ----------------------------- 33.8/124.9 MB 4.7 MB/s eta 0:00:20\n",
      "   ---------- ----------------------------- 34.0/124.9 MB 4.8 MB/s eta 0:00:19\n",
      "   ---------- ----------------------------- 34.2/124.9 MB 4.8 MB/s eta 0:00:19\n",
      "   ----------- ---------------------------- 34.5/124.9 MB 4.8 MB/s eta 0:00:19\n",
      "   ----------- ---------------------------- 34.8/124.9 MB 4.9 MB/s eta 0:00:19\n",
      "   ----------- ---------------------------- 34.9/124.9 MB 4.8 MB/s eta 0:00:19\n",
      "   ----------- ---------------------------- 34.9/124.9 MB 4.8 MB/s eta 0:00:19\n",
      "   ----------- ---------------------------- 35.6/124.9 MB 4.9 MB/s eta 0:00:19\n",
      "   ----------- ---------------------------- 35.8/124.9 MB 4.9 MB/s eta 0:00:19\n",
      "   ----------- ---------------------------- 36.1/124.9 MB 4.9 MB/s eta 0:00:19\n",
      "   ----------- ---------------------------- 36.4/124.9 MB 4.9 MB/s eta 0:00:18\n",
      "   ----------- ---------------------------- 36.7/124.9 MB 5.0 MB/s eta 0:00:18\n",
      "   ----------- ---------------------------- 37.0/124.9 MB 5.0 MB/s eta 0:00:18\n",
      "   ----------- ---------------------------- 37.3/124.9 MB 5.1 MB/s eta 0:00:18\n",
      "   ----------- ---------------------------- 37.3/124.9 MB 5.1 MB/s eta 0:00:18\n",
      "   ----------- ---------------------------- 37.3/124.9 MB 5.1 MB/s eta 0:00:18\n",
      "   ------------ --------------------------- 37.8/124.9 MB 5.0 MB/s eta 0:00:18\n",
      "   ------------ --------------------------- 37.9/124.9 MB 5.0 MB/s eta 0:00:18\n",
      "   ------------ --------------------------- 38.0/124.9 MB 4.8 MB/s eta 0:00:19\n",
      "   ------------ --------------------------- 38.1/124.9 MB 4.9 MB/s eta 0:00:18\n",
      "   ------------ --------------------------- 38.5/124.9 MB 4.8 MB/s eta 0:00:18\n",
      "   ------------ --------------------------- 38.6/124.9 MB 4.9 MB/s eta 0:00:18\n",
      "   ------------ --------------------------- 39.0/124.9 MB 4.9 MB/s eta 0:00:18\n",
      "   ------------ --------------------------- 39.0/124.9 MB 4.9 MB/s eta 0:00:18\n",
      "   ------------ --------------------------- 39.4/124.9 MB 4.9 MB/s eta 0:00:18\n",
      "   ------------ --------------------------- 39.4/124.9 MB 4.9 MB/s eta 0:00:18\n",
      "   ------------ --------------------------- 39.9/124.9 MB 4.9 MB/s eta 0:00:18\n",
      "   ------------ --------------------------- 39.9/124.9 MB 4.9 MB/s eta 0:00:18\n",
      "   ------------ --------------------------- 40.1/124.9 MB 4.9 MB/s eta 0:00:18\n",
      "   ------------- -------------------------- 40.8/124.9 MB 5.0 MB/s eta 0:00:17\n",
      "   ------------- -------------------------- 40.9/124.9 MB 5.0 MB/s eta 0:00:17\n",
      "   ------------- -------------------------- 41.2/124.9 MB 5.0 MB/s eta 0:00:17\n",
      "   ------------- -------------------------- 41.5/124.9 MB 5.0 MB/s eta 0:00:17\n",
      "   ------------- -------------------------- 41.6/124.9 MB 5.0 MB/s eta 0:00:17\n",
      "   ------------- -------------------------- 41.6/124.9 MB 5.0 MB/s eta 0:00:17\n",
      "   ------------- -------------------------- 42.1/124.9 MB 5.0 MB/s eta 0:00:17\n",
      "   ------------- -------------------------- 42.5/124.9 MB 5.0 MB/s eta 0:00:17\n",
      "   ------------- -------------------------- 42.8/124.9 MB 5.0 MB/s eta 0:00:17\n",
      "   ------------- -------------------------- 43.0/124.9 MB 5.1 MB/s eta 0:00:17\n",
      "   ------------- -------------------------- 43.1/124.9 MB 5.0 MB/s eta 0:00:17\n",
      "   ------------- -------------------------- 43.4/124.9 MB 5.0 MB/s eta 0:00:17\n",
      "   ------------- -------------------------- 43.6/124.9 MB 5.0 MB/s eta 0:00:17\n",
      "   -------------- ------------------------- 43.9/124.9 MB 5.1 MB/s eta 0:00:16\n",
      "   -------------- ------------------------- 44.1/124.9 MB 5.1 MB/s eta 0:00:16\n",
      "   -------------- ------------------------- 44.3/124.9 MB 5.0 MB/s eta 0:00:17\n",
      "   -------------- ------------------------- 44.6/124.9 MB 5.0 MB/s eta 0:00:16\n",
      "   -------------- ------------------------- 44.8/124.9 MB 5.0 MB/s eta 0:00:16\n",
      "   -------------- ------------------------- 45.0/124.9 MB 5.0 MB/s eta 0:00:16\n",
      "   -------------- ------------------------- 45.3/124.9 MB 5.2 MB/s eta 0:00:16\n",
      "   -------------- ------------------------- 45.6/124.9 MB 5.1 MB/s eta 0:00:16\n",
      "   -------------- ------------------------- 45.8/124.9 MB 5.0 MB/s eta 0:00:16\n",
      "   -------------- ------------------------- 46.1/124.9 MB 5.0 MB/s eta 0:00:16\n",
      "   -------------- ------------------------- 46.3/124.9 MB 5.0 MB/s eta 0:00:16\n",
      "   -------------- ------------------------- 46.5/124.9 MB 5.0 MB/s eta 0:00:16\n",
      "   -------------- ------------------------- 46.8/124.9 MB 4.9 MB/s eta 0:00:16\n",
      "   --------------- ------------------------ 47.1/124.9 MB 4.9 MB/s eta 0:00:16\n",
      "   --------------- ------------------------ 47.3/124.9 MB 4.9 MB/s eta 0:00:16\n",
      "   --------------- ------------------------ 47.5/124.9 MB 4.8 MB/s eta 0:00:16\n",
      "   --------------- ------------------------ 47.7/124.9 MB 5.1 MB/s eta 0:00:16\n",
      "   --------------- ------------------------ 47.9/124.9 MB 5.0 MB/s eta 0:00:16\n",
      "   --------------- ------------------------ 48.1/124.9 MB 5.1 MB/s eta 0:00:16\n",
      "   --------------- ------------------------ 48.4/124.9 MB 5.2 MB/s eta 0:00:15\n",
      "   --------------- ------------------------ 48.6/124.9 MB 5.1 MB/s eta 0:00:15\n",
      "   --------------- ------------------------ 48.9/124.9 MB 5.2 MB/s eta 0:00:15\n",
      "   --------------- ------------------------ 49.1/124.9 MB 5.0 MB/s eta 0:00:16\n",
      "   --------------- ------------------------ 49.4/124.9 MB 5.1 MB/s eta 0:00:15\n",
      "   --------------- ------------------------ 49.6/124.9 MB 5.1 MB/s eta 0:00:15\n",
      "   --------------- ------------------------ 49.8/124.9 MB 5.1 MB/s eta 0:00:15\n",
      "   --------------- ------------------------ 49.8/124.9 MB 5.1 MB/s eta 0:00:15\n",
      "   ---------------- ----------------------- 50.3/124.9 MB 5.1 MB/s eta 0:00:15\n",
      "   ---------------- ----------------------- 50.5/124.9 MB 5.1 MB/s eta 0:00:15\n",
      "   ---------------- ----------------------- 50.7/124.9 MB 5.0 MB/s eta 0:00:15\n",
      "   ---------------- ----------------------- 51.0/124.9 MB 4.9 MB/s eta 0:00:16\n",
      "   ---------------- ----------------------- 51.2/124.9 MB 5.0 MB/s eta 0:00:15\n",
      "   ---------------- ----------------------- 51.5/124.9 MB 5.0 MB/s eta 0:00:15\n",
      "   ---------------- ----------------------- 51.7/124.9 MB 5.0 MB/s eta 0:00:15\n",
      "   ---------------- ----------------------- 52.0/124.9 MB 5.1 MB/s eta 0:00:15\n",
      "   ---------------- ----------------------- 52.1/124.9 MB 5.0 MB/s eta 0:00:15\n",
      "   ---------------- ----------------------- 52.1/124.9 MB 5.0 MB/s eta 0:00:15\n",
      "   ---------------- ----------------------- 52.7/124.9 MB 5.0 MB/s eta 0:00:15\n",
      "   ---------------- ----------------------- 52.8/124.9 MB 5.0 MB/s eta 0:00:15\n",
      "   ----------------- ---------------------- 53.2/124.9 MB 4.9 MB/s eta 0:00:15\n",
      "   ----------------- ---------------------- 53.4/124.9 MB 5.0 MB/s eta 0:00:15\n",
      "   ----------------- ---------------------- 53.6/124.9 MB 5.0 MB/s eta 0:00:15\n",
      "   ----------------- ---------------------- 53.8/124.9 MB 5.0 MB/s eta 0:00:15\n",
      "   ----------------- ---------------------- 54.3/124.9 MB 5.0 MB/s eta 0:00:15\n",
      "   ----------------- ---------------------- 54.3/124.9 MB 5.0 MB/s eta 0:00:15\n",
      "   ----------------- ---------------------- 54.7/124.9 MB 5.0 MB/s eta 0:00:15\n",
      "   ----------------- ---------------------- 54.7/124.9 MB 5.0 MB/s eta 0:00:15\n",
      "   ----------------- ---------------------- 55.0/124.9 MB 5.0 MB/s eta 0:00:14\n",
      "   ----------------- ---------------------- 55.2/124.9 MB 4.9 MB/s eta 0:00:15\n",
      "   ----------------- ---------------------- 55.4/124.9 MB 4.9 MB/s eta 0:00:15\n",
      "   ----------------- ---------------------- 55.9/124.9 MB 5.0 MB/s eta 0:00:14\n",
      "   ----------------- ---------------------- 56.1/124.9 MB 5.0 MB/s eta 0:00:14\n",
      "   ------------------ --------------------- 56.4/124.9 MB 5.0 MB/s eta 0:00:14\n",
      "   ------------------ --------------------- 56.6/124.9 MB 5.0 MB/s eta 0:00:14\n",
      "   ------------------ --------------------- 56.7/124.9 MB 5.0 MB/s eta 0:00:14\n",
      "   ------------------ --------------------- 56.9/124.9 MB 5.0 MB/s eta 0:00:14\n",
      "   ------------------ --------------------- 57.3/124.9 MB 5.0 MB/s eta 0:00:14\n",
      "   ------------------ --------------------- 57.3/124.9 MB 5.0 MB/s eta 0:00:14\n",
      "   ------------------ --------------------- 57.4/124.9 MB 4.9 MB/s eta 0:00:14\n",
      "   ------------------ --------------------- 57.4/124.9 MB 4.7 MB/s eta 0:00:15\n",
      "   ------------------ --------------------- 57.4/124.9 MB 4.7 MB/s eta 0:00:15\n",
      "   ------------------ --------------------- 57.4/124.9 MB 4.6 MB/s eta 0:00:15\n",
      "   ------------------ --------------------- 57.4/124.9 MB 4.5 MB/s eta 0:00:15\n",
      "   ------------------ --------------------- 57.6/124.9 MB 4.4 MB/s eta 0:00:16\n",
      "   ------------------ --------------------- 57.8/124.9 MB 4.4 MB/s eta 0:00:16\n",
      "   ------------------ --------------------- 58.2/124.9 MB 4.5 MB/s eta 0:00:15\n",
      "   ------------------ --------------------- 58.4/124.9 MB 4.5 MB/s eta 0:00:15\n",
      "   ------------------ --------------------- 58.7/124.9 MB 4.5 MB/s eta 0:00:15\n",
      "   ------------------ --------------------- 59.0/124.9 MB 4.5 MB/s eta 0:00:15\n",
      "   ------------------ --------------------- 59.3/124.9 MB 4.5 MB/s eta 0:00:15\n",
      "   ------------------- -------------------- 59.6/124.9 MB 4.6 MB/s eta 0:00:15\n",
      "   ------------------- -------------------- 59.8/124.9 MB 4.5 MB/s eta 0:00:15\n",
      "   ------------------- -------------------- 60.1/124.9 MB 4.6 MB/s eta 0:00:14\n",
      "   ------------------- -------------------- 60.3/124.9 MB 4.5 MB/s eta 0:00:15\n",
      "   ------------------- -------------------- 60.3/124.9 MB 4.5 MB/s eta 0:00:15\n",
      "   ------------------- -------------------- 60.7/124.9 MB 4.5 MB/s eta 0:00:15\n",
      "   ------------------- -------------------- 61.4/124.9 MB 4.7 MB/s eta 0:00:14\n",
      "   ------------------- -------------------- 61.7/124.9 MB 4.7 MB/s eta 0:00:14\n",
      "   ------------------- -------------------- 61.9/124.9 MB 4.7 MB/s eta 0:00:14\n",
      "   ------------------- -------------------- 62.3/124.9 MB 4.7 MB/s eta 0:00:14\n",
      "   -------------------- ------------------- 62.5/124.9 MB 4.8 MB/s eta 0:00:13\n",
      "   -------------------- ------------------- 62.9/124.9 MB 4.8 MB/s eta 0:00:13\n",
      "   -------------------- ------------------- 63.2/124.9 MB 4.8 MB/s eta 0:00:13\n",
      "   -------------------- ------------------- 63.5/124.9 MB 4.9 MB/s eta 0:00:13\n",
      "   -------------------- ------------------- 63.8/124.9 MB 4.9 MB/s eta 0:00:13\n",
      "   -------------------- ------------------- 64.2/124.9 MB 5.0 MB/s eta 0:00:13\n",
      "   -------------------- ------------------- 64.3/124.9 MB 5.0 MB/s eta 0:00:13\n",
      "   -------------------- ------------------- 64.3/124.9 MB 4.8 MB/s eta 0:00:13\n",
      "   -------------------- ------------------- 64.3/124.9 MB 4.7 MB/s eta 0:00:13\n",
      "   -------------------- ------------------- 64.7/124.9 MB 4.7 MB/s eta 0:00:13\n",
      "   -------------------- ------------------- 64.9/124.9 MB 4.8 MB/s eta 0:00:13\n",
      "   -------------------- ------------------- 65.0/124.9 MB 4.8 MB/s eta 0:00:13\n",
      "   -------------------- ------------------- 65.3/124.9 MB 4.7 MB/s eta 0:00:13\n",
      "   -------------------- ------------------- 65.5/124.9 MB 4.7 MB/s eta 0:00:13\n",
      "   --------------------- ------------------ 65.7/124.9 MB 4.8 MB/s eta 0:00:13\n",
      "   --------------------- ------------------ 65.8/124.9 MB 4.7 MB/s eta 0:00:13\n",
      "   --------------------- ------------------ 65.8/124.9 MB 4.7 MB/s eta 0:00:13\n",
      "   --------------------- ------------------ 66.3/124.9 MB 4.5 MB/s eta 0:00:13\n",
      "   --------------------- ------------------ 66.8/124.9 MB 4.6 MB/s eta 0:00:13\n",
      "   --------------------- ------------------ 67.2/124.9 MB 4.9 MB/s eta 0:00:12\n",
      "   --------------------- ------------------ 67.7/124.9 MB 5.5 MB/s eta 0:00:11\n",
      "   --------------------- ------------------ 68.1/124.9 MB 5.6 MB/s eta 0:00:11\n",
      "   --------------------- ------------------ 68.1/124.9 MB 5.6 MB/s eta 0:00:11\n",
      "   --------------------- ------------------ 68.4/124.9 MB 5.5 MB/s eta 0:00:11\n",
      "   --------------------- ------------------ 68.5/124.9 MB 5.5 MB/s eta 0:00:11\n",
      "   ---------------------- ----------------- 68.8/124.9 MB 5.5 MB/s eta 0:00:11\n",
      "   ---------------------- ----------------- 69.0/124.9 MB 5.5 MB/s eta 0:00:11\n",
      "   ---------------------- ----------------- 69.2/124.9 MB 5.4 MB/s eta 0:00:11\n",
      "   ---------------------- ----------------- 69.5/124.9 MB 5.4 MB/s eta 0:00:11\n",
      "   ---------------------- ----------------- 69.9/124.9 MB 5.5 MB/s eta 0:00:11\n",
      "   ---------------------- ----------------- 70.1/124.9 MB 5.5 MB/s eta 0:00:10\n",
      "   ---------------------- ----------------- 70.2/124.9 MB 5.4 MB/s eta 0:00:11\n",
      "   ---------------------- ----------------- 70.4/124.9 MB 5.4 MB/s eta 0:00:11\n",
      "   ---------------------- ----------------- 70.9/124.9 MB 5.5 MB/s eta 0:00:10\n",
      "   ---------------------- ----------------- 71.1/124.9 MB 5.5 MB/s eta 0:00:10\n",
      "   ---------------------- ----------------- 71.1/124.9 MB 5.5 MB/s eta 0:00:10\n",
      "   ---------------------- ----------------- 71.4/124.9 MB 5.2 MB/s eta 0:00:11\n",
      "   ----------------------- ---------------- 71.8/124.9 MB 5.3 MB/s eta 0:00:11\n",
      "   ----------------------- ---------------- 72.1/124.9 MB 5.3 MB/s eta 0:00:11\n",
      "   ----------------------- ---------------- 72.1/124.9 MB 5.3 MB/s eta 0:00:11\n",
      "   ----------------------- ---------------- 72.3/124.9 MB 5.1 MB/s eta 0:00:11\n",
      "   ----------------------- ---------------- 72.7/124.9 MB 5.2 MB/s eta 0:00:11\n",
      "   ----------------------- ---------------- 72.7/124.9 MB 5.0 MB/s eta 0:00:11\n",
      "   ----------------------- ---------------- 73.0/124.9 MB 5.0 MB/s eta 0:00:11\n",
      "   ----------------------- ---------------- 73.2/124.9 MB 5.0 MB/s eta 0:00:11\n",
      "   ----------------------- ---------------- 73.5/124.9 MB 5.0 MB/s eta 0:00:11\n",
      "   ----------------------- ---------------- 73.9/124.9 MB 5.0 MB/s eta 0:00:11\n",
      "   ----------------------- ---------------- 74.1/124.9 MB 5.0 MB/s eta 0:00:11\n",
      "   ----------------------- ---------------- 74.1/124.9 MB 5.0 MB/s eta 0:00:11\n",
      "   ----------------------- ---------------- 74.4/124.9 MB 4.9 MB/s eta 0:00:11\n",
      "   ----------------------- ---------------- 74.9/124.9 MB 5.2 MB/s eta 0:00:10\n",
      "   ----------------------- ---------------- 74.9/124.9 MB 5.2 MB/s eta 0:00:10\n",
      "   ------------------------ --------------- 75.1/124.9 MB 5.1 MB/s eta 0:00:10\n",
      "   ------------------------ --------------- 75.4/124.9 MB 5.2 MB/s eta 0:00:10\n",
      "   ------------------------ --------------- 75.8/124.9 MB 5.3 MB/s eta 0:00:10\n",
      "   ------------------------ --------------- 75.8/124.9 MB 5.3 MB/s eta 0:00:10\n",
      "   ------------------------ --------------- 76.0/124.9 MB 5.5 MB/s eta 0:00:09\n",
      "   ------------------------ --------------- 76.2/124.9 MB 5.3 MB/s eta 0:00:10\n",
      "   ------------------------ --------------- 76.7/124.9 MB 5.4 MB/s eta 0:00:09\n",
      "   ------------------------ --------------- 76.8/124.9 MB 5.4 MB/s eta 0:00:09\n",
      "   ------------------------ --------------- 77.0/124.9 MB 5.2 MB/s eta 0:00:10\n",
      "   ------------------------ --------------- 77.4/124.9 MB 5.1 MB/s eta 0:00:10\n",
      "   ------------------------ --------------- 77.6/124.9 MB 5.1 MB/s eta 0:00:10\n",
      "   ------------------------ --------------- 77.9/124.9 MB 5.0 MB/s eta 0:00:10\n",
      "   ------------------------- -------------- 78.1/124.9 MB 5.0 MB/s eta 0:00:10\n",
      "   ------------------------- -------------- 78.1/124.9 MB 5.0 MB/s eta 0:00:10\n",
      "   ------------------------- -------------- 78.5/124.9 MB 5.0 MB/s eta 0:00:10\n",
      "   ------------------------- -------------- 78.7/124.9 MB 5.0 MB/s eta 0:00:10\n",
      "   ------------------------- -------------- 78.9/124.9 MB 4.9 MB/s eta 0:00:10\n",
      "   ------------------------- -------------- 79.4/124.9 MB 5.0 MB/s eta 0:00:10\n",
      "   ------------------------- -------------- 79.6/124.9 MB 5.1 MB/s eta 0:00:09\n",
      "   ------------------------- -------------- 79.6/124.9 MB 5.1 MB/s eta 0:00:09\n",
      "   ------------------------- -------------- 79.6/124.9 MB 5.1 MB/s eta 0:00:09\n",
      "   ------------------------- -------------- 79.6/124.9 MB 4.7 MB/s eta 0:00:10\n",
      "   ------------------------- -------------- 79.7/124.9 MB 4.7 MB/s eta 0:00:10\n",
      "   ------------------------- -------------- 79.8/124.9 MB 4.6 MB/s eta 0:00:10\n",
      "   ------------------------- -------------- 80.0/124.9 MB 4.5 MB/s eta 0:00:11\n",
      "   ------------------------- -------------- 80.1/124.9 MB 4.5 MB/s eta 0:00:11\n",
      "   ------------------------- -------------- 80.6/124.9 MB 4.6 MB/s eta 0:00:10\n",
      "   ------------------------- -------------- 80.9/124.9 MB 4.6 MB/s eta 0:00:10\n",
      "   ------------------------- -------------- 81.1/124.9 MB 4.6 MB/s eta 0:00:10\n",
      "   -------------------------- ------------- 81.3/124.9 MB 4.5 MB/s eta 0:00:10\n",
      "   -------------------------- ------------- 81.4/124.9 MB 4.6 MB/s eta 0:00:10\n",
      "   -------------------------- ------------- 81.4/124.9 MB 4.6 MB/s eta 0:00:10\n",
      "   -------------------------- ------------- 81.5/124.9 MB 4.5 MB/s eta 0:00:10\n",
      "   -------------------------- ------------- 81.9/124.9 MB 4.4 MB/s eta 0:00:10\n",
      "   -------------------------- ------------- 82.3/124.9 MB 4.5 MB/s eta 0:00:10\n",
      "   -------------------------- ------------- 82.6/124.9 MB 4.6 MB/s eta 0:00:10\n",
      "   -------------------------- ------------- 82.7/124.9 MB 4.5 MB/s eta 0:00:10\n",
      "   -------------------------- ------------- 83.3/124.9 MB 4.7 MB/s eta 0:00:09\n",
      "   -------------------------- ------------- 83.3/124.9 MB 4.7 MB/s eta 0:00:09\n",
      "   -------------------------- ------------- 83.3/124.9 MB 4.6 MB/s eta 0:00:10\n",
      "   -------------------------- ------------- 83.4/124.9 MB 4.5 MB/s eta 0:00:10\n",
      "   -------------------------- ------------- 83.8/124.9 MB 4.5 MB/s eta 0:00:10\n",
      "   -------------------------- ------------- 84.1/124.9 MB 4.5 MB/s eta 0:00:10\n",
      "   -------------------------- ------------- 84.2/124.9 MB 4.4 MB/s eta 0:00:10\n",
      "   -------------------------- ------------- 84.3/124.9 MB 4.4 MB/s eta 0:00:10\n",
      "   -------------------------- ------------- 84.3/124.9 MB 4.4 MB/s eta 0:00:10\n",
      "   --------------------------- ------------ 84.9/124.9 MB 4.4 MB/s eta 0:00:10\n",
      "   --------------------------- ------------ 84.9/124.9 MB 4.4 MB/s eta 0:00:10\n",
      "   --------------------------- ------------ 85.2/124.9 MB 4.4 MB/s eta 0:00:09\n",
      "   --------------------------- ------------ 85.7/124.9 MB 4.5 MB/s eta 0:00:09\n",
      "   --------------------------- ------------ 86.1/124.9 MB 4.5 MB/s eta 0:00:09\n",
      "   --------------------------- ------------ 86.3/124.9 MB 4.6 MB/s eta 0:00:09\n",
      "   --------------------------- ------------ 86.6/124.9 MB 4.6 MB/s eta 0:00:09\n",
      "   --------------------------- ------------ 86.8/124.9 MB 4.5 MB/s eta 0:00:09\n",
      "   --------------------------- ------------ 87.1/124.9 MB 4.6 MB/s eta 0:00:09\n",
      "   --------------------------- ------------ 87.1/124.9 MB 4.6 MB/s eta 0:00:09\n",
      "   --------------------------- ------------ 87.3/124.9 MB 4.5 MB/s eta 0:00:09\n",
      "   ---------------------------- ----------- 87.5/124.9 MB 4.5 MB/s eta 0:00:09\n",
      "   ---------------------------- ----------- 88.1/124.9 MB 4.5 MB/s eta 0:00:09\n",
      "   ---------------------------- ----------- 88.3/124.9 MB 4.7 MB/s eta 0:00:08\n",
      "   ---------------------------- ----------- 88.5/124.9 MB 4.7 MB/s eta 0:00:08\n",
      "   ---------------------------- ----------- 88.7/124.9 MB 4.5 MB/s eta 0:00:08\n",
      "   ---------------------------- ----------- 89.0/124.9 MB 4.5 MB/s eta 0:00:08\n",
      "   ---------------------------- ----------- 89.3/124.9 MB 4.6 MB/s eta 0:00:08\n",
      "   ---------------------------- ----------- 89.5/124.9 MB 4.5 MB/s eta 0:00:08\n",
      "   ---------------------------- ----------- 89.7/124.9 MB 4.5 MB/s eta 0:00:08\n",
      "   ---------------------------- ----------- 90.0/124.9 MB 4.9 MB/s eta 0:00:08\n",
      "   ---------------------------- ----------- 90.2/124.9 MB 5.0 MB/s eta 0:00:07\n",
      "   ---------------------------- ----------- 90.5/124.9 MB 5.1 MB/s eta 0:00:07\n",
      "   ----------------------------- ---------- 90.7/124.9 MB 5.0 MB/s eta 0:00:07\n",
      "   ----------------------------- ---------- 91.0/124.9 MB 4.9 MB/s eta 0:00:07\n",
      "   ----------------------------- ---------- 91.2/124.9 MB 4.9 MB/s eta 0:00:07\n",
      "   ----------------------------- ---------- 91.5/124.9 MB 4.9 MB/s eta 0:00:07\n",
      "   ----------------------------- ---------- 91.8/124.9 MB 5.2 MB/s eta 0:00:07\n",
      "   ----------------------------- ---------- 92.0/124.9 MB 5.2 MB/s eta 0:00:07\n",
      "   ----------------------------- ---------- 92.2/124.9 MB 5.1 MB/s eta 0:00:07\n",
      "   ----------------------------- ---------- 92.5/124.9 MB 5.1 MB/s eta 0:00:07\n",
      "   ----------------------------- ---------- 92.7/124.9 MB 5.0 MB/s eta 0:00:07\n",
      "   ----------------------------- ---------- 92.7/124.9 MB 4.9 MB/s eta 0:00:07\n",
      "   ----------------------------- ---------- 93.0/124.9 MB 5.1 MB/s eta 0:00:07\n",
      "   ----------------------------- ---------- 93.4/124.9 MB 4.9 MB/s eta 0:00:07\n",
      "   ----------------------------- ---------- 93.7/124.9 MB 5.3 MB/s eta 0:00:06\n",
      "   ------------------------------ --------- 93.7/124.9 MB 5.3 MB/s eta 0:00:06\n",
      "   ------------------------------ --------- 93.8/124.9 MB 5.1 MB/s eta 0:00:07\n",
      "   ------------------------------ --------- 94.0/124.9 MB 5.0 MB/s eta 0:00:07\n",
      "   ------------------------------ --------- 94.5/124.9 MB 5.1 MB/s eta 0:00:06\n",
      "   ------------------------------ --------- 94.8/124.9 MB 5.3 MB/s eta 0:00:06\n",
      "   ------------------------------ --------- 95.1/124.9 MB 5.2 MB/s eta 0:00:06\n",
      "   ------------------------------ --------- 95.4/124.9 MB 5.3 MB/s eta 0:00:06\n",
      "   ------------------------------ --------- 95.6/124.9 MB 5.3 MB/s eta 0:00:06\n",
      "   ------------------------------ --------- 95.6/124.9 MB 5.3 MB/s eta 0:00:06\n",
      "   ------------------------------ --------- 95.6/124.9 MB 5.3 MB/s eta 0:00:06\n",
      "   ------------------------------ --------- 96.3/124.9 MB 5.1 MB/s eta 0:00:06\n",
      "   ------------------------------ --------- 96.5/124.9 MB 5.1 MB/s eta 0:00:06\n",
      "   ------------------------------ --------- 96.7/124.9 MB 5.0 MB/s eta 0:00:06\n",
      "   ------------------------------- -------- 97.0/124.9 MB 5.1 MB/s eta 0:00:06\n",
      "   ------------------------------- -------- 97.0/124.9 MB 5.0 MB/s eta 0:00:06\n",
      "   ------------------------------- -------- 97.1/124.9 MB 4.9 MB/s eta 0:00:06\n",
      "   ------------------------------- -------- 97.1/124.9 MB 4.9 MB/s eta 0:00:06\n",
      "   ------------------------------- -------- 97.1/124.9 MB 4.9 MB/s eta 0:00:06\n",
      "   ------------------------------- -------- 97.8/124.9 MB 5.0 MB/s eta 0:00:06\n",
      "   ------------------------------- -------- 97.9/124.9 MB 4.8 MB/s eta 0:00:06\n",
      "   ------------------------------- -------- 98.4/124.9 MB 5.0 MB/s eta 0:00:06\n",
      "   ------------------------------- -------- 98.6/124.9 MB 4.9 MB/s eta 0:00:06\n",
      "   ------------------------------- -------- 98.8/124.9 MB 5.0 MB/s eta 0:00:06\n",
      "   ------------------------------- -------- 99.0/124.9 MB 5.0 MB/s eta 0:00:06\n",
      "   ------------------------------- -------- 99.4/124.9 MB 4.9 MB/s eta 0:00:06\n",
      "   ------------------------------- -------- 99.6/124.9 MB 4.9 MB/s eta 0:00:06\n",
      "   ------------------------------- -------- 99.7/124.9 MB 4.9 MB/s eta 0:00:06\n",
      "   ------------------------------- -------- 99.8/124.9 MB 4.8 MB/s eta 0:00:06\n",
      "   -------------------------------- ------- 100.3/124.9 MB 4.9 MB/s eta 0:00:06\n",
      "   -------------------------------- ------- 100.6/124.9 MB 5.0 MB/s eta 0:00:05\n",
      "   -------------------------------- ------- 100.7/124.9 MB 4.9 MB/s eta 0:00:05\n",
      "   -------------------------------- ------- 101.2/124.9 MB 5.0 MB/s eta 0:00:05\n",
      "   -------------------------------- ------- 101.4/124.9 MB 5.0 MB/s eta 0:00:05\n",
      "   -------------------------------- ------- 101.7/124.9 MB 5.0 MB/s eta 0:00:05\n",
      "   -------------------------------- ------- 101.9/124.9 MB 5.0 MB/s eta 0:00:05\n",
      "   -------------------------------- ------- 102.1/124.9 MB 5.0 MB/s eta 0:00:05\n",
      "   -------------------------------- ------- 102.4/124.9 MB 4.9 MB/s eta 0:00:05\n",
      "   -------------------------------- ------- 102.6/124.9 MB 5.0 MB/s eta 0:00:05\n",
      "   -------------------------------- ------- 102.7/124.9 MB 5.0 MB/s eta 0:00:05\n",
      "   -------------------------------- ------- 102.9/124.9 MB 4.8 MB/s eta 0:00:05\n",
      "   --------------------------------- ------ 103.3/124.9 MB 5.0 MB/s eta 0:00:05\n",
      "   --------------------------------- ------ 103.5/124.9 MB 5.0 MB/s eta 0:00:05\n",
      "   --------------------------------- ------ 103.8/124.9 MB 4.9 MB/s eta 0:00:05\n",
      "   --------------------------------- ------ 104.0/124.9 MB 5.1 MB/s eta 0:00:05\n",
      "   --------------------------------- ------ 104.0/124.9 MB 5.1 MB/s eta 0:00:05\n",
      "   --------------------------------- ------ 104.3/124.9 MB 5.0 MB/s eta 0:00:05\n",
      "   --------------------------------- ------ 104.6/124.9 MB 4.9 MB/s eta 0:00:05\n",
      "   --------------------------------- ------ 104.7/124.9 MB 4.9 MB/s eta 0:00:05\n",
      "   --------------------------------- ------ 105.2/124.9 MB 5.0 MB/s eta 0:00:04\n",
      "   --------------------------------- ------ 105.4/124.9 MB 5.0 MB/s eta 0:00:04\n",
      "   --------------------------------- ------ 105.5/124.9 MB 4.9 MB/s eta 0:00:04\n",
      "   --------------------------------- ------ 105.6/124.9 MB 4.8 MB/s eta 0:00:04\n",
      "   --------------------------------- ------ 105.9/124.9 MB 5.1 MB/s eta 0:00:04\n",
      "   ---------------------------------- ----- 106.2/124.9 MB 5.0 MB/s eta 0:00:04\n",
      "   ---------------------------------- ----- 106.4/124.9 MB 4.9 MB/s eta 0:00:04\n",
      "   ---------------------------------- ----- 106.6/124.9 MB 4.8 MB/s eta 0:00:04\n",
      "   ---------------------------------- ----- 106.9/124.9 MB 4.8 MB/s eta 0:00:04\n",
      "   ---------------------------------- ----- 107.2/124.9 MB 5.0 MB/s eta 0:00:04\n",
      "   ---------------------------------- ----- 107.3/124.9 MB 4.9 MB/s eta 0:00:04\n",
      "   ---------------------------------- ----- 107.3/124.9 MB 4.9 MB/s eta 0:00:04\n",
      "   ---------------------------------- ----- 107.3/124.9 MB 4.9 MB/s eta 0:00:04\n",
      "   ---------------------------------- ----- 107.3/124.9 MB 4.9 MB/s eta 0:00:04\n",
      "   ---------------------------------- ----- 107.3/124.9 MB 4.5 MB/s eta 0:00:04\n",
      "   ---------------------------------- ----- 107.4/124.9 MB 4.6 MB/s eta 0:00:04\n",
      "   ---------------------------------- ----- 107.7/124.9 MB 4.5 MB/s eta 0:00:04\n",
      "   ---------------------------------- ----- 107.9/124.9 MB 4.5 MB/s eta 0:00:04\n",
      "   ---------------------------------- ----- 108.2/124.9 MB 4.5 MB/s eta 0:00:04\n",
      "   ---------------------------------- ----- 108.5/124.9 MB 4.4 MB/s eta 0:00:04\n",
      "   ---------------------------------- ----- 108.8/124.9 MB 4.4 MB/s eta 0:00:04\n",
      "   ---------------------------------- ----- 109.0/124.9 MB 4.5 MB/s eta 0:00:04\n",
      "   ----------------------------------- ---- 109.3/124.9 MB 4.6 MB/s eta 0:00:04\n",
      "   ----------------------------------- ---- 109.6/124.9 MB 4.5 MB/s eta 0:00:04\n",
      "   ----------------------------------- ---- 109.8/124.9 MB 4.5 MB/s eta 0:00:04\n",
      "   ----------------------------------- ---- 110.1/124.9 MB 4.6 MB/s eta 0:00:04\n",
      "   ----------------------------------- ---- 110.4/124.9 MB 4.5 MB/s eta 0:00:04\n",
      "   ----------------------------------- ---- 110.6/124.9 MB 4.5 MB/s eta 0:00:04\n",
      "   ----------------------------------- ---- 110.9/124.9 MB 4.6 MB/s eta 0:00:04\n",
      "   ----------------------------------- ---- 111.1/124.9 MB 4.5 MB/s eta 0:00:04\n",
      "   ----------------------------------- ---- 111.4/124.9 MB 4.5 MB/s eta 0:00:04\n",
      "   ----------------------------------- ---- 111.6/124.9 MB 4.5 MB/s eta 0:00:03\n",
      "   ----------------------------------- ---- 112.0/124.9 MB 4.5 MB/s eta 0:00:03\n",
      "   ----------------------------------- ---- 112.3/124.9 MB 4.5 MB/s eta 0:00:03\n",
      "   ------------------------------------ --- 112.6/124.9 MB 4.6 MB/s eta 0:00:03\n",
      "   ------------------------------------ --- 112.9/124.9 MB 4.6 MB/s eta 0:00:03\n",
      "   ------------------------------------ --- 113.2/124.9 MB 4.8 MB/s eta 0:00:03\n",
      "   ------------------------------------ --- 113.5/124.9 MB 4.7 MB/s eta 0:00:03\n",
      "   ------------------------------------ --- 113.7/124.9 MB 4.7 MB/s eta 0:00:03\n",
      "   ------------------------------------ --- 114.1/124.9 MB 4.7 MB/s eta 0:00:03\n",
      "   ------------------------------------ --- 114.4/124.9 MB 4.9 MB/s eta 0:00:03\n",
      "   ------------------------------------ --- 114.6/124.9 MB 4.9 MB/s eta 0:00:03\n",
      "   ------------------------------------ --- 114.9/124.9 MB 4.9 MB/s eta 0:00:03\n",
      "   ------------------------------------ --- 114.9/124.9 MB 4.9 MB/s eta 0:00:03\n",
      "   ------------------------------------ --- 114.9/124.9 MB 4.7 MB/s eta 0:00:03\n",
      "   ------------------------------------ --- 114.9/124.9 MB 4.7 MB/s eta 0:00:03\n",
      "   ------------------------------------- -- 115.8/124.9 MB 4.8 MB/s eta 0:00:02\n",
      "   ------------------------------------- -- 115.8/124.9 MB 4.8 MB/s eta 0:00:02\n",
      "   ------------------------------------- -- 115.9/124.9 MB 4.7 MB/s eta 0:00:02\n",
      "   ------------------------------------- -- 115.9/124.9 MB 4.7 MB/s eta 0:00:02\n",
      "   ------------------------------------- -- 115.9/124.9 MB 4.7 MB/s eta 0:00:02\n",
      "   ------------------------------------- -- 115.9/124.9 MB 4.7 MB/s eta 0:00:02\n",
      "   ------------------------------------- -- 116.3/124.9 MB 4.5 MB/s eta 0:00:02\n",
      "   ------------------------------------- -- 116.3/124.9 MB 4.5 MB/s eta 0:00:02\n",
      "   ------------------------------------- -- 117.1/124.9 MB 4.6 MB/s eta 0:00:02\n",
      "   ------------------------------------- -- 117.1/124.9 MB 4.6 MB/s eta 0:00:02\n",
      "   ------------------------------------- -- 117.1/124.9 MB 4.6 MB/s eta 0:00:02\n",
      "   ------------------------------------- -- 118.4/124.9 MB 5.5 MB/s eta 0:00:02\n",
      "   ------------------------------------- -- 118.4/124.9 MB 5.5 MB/s eta 0:00:02\n",
      "   -------------------------------------- - 118.7/124.9 MB 5.3 MB/s eta 0:00:02\n",
      "   -------------------------------------- - 118.7/124.9 MB 5.3 MB/s eta 0:00:02\n",
      "   -------------------------------------- - 119.3/124.9 MB 5.4 MB/s eta 0:00:02\n",
      "   -------------------------------------- - 119.7/124.9 MB 5.4 MB/s eta 0:00:01\n",
      "   -------------------------------------- - 119.9/124.9 MB 5.4 MB/s eta 0:00:01\n",
      "   -------------------------------------- - 120.1/124.9 MB 5.5 MB/s eta 0:00:01\n",
      "   -------------------------------------- - 120.4/124.9 MB 5.4 MB/s eta 0:00:01\n",
      "   -------------------------------------- - 120.6/124.9 MB 5.5 MB/s eta 0:00:01\n",
      "   -------------------------------------- - 120.9/124.9 MB 5.4 MB/s eta 0:00:01\n",
      "   -------------------------------------- - 121.0/124.9 MB 5.3 MB/s eta 0:00:01\n",
      "   -------------------------------------- - 121.2/124.9 MB 5.2 MB/s eta 0:00:01\n",
      "   -------------------------------------- - 121.7/124.9 MB 5.3 MB/s eta 0:00:01\n",
      "   -------------------------------------- - 121.7/124.9 MB 5.3 MB/s eta 0:00:01\n",
      "   ---------------------------------------  121.9/124.9 MB 5.2 MB/s eta 0:00:01\n",
      "   ---------------------------------------  122.3/124.9 MB 5.2 MB/s eta 0:00:01\n",
      "   ---------------------------------------  122.6/124.9 MB 5.2 MB/s eta 0:00:01\n",
      "   ---------------------------------------  122.8/124.9 MB 5.2 MB/s eta 0:00:01\n",
      "   ---------------------------------------  123.0/124.9 MB 5.2 MB/s eta 0:00:01\n",
      "   ---------------------------------------  123.1/124.9 MB 5.1 MB/s eta 0:00:01\n",
      "   ---------------------------------------  123.3/124.9 MB 5.0 MB/s eta 0:00:01\n",
      "   ---------------------------------------  123.6/124.9 MB 5.0 MB/s eta 0:00:01\n",
      "   ---------------------------------------  123.7/124.9 MB 5.0 MB/s eta 0:00:01\n",
      "   ---------------------------------------  124.0/124.9 MB 5.0 MB/s eta 0:00:01\n",
      "   ---------------------------------------  124.3/124.9 MB 5.0 MB/s eta 0:00:01\n",
      "   ---------------------------------------  124.5/124.9 MB 4.9 MB/s eta 0:00:01\n",
      "   ---------------------------------------  124.8/124.9 MB 4.9 MB/s eta 0:00:01\n",
      "   ---------------------------------------  124.9/124.9 MB 4.9 MB/s eta 0:00:01\n",
      "   ---------------------------------------  124.9/124.9 MB 4.9 MB/s eta 0:00:01\n",
      "   ---------------------------------------  124.9/124.9 MB 4.9 MB/s eta 0:00:01\n",
      "   ---------------------------------------  124.9/124.9 MB 4.9 MB/s eta 0:00:01\n",
      "   ---------------------------------------  124.9/124.9 MB 4.9 MB/s eta 0:00:01\n",
      "   ---------------------------------------  124.9/124.9 MB 4.9 MB/s eta 0:00:01\n",
      "   ---------------------------------------- 124.9/124.9 MB 4.3 MB/s eta 0:00:00\n",
      "Installing collected packages: xgboost\n",
      "Successfully installed xgboost-2.1.0\n",
      "Note: you may need to restart the kernel to use updated packages.\n"
     ]
    }
   ],
   "source": [
    "pip install xgboost"
   ]
  },
  {
   "cell_type": "code",
   "execution_count": 25,
   "id": "d6a952b0-8008-49c0-a103-3ed06509b909",
   "metadata": {},
   "outputs": [],
   "source": [
    "from sklearn.ensemble._forest import RandomForestClassifier\n",
    "from sklearn.naive_bayes import MultinomialNB\n",
    "from sklearn.naive_bayes import GaussianNB\n",
    "from sklearn.svm import SVC\n",
    "from sklearn.linear_model import LogisticRegression\n",
    "from xgboost import XGBClassifier\n",
    "\n",
    "model_forest = RandomForestClassifier()\n",
    "model_gnb = GaussianNB()\n",
    "model_mnb = MultinomialNB()\n",
    "model_svc = SVC()\n",
    "model_logreg = LogisticRegression()\n",
    "model_xgb = XGBClassifier()"
   ]
  },
  {
   "cell_type": "code",
   "execution_count": 34,
   "id": "3227d47e-e911-4106-b4f7-cf65e9c47a7c",
   "metadata": {},
   "outputs": [],
   "source": [
    "from sklearn.model_selection import RandomizedSearchCV\n",
    "def tune_model_hyperparameters(embedding_model, y, model, param_grid):\n",
    "    random_search = RandomizedSearchCV(estimator=model, param_distributions=param_grid, cv=7, verbose=1, n_jobs=-1)\n",
    "    random_search.fit(embedding_model, y)\n",
    "    return random_search.best_params_\n",
    "y = subset_data_combined_app['sentiment_encoded']   "
   ]
  },
  {
   "cell_type": "code",
   "execution_count": 79,
   "id": "393a79d1-6edf-4772-97ea-391ecddf2636",
   "metadata": {},
   "outputs": [
    {
     "name": "stdout",
     "output_type": "stream",
     "text": [
      "Fitting 7 folds for each of 10 candidates, totalling 70 fits\n",
      "Fitting 7 folds for each of 10 candidates, totalling 70 fits\n"
     ]
    }
   ],
   "source": [
    "best_params_word2vec_rf = tune_model_hyperparameters(subset_combinedData_word2vec, y, model_forest, param_grid_forest)\n",
    "best_params_tfidf_rf = tune_model_hyperparameters(subset_combinedData_tfidf, y, model_forest, param_grid_forest)"
   ]
  },
  {
   "cell_type": "code",
   "execution_count": 80,
   "id": "7a04dce1-da14-469a-b2e4-fe60e6be76ea",
   "metadata": {},
   "outputs": [
    {
     "name": "stdout",
     "output_type": "stream",
     "text": [
      "Best parameters for RandomForest with Word2Vec: {'n_estimators': 71, 'min_samples_split': 2, 'min_samples_leaf': 2, 'max_features': 'log2', 'max_depth': 20}\n",
      "Best parameters for RandomForest with TF-IDF: {'n_estimators': 57, 'min_samples_split': 15, 'min_samples_leaf': 1, 'max_features': 'sqrt', 'max_depth': 20}\n"
     ]
    }
   ],
   "source": [
    "print(f'Best parameters for RandomForest with Word2Vec: {best_params_word2vec_rf}')\n",
    "print(f'Best parameters for RandomForest with TF-IDF: {best_params_tfidf_rf}')"
   ]
  },
  {
   "cell_type": "code",
   "execution_count": 36,
   "id": "29c2b753-e787-49ad-bbce-ad2f138c59b3",
   "metadata": {},
   "outputs": [
    {
     "name": "stdout",
     "output_type": "stream",
     "text": [
      "Fitting 7 folds for each of 10 candidates, totalling 70 fits\n",
      "Fitting 7 folds for each of 10 candidates, totalling 70 fits\n"
     ]
    }
   ],
   "source": [
    "best_params_word2vec_xgb = tune_model_hyperparameters(subset_combinedData_word2vec, y, model_xgb, param_grid_xgb)\n",
    "best_params_tfidf_xgb = tune_model_hyperparameters(subset_combinedData_tfidf, y, model_xgb, param_grid_xgb)"
   ]
  },
  {
   "cell_type": "code",
   "execution_count": 37,
   "id": "2d130d62-284b-4392-a44e-401f24c2f44a",
   "metadata": {},
   "outputs": [
    {
     "name": "stdout",
     "output_type": "stream",
     "text": [
      "Best parameters for XGBoost with Word2Vec: {'subsample': 1.0, 'min_child_weight': 5, 'max_depth': 5, 'gamma': 0.5, 'colsample_bytree': 1.0}\n",
      "Best parameters for XGBoost with TF-IDF: {'subsample': 1.0, 'min_child_weight': 1, 'max_depth': 4, 'gamma': 2, 'colsample_bytree': 0.8}\n"
     ]
    }
   ],
   "source": [
    "print(f'Best parameters for XGBoost with Word2Vec: {best_params_word2vec_xgb}')\n",
    "print(f'Best parameters for XGBoost with TF-IDF: {best_params_tfidf_xgb}')"
   ]
  },
  {
   "cell_type": "code",
   "execution_count": 82,
   "id": "84201311-08f6-4918-a81d-e4830aec5efd",
   "metadata": {
    "scrolled": true
   },
   "outputs": [
    {
     "name": "stderr",
     "output_type": "stream",
     "text": [
      "C:\\Users\\anish\\anaconda3\\envs\\gputest\\lib\\site-packages\\sklearn\\model_selection\\_search.py:307: UserWarning: The total space of parameters 7 is smaller than n_iter=10. Running 7 iterations. For exhaustive searches, use GridSearchCV.\n",
      "  warnings.warn(\n"
     ]
    },
    {
     "name": "stdout",
     "output_type": "stream",
     "text": [
      "Fitting 7 folds for each of 7 candidates, totalling 49 fits\n"
     ]
    },
    {
     "name": "stderr",
     "output_type": "stream",
     "text": [
      "C:\\Users\\anish\\anaconda3\\envs\\gputest\\lib\\site-packages\\sklearn\\model_selection\\_search.py:307: UserWarning: The total space of parameters 7 is smaller than n_iter=10. Running 7 iterations. For exhaustive searches, use GridSearchCV.\n",
      "  warnings.warn(\n"
     ]
    },
    {
     "name": "stdout",
     "output_type": "stream",
     "text": [
      "Fitting 7 folds for each of 7 candidates, totalling 49 fits\n"
     ]
    }
   ],
   "source": [
    "best_params_word2vec_nb = tune_model_hyperparameters(subset_combinedData_word2vec, y, model_gnb, param_grid_nb)\n",
    "best_params_tfidf_nb = tune_model_hyperparameters(subset_combinedData_tfidf.toarray(), y, model_gnb, param_grid_nb)"
   ]
  },
  {
   "cell_type": "code",
   "execution_count": 83,
   "id": "02c66a17-8c1c-46e6-9d21-7da1bb36b696",
   "metadata": {},
   "outputs": [
    {
     "name": "stdout",
     "output_type": "stream",
     "text": [
      "Best parameters for NaiveBayes with Word2Vec: {'var_smoothing': 1e-11}\n",
      "Best parameters for NaiveBayes with TF-IDF: {'var_smoothing': 1e-05}\n"
     ]
    }
   ],
   "source": [
    "print(f'Best parameters for NaiveBayes with Word2Vec: {best_params_word2vec_nb}')\n",
    "print(f'Best parameters for NaiveBayes with TF-IDF: {best_params_tfidf_nb}')"
   ]
  },
  {
   "cell_type": "code",
   "execution_count": 84,
   "id": "9ccde909-931b-440c-952a-4b742d65388f",
   "metadata": {
    "scrolled": true
   },
   "outputs": [
    {
     "name": "stdout",
     "output_type": "stream",
     "text": [
      "Fitting 7 folds for each of 10 candidates, totalling 70 fits\n"
     ]
    },
    {
     "name": "stderr",
     "output_type": "stream",
     "text": [
      "C:\\Users\\anish\\anaconda3\\envs\\gputest\\lib\\site-packages\\sklearn\\model_selection\\_validation.py:425: FitFailedWarning: \n",
      "42 fits failed out of a total of 70.\n",
      "The score on these train-test partitions for these parameters will be set to nan.\n",
      "If these failures are not expected, you can try to debug them by setting error_score='raise'.\n",
      "\n",
      "Below are more details about the failures:\n",
      "--------------------------------------------------------------------------------\n",
      "21 fits failed with the following error:\n",
      "Traceback (most recent call last):\n",
      "  File \"C:\\Users\\anish\\anaconda3\\envs\\gputest\\lib\\site-packages\\sklearn\\model_selection\\_validation.py\", line 729, in _fit_and_score\n",
      "    estimator.fit(X_train, y_train, **fit_params)\n",
      "  File \"C:\\Users\\anish\\anaconda3\\envs\\gputest\\lib\\site-packages\\sklearn\\base.py\", line 1152, in wrapper\n",
      "    return fit_method(estimator, *args, **kwargs)\n",
      "  File \"C:\\Users\\anish\\anaconda3\\envs\\gputest\\lib\\site-packages\\sklearn\\linear_model\\_logistic.py\", line 1179, in fit\n",
      "    raise ValueError(\"l1_ratio must be specified when penalty is elasticnet.\")\n",
      "ValueError: l1_ratio must be specified when penalty is elasticnet.\n",
      "\n",
      "--------------------------------------------------------------------------------\n",
      "14 fits failed with the following error:\n",
      "Traceback (most recent call last):\n",
      "  File \"C:\\Users\\anish\\anaconda3\\envs\\gputest\\lib\\site-packages\\sklearn\\model_selection\\_validation.py\", line 729, in _fit_and_score\n",
      "    estimator.fit(X_train, y_train, **fit_params)\n",
      "  File \"C:\\Users\\anish\\anaconda3\\envs\\gputest\\lib\\site-packages\\sklearn\\base.py\", line 1152, in wrapper\n",
      "    return fit_method(estimator, *args, **kwargs)\n",
      "  File \"C:\\Users\\anish\\anaconda3\\envs\\gputest\\lib\\site-packages\\sklearn\\linear_model\\_logistic.py\", line 1169, in fit\n",
      "    solver = _check_solver(self.solver, self.penalty, self.dual)\n",
      "  File \"C:\\Users\\anish\\anaconda3\\envs\\gputest\\lib\\site-packages\\sklearn\\linear_model\\_logistic.py\", line 73, in _check_solver\n",
      "    raise ValueError(\"penalty='none' is not supported for the liblinear solver\")\n",
      "ValueError: penalty='none' is not supported for the liblinear solver\n",
      "\n",
      "--------------------------------------------------------------------------------\n",
      "7 fits failed with the following error:\n",
      "Traceback (most recent call last):\n",
      "  File \"C:\\Users\\anish\\anaconda3\\envs\\gputest\\lib\\site-packages\\sklearn\\model_selection\\_validation.py\", line 729, in _fit_and_score\n",
      "    estimator.fit(X_train, y_train, **fit_params)\n",
      "  File \"C:\\Users\\anish\\anaconda3\\envs\\gputest\\lib\\site-packages\\sklearn\\base.py\", line 1152, in wrapper\n",
      "    return fit_method(estimator, *args, **kwargs)\n",
      "  File \"C:\\Users\\anish\\anaconda3\\envs\\gputest\\lib\\site-packages\\sklearn\\linear_model\\_logistic.py\", line 1169, in fit\n",
      "    solver = _check_solver(self.solver, self.penalty, self.dual)\n",
      "  File \"C:\\Users\\anish\\anaconda3\\envs\\gputest\\lib\\site-packages\\sklearn\\linear_model\\_logistic.py\", line 66, in _check_solver\n",
      "    raise ValueError(\n",
      "ValueError: Only 'saga' solver supports elasticnet penalty, got solver=liblinear.\n",
      "\n",
      "  warnings.warn(some_fits_failed_message, FitFailedWarning)\n",
      "C:\\Users\\anish\\anaconda3\\envs\\gputest\\lib\\site-packages\\sklearn\\model_selection\\_search.py:979: UserWarning: One or more of the test scores are non-finite: [       nan        nan 0.34059974        nan        nan 0.5961982\n",
      "        nan 0.59159692 0.59559712        nan]\n",
      "  warnings.warn(\n",
      "C:\\Users\\anish\\anaconda3\\envs\\gputest\\lib\\site-packages\\sklearn\\linear_model\\_logistic.py:1183: FutureWarning: `penalty='none'`has been deprecated in 1.2 and will be removed in 1.4. To keep the past behaviour, set `penalty=None`.\n",
      "  warnings.warn(\n",
      "C:\\Users\\anish\\anaconda3\\envs\\gputest\\lib\\site-packages\\sklearn\\linear_model\\_logistic.py:1193: UserWarning: Setting penalty=None will ignore the C and l1_ratio parameters\n",
      "  warnings.warn(\n",
      "C:\\Users\\anish\\anaconda3\\envs\\gputest\\lib\\site-packages\\sklearn\\linear_model\\_sag.py:350: ConvergenceWarning: The max_iter was reached which means the coef_ did not converge\n",
      "  warnings.warn(\n"
     ]
    },
    {
     "name": "stdout",
     "output_type": "stream",
     "text": [
      "Fitting 7 folds for each of 10 candidates, totalling 70 fits\n"
     ]
    },
    {
     "name": "stderr",
     "output_type": "stream",
     "text": [
      "C:\\Users\\anish\\anaconda3\\envs\\gputest\\lib\\site-packages\\sklearn\\model_selection\\_validation.py:425: FitFailedWarning: \n",
      "21 fits failed out of a total of 70.\n",
      "The score on these train-test partitions for these parameters will be set to nan.\n",
      "If these failures are not expected, you can try to debug them by setting error_score='raise'.\n",
      "\n",
      "Below are more details about the failures:\n",
      "--------------------------------------------------------------------------------\n",
      "14 fits failed with the following error:\n",
      "Traceback (most recent call last):\n",
      "  File \"C:\\Users\\anish\\anaconda3\\envs\\gputest\\lib\\site-packages\\sklearn\\model_selection\\_validation.py\", line 729, in _fit_and_score\n",
      "    estimator.fit(X_train, y_train, **fit_params)\n",
      "  File \"C:\\Users\\anish\\anaconda3\\envs\\gputest\\lib\\site-packages\\sklearn\\base.py\", line 1152, in wrapper\n",
      "    return fit_method(estimator, *args, **kwargs)\n",
      "  File \"C:\\Users\\anish\\anaconda3\\envs\\gputest\\lib\\site-packages\\sklearn\\linear_model\\_logistic.py\", line 1169, in fit\n",
      "    solver = _check_solver(self.solver, self.penalty, self.dual)\n",
      "  File \"C:\\Users\\anish\\anaconda3\\envs\\gputest\\lib\\site-packages\\sklearn\\linear_model\\_logistic.py\", line 66, in _check_solver\n",
      "    raise ValueError(\n",
      "ValueError: Only 'saga' solver supports elasticnet penalty, got solver=liblinear.\n",
      "\n",
      "--------------------------------------------------------------------------------\n",
      "7 fits failed with the following error:\n",
      "Traceback (most recent call last):\n",
      "  File \"C:\\Users\\anish\\anaconda3\\envs\\gputest\\lib\\site-packages\\sklearn\\model_selection\\_validation.py\", line 729, in _fit_and_score\n",
      "    estimator.fit(X_train, y_train, **fit_params)\n",
      "  File \"C:\\Users\\anish\\anaconda3\\envs\\gputest\\lib\\site-packages\\sklearn\\base.py\", line 1152, in wrapper\n",
      "    return fit_method(estimator, *args, **kwargs)\n",
      "  File \"C:\\Users\\anish\\anaconda3\\envs\\gputest\\lib\\site-packages\\sklearn\\linear_model\\_logistic.py\", line 1169, in fit\n",
      "    solver = _check_solver(self.solver, self.penalty, self.dual)\n",
      "  File \"C:\\Users\\anish\\anaconda3\\envs\\gputest\\lib\\site-packages\\sklearn\\linear_model\\_logistic.py\", line 73, in _check_solver\n",
      "    raise ValueError(\"penalty='none' is not supported for the liblinear solver\")\n",
      "ValueError: penalty='none' is not supported for the liblinear solver\n",
      "\n",
      "  warnings.warn(some_fits_failed_message, FitFailedWarning)\n",
      "C:\\Users\\anish\\anaconda3\\envs\\gputest\\lib\\site-packages\\sklearn\\model_selection\\_search.py:979: UserWarning: One or more of the test scores are non-finite: [0.76820295 0.82200405 0.81440464 0.8014028  0.801203   0.71140428\n",
      " 0.7608039         nan        nan        nan]\n",
      "  warnings.warn(\n"
     ]
    }
   ],
   "source": [
    "best_params_word2vec_logreg = tune_model_hyperparameters(subset_combinedData_word2vec, y, model_logreg, param_grid_logreg)\n",
    "best_params_tfidf_logreg = tune_model_hyperparameters(subset_combinedData_tfidf, y, model_logreg, param_grid_logreg)    "
   ]
  },
  {
   "cell_type": "code",
   "execution_count": 85,
   "id": "64f865b7-385b-4c48-8bee-1dc9c60a38c6",
   "metadata": {},
   "outputs": [
    {
     "name": "stdout",
     "output_type": "stream",
     "text": [
      "Best parameters for LogReg with Word2Vec: {'solver': 'saga', 'penalty': 'none', 'max_iter': 300, 'C': 10}\n",
      "Best parameters for LogReg with TF-IDF: {'solver': 'saga', 'penalty': 'l2', 'max_iter': 300, 'C': 10}\n"
     ]
    }
   ],
   "source": [
    "print(f'Best parameters for LogReg with Word2Vec: {best_params_word2vec_logreg}')\n",
    "print(f'Best parameters for LogReg with TF-IDF: {best_params_tfidf_logreg}')"
   ]
  },
  {
   "cell_type": "code",
   "execution_count": 86,
   "id": "5e20ebca-7e5f-4b61-a237-56cd1b769386",
   "metadata": {},
   "outputs": [
    {
     "name": "stdout",
     "output_type": "stream",
     "text": [
      "Fitting 7 folds for each of 10 candidates, totalling 70 fits\n",
      "Fitting 7 folds for each of 10 candidates, totalling 70 fits\n"
     ]
    }
   ],
   "source": [
    "best_params_word2vec_SVC = tune_model_hyperparameters(subset_combinedData_word2vec, y, model_svc, param_grid_svc)\n",
    "best_params_tfidf_SVC = tune_model_hyperparameters(subset_combinedData_tfidf, y, model_svc, param_grid_svc)   "
   ]
  },
  {
   "cell_type": "code",
   "execution_count": 87,
   "id": "8db9045d-553f-4822-ac26-bc8c80855921",
   "metadata": {},
   "outputs": [
    {
     "name": "stdout",
     "output_type": "stream",
     "text": [
      "Best parameters for SVC with Word2Vec: {'kernel': 'rbf', 'degree': 1, 'C': 1}\n",
      "Best parameters for SVC with TF-IDF: {'kernel': 'linear', 'degree': 2, 'C': 1}\n"
     ]
    }
   ],
   "source": [
    "print(f'Best parameters for SVC with Word2Vec: {best_params_word2vec_SVC}')\n",
    "print(f'Best parameters for SVC with TF-IDF: {best_params_tfidf_SVC}')"
   ]
  },
  {
   "cell_type": "markdown",
   "id": "cf52f045-0fbc-411e-87b4-10f03d9b90d0",
   "metadata": {},
   "source": [
    "now applying the best hyperparameter figured out by RandomizedSearchCV on complete balanced dataset"
   ]
  },
  {
   "cell_type": "code",
   "execution_count": 26,
   "id": "430d4df3-e536-4a1f-9ef0-31524fff2870",
   "metadata": {},
   "outputs": [
    {
     "name": "stdout",
     "output_type": "stream",
     "text": [
      "Parameters for XGBoost with TF-IDF:\n"
     ]
    },
    {
     "data": {
      "text/html": [
       "<style>#sk-container-id-1 {color: black;}#sk-container-id-1 pre{padding: 0;}#sk-container-id-1 div.sk-toggleable {background-color: white;}#sk-container-id-1 label.sk-toggleable__label {cursor: pointer;display: block;width: 100%;margin-bottom: 0;padding: 0.3em;box-sizing: border-box;text-align: center;}#sk-container-id-1 label.sk-toggleable__label-arrow:before {content: \"▸\";float: left;margin-right: 0.25em;color: #696969;}#sk-container-id-1 label.sk-toggleable__label-arrow:hover:before {color: black;}#sk-container-id-1 div.sk-estimator:hover label.sk-toggleable__label-arrow:before {color: black;}#sk-container-id-1 div.sk-toggleable__content {max-height: 0;max-width: 0;overflow: hidden;text-align: left;background-color: #f0f8ff;}#sk-container-id-1 div.sk-toggleable__content pre {margin: 0.2em;color: black;border-radius: 0.25em;background-color: #f0f8ff;}#sk-container-id-1 input.sk-toggleable__control:checked~div.sk-toggleable__content {max-height: 200px;max-width: 100%;overflow: auto;}#sk-container-id-1 input.sk-toggleable__control:checked~label.sk-toggleable__label-arrow:before {content: \"▾\";}#sk-container-id-1 div.sk-estimator input.sk-toggleable__control:checked~label.sk-toggleable__label {background-color: #d4ebff;}#sk-container-id-1 div.sk-label input.sk-toggleable__control:checked~label.sk-toggleable__label {background-color: #d4ebff;}#sk-container-id-1 input.sk-hidden--visually {border: 0;clip: rect(1px 1px 1px 1px);clip: rect(1px, 1px, 1px, 1px);height: 1px;margin: -1px;overflow: hidden;padding: 0;position: absolute;width: 1px;}#sk-container-id-1 div.sk-estimator {font-family: monospace;background-color: #f0f8ff;border: 1px dotted black;border-radius: 0.25em;box-sizing: border-box;margin-bottom: 0.5em;}#sk-container-id-1 div.sk-estimator:hover {background-color: #d4ebff;}#sk-container-id-1 div.sk-parallel-item::after {content: \"\";width: 100%;border-bottom: 1px solid gray;flex-grow: 1;}#sk-container-id-1 div.sk-label:hover label.sk-toggleable__label {background-color: #d4ebff;}#sk-container-id-1 div.sk-serial::before {content: \"\";position: absolute;border-left: 1px solid gray;box-sizing: border-box;top: 0;bottom: 0;left: 50%;z-index: 0;}#sk-container-id-1 div.sk-serial {display: flex;flex-direction: column;align-items: center;background-color: white;padding-right: 0.2em;padding-left: 0.2em;position: relative;}#sk-container-id-1 div.sk-item {position: relative;z-index: 1;}#sk-container-id-1 div.sk-parallel {display: flex;align-items: stretch;justify-content: center;background-color: white;position: relative;}#sk-container-id-1 div.sk-item::before, #sk-container-id-1 div.sk-parallel-item::before {content: \"\";position: absolute;border-left: 1px solid gray;box-sizing: border-box;top: 0;bottom: 0;left: 50%;z-index: -1;}#sk-container-id-1 div.sk-parallel-item {display: flex;flex-direction: column;z-index: 1;position: relative;background-color: white;}#sk-container-id-1 div.sk-parallel-item:first-child::after {align-self: flex-end;width: 50%;}#sk-container-id-1 div.sk-parallel-item:last-child::after {align-self: flex-start;width: 50%;}#sk-container-id-1 div.sk-parallel-item:only-child::after {width: 0;}#sk-container-id-1 div.sk-dashed-wrapped {border: 1px dashed gray;margin: 0 0.4em 0.5em 0.4em;box-sizing: border-box;padding-bottom: 0.4em;background-color: white;}#sk-container-id-1 div.sk-label label {font-family: monospace;font-weight: bold;display: inline-block;line-height: 1.2em;}#sk-container-id-1 div.sk-label-container {text-align: center;}#sk-container-id-1 div.sk-container {/* jupyter's `normalize.less` sets `[hidden] { display: none; }` but bootstrap.min.css set `[hidden] { display: none !important; }` so we also need the `!important` here to be able to override the default hidden behavior on the sphinx rendered scikit-learn.org. See: https://github.com/scikit-learn/scikit-learn/issues/21755 */display: inline-block !important;position: relative;}#sk-container-id-1 div.sk-text-repr-fallback {display: none;}</style><div id=\"sk-container-id-1\" class=\"sk-top-container\"><div class=\"sk-text-repr-fallback\"><pre>XGBClassifier(base_score=None, booster=None, callbacks=None,\n",
       "              colsample_bylevel=None, colsample_bynode=None,\n",
       "              colsample_bytree=0.8, device=None, early_stopping_rounds=None,\n",
       "              enable_categorical=False, eval_metric=None, feature_types=None,\n",
       "              gamma=2, grow_policy=None, importance_type=None,\n",
       "              interaction_constraints=None, learning_rate=None, max_bin=None,\n",
       "              max_cat_threshold=None, max_cat_to_onehot=None,\n",
       "              max_delta_step=None, max_depth=4, max_leaves=None,\n",
       "              min_child_weight=1, missing=nan, monotone_constraints=None,\n",
       "              multi_strategy=None, n_estimators=None, n_jobs=None,\n",
       "              num_parallel_tree=None, objective=&#x27;multi:softprob&#x27;, ...)</pre><b>In a Jupyter environment, please rerun this cell to show the HTML representation or trust the notebook. <br />On GitHub, the HTML representation is unable to render, please try loading this page with nbviewer.org.</b></div><div class=\"sk-container\" hidden><div class=\"sk-item\"><div class=\"sk-estimator sk-toggleable\"><input class=\"sk-toggleable__control sk-hidden--visually\" id=\"sk-estimator-id-1\" type=\"checkbox\" checked><label for=\"sk-estimator-id-1\" class=\"sk-toggleable__label sk-toggleable__label-arrow\">XGBClassifier</label><div class=\"sk-toggleable__content\"><pre>XGBClassifier(base_score=None, booster=None, callbacks=None,\n",
       "              colsample_bylevel=None, colsample_bynode=None,\n",
       "              colsample_bytree=0.8, device=None, early_stopping_rounds=None,\n",
       "              enable_categorical=False, eval_metric=None, feature_types=None,\n",
       "              gamma=2, grow_policy=None, importance_type=None,\n",
       "              interaction_constraints=None, learning_rate=None, max_bin=None,\n",
       "              max_cat_threshold=None, max_cat_to_onehot=None,\n",
       "              max_delta_step=None, max_depth=4, max_leaves=None,\n",
       "              min_child_weight=1, missing=nan, monotone_constraints=None,\n",
       "              multi_strategy=None, n_estimators=None, n_jobs=None,\n",
       "              num_parallel_tree=None, objective=&#x27;multi:softprob&#x27;, ...)</pre></div></div></div></div></div>"
      ],
      "text/plain": [
       "XGBClassifier(base_score=None, booster=None, callbacks=None,\n",
       "              colsample_bylevel=None, colsample_bynode=None,\n",
       "              colsample_bytree=0.8, device=None, early_stopping_rounds=None,\n",
       "              enable_categorical=False, eval_metric=None, feature_types=None,\n",
       "              gamma=2, grow_policy=None, importance_type=None,\n",
       "              interaction_constraints=None, learning_rate=None, max_bin=None,\n",
       "              max_cat_threshold=None, max_cat_to_onehot=None,\n",
       "              max_delta_step=None, max_depth=4, max_leaves=None,\n",
       "              min_child_weight=1, missing=nan, monotone_constraints=None,\n",
       "              multi_strategy=None, n_estimators=None, n_jobs=None,\n",
       "              num_parallel_tree=None, objective='multi:softprob', ...)"
      ]
     },
     "execution_count": 26,
     "metadata": {},
     "output_type": "execute_result"
    }
   ],
   "source": [
    "print('Parameters for XGBoost with TF-IDF:')\n",
    "Model1_xgb_vader_combinedData = XGBClassifier(subsample = 1.0, min_child_weight = 1, max_depth = 4, gamma = 2, colsample_bytree = 0.8)\n",
    "Model1_xgb_vader_combinedData.fit(X_train_tfidf, y_train_combinedData)"
   ]
  },
  {
   "cell_type": "code",
   "execution_count": 27,
   "id": "17184dbe-62da-4866-b233-096a95f5966f",
   "metadata": {},
   "outputs": [
    {
     "name": "stdout",
     "output_type": "stream",
     "text": [
      "Parameters for XGBoost with Word2Vec:\n"
     ]
    },
    {
     "data": {
      "text/html": [
       "<style>#sk-container-id-2 {color: black;}#sk-container-id-2 pre{padding: 0;}#sk-container-id-2 div.sk-toggleable {background-color: white;}#sk-container-id-2 label.sk-toggleable__label {cursor: pointer;display: block;width: 100%;margin-bottom: 0;padding: 0.3em;box-sizing: border-box;text-align: center;}#sk-container-id-2 label.sk-toggleable__label-arrow:before {content: \"▸\";float: left;margin-right: 0.25em;color: #696969;}#sk-container-id-2 label.sk-toggleable__label-arrow:hover:before {color: black;}#sk-container-id-2 div.sk-estimator:hover label.sk-toggleable__label-arrow:before {color: black;}#sk-container-id-2 div.sk-toggleable__content {max-height: 0;max-width: 0;overflow: hidden;text-align: left;background-color: #f0f8ff;}#sk-container-id-2 div.sk-toggleable__content pre {margin: 0.2em;color: black;border-radius: 0.25em;background-color: #f0f8ff;}#sk-container-id-2 input.sk-toggleable__control:checked~div.sk-toggleable__content {max-height: 200px;max-width: 100%;overflow: auto;}#sk-container-id-2 input.sk-toggleable__control:checked~label.sk-toggleable__label-arrow:before {content: \"▾\";}#sk-container-id-2 div.sk-estimator input.sk-toggleable__control:checked~label.sk-toggleable__label {background-color: #d4ebff;}#sk-container-id-2 div.sk-label input.sk-toggleable__control:checked~label.sk-toggleable__label {background-color: #d4ebff;}#sk-container-id-2 input.sk-hidden--visually {border: 0;clip: rect(1px 1px 1px 1px);clip: rect(1px, 1px, 1px, 1px);height: 1px;margin: -1px;overflow: hidden;padding: 0;position: absolute;width: 1px;}#sk-container-id-2 div.sk-estimator {font-family: monospace;background-color: #f0f8ff;border: 1px dotted black;border-radius: 0.25em;box-sizing: border-box;margin-bottom: 0.5em;}#sk-container-id-2 div.sk-estimator:hover {background-color: #d4ebff;}#sk-container-id-2 div.sk-parallel-item::after {content: \"\";width: 100%;border-bottom: 1px solid gray;flex-grow: 1;}#sk-container-id-2 div.sk-label:hover label.sk-toggleable__label {background-color: #d4ebff;}#sk-container-id-2 div.sk-serial::before {content: \"\";position: absolute;border-left: 1px solid gray;box-sizing: border-box;top: 0;bottom: 0;left: 50%;z-index: 0;}#sk-container-id-2 div.sk-serial {display: flex;flex-direction: column;align-items: center;background-color: white;padding-right: 0.2em;padding-left: 0.2em;position: relative;}#sk-container-id-2 div.sk-item {position: relative;z-index: 1;}#sk-container-id-2 div.sk-parallel {display: flex;align-items: stretch;justify-content: center;background-color: white;position: relative;}#sk-container-id-2 div.sk-item::before, #sk-container-id-2 div.sk-parallel-item::before {content: \"\";position: absolute;border-left: 1px solid gray;box-sizing: border-box;top: 0;bottom: 0;left: 50%;z-index: -1;}#sk-container-id-2 div.sk-parallel-item {display: flex;flex-direction: column;z-index: 1;position: relative;background-color: white;}#sk-container-id-2 div.sk-parallel-item:first-child::after {align-self: flex-end;width: 50%;}#sk-container-id-2 div.sk-parallel-item:last-child::after {align-self: flex-start;width: 50%;}#sk-container-id-2 div.sk-parallel-item:only-child::after {width: 0;}#sk-container-id-2 div.sk-dashed-wrapped {border: 1px dashed gray;margin: 0 0.4em 0.5em 0.4em;box-sizing: border-box;padding-bottom: 0.4em;background-color: white;}#sk-container-id-2 div.sk-label label {font-family: monospace;font-weight: bold;display: inline-block;line-height: 1.2em;}#sk-container-id-2 div.sk-label-container {text-align: center;}#sk-container-id-2 div.sk-container {/* jupyter's `normalize.less` sets `[hidden] { display: none; }` but bootstrap.min.css set `[hidden] { display: none !important; }` so we also need the `!important` here to be able to override the default hidden behavior on the sphinx rendered scikit-learn.org. See: https://github.com/scikit-learn/scikit-learn/issues/21755 */display: inline-block !important;position: relative;}#sk-container-id-2 div.sk-text-repr-fallback {display: none;}</style><div id=\"sk-container-id-2\" class=\"sk-top-container\"><div class=\"sk-text-repr-fallback\"><pre>XGBClassifier(base_score=None, booster=None, callbacks=None,\n",
       "              colsample_bylevel=None, colsample_bynode=None, colsample_bytree=1,\n",
       "              device=None, early_stopping_rounds=None, enable_categorical=False,\n",
       "              eval_metric=None, feature_types=None, gamma=0.5, grow_policy=None,\n",
       "              importance_type=None, interaction_constraints=None,\n",
       "              learning_rate=None, max_bin=None, max_cat_threshold=None,\n",
       "              max_cat_to_onehot=None, max_delta_step=None, max_depth=5,\n",
       "              max_leaves=None, min_child_weight=5, missing=nan,\n",
       "              monotone_constraints=None, multi_strategy=None, n_estimators=None,\n",
       "              n_jobs=None, num_parallel_tree=None, objective=&#x27;multi:softprob&#x27;, ...)</pre><b>In a Jupyter environment, please rerun this cell to show the HTML representation or trust the notebook. <br />On GitHub, the HTML representation is unable to render, please try loading this page with nbviewer.org.</b></div><div class=\"sk-container\" hidden><div class=\"sk-item\"><div class=\"sk-estimator sk-toggleable\"><input class=\"sk-toggleable__control sk-hidden--visually\" id=\"sk-estimator-id-2\" type=\"checkbox\" checked><label for=\"sk-estimator-id-2\" class=\"sk-toggleable__label sk-toggleable__label-arrow\">XGBClassifier</label><div class=\"sk-toggleable__content\"><pre>XGBClassifier(base_score=None, booster=None, callbacks=None,\n",
       "              colsample_bylevel=None, colsample_bynode=None, colsample_bytree=1,\n",
       "              device=None, early_stopping_rounds=None, enable_categorical=False,\n",
       "              eval_metric=None, feature_types=None, gamma=0.5, grow_policy=None,\n",
       "              importance_type=None, interaction_constraints=None,\n",
       "              learning_rate=None, max_bin=None, max_cat_threshold=None,\n",
       "              max_cat_to_onehot=None, max_delta_step=None, max_depth=5,\n",
       "              max_leaves=None, min_child_weight=5, missing=nan,\n",
       "              monotone_constraints=None, multi_strategy=None, n_estimators=None,\n",
       "              n_jobs=None, num_parallel_tree=None, objective=&#x27;multi:softprob&#x27;, ...)</pre></div></div></div></div></div>"
      ],
      "text/plain": [
       "XGBClassifier(base_score=None, booster=None, callbacks=None,\n",
       "              colsample_bylevel=None, colsample_bynode=None, colsample_bytree=1,\n",
       "              device=None, early_stopping_rounds=None, enable_categorical=False,\n",
       "              eval_metric=None, feature_types=None, gamma=0.5, grow_policy=None,\n",
       "              importance_type=None, interaction_constraints=None,\n",
       "              learning_rate=None, max_bin=None, max_cat_threshold=None,\n",
       "              max_cat_to_onehot=None, max_delta_step=None, max_depth=5,\n",
       "              max_leaves=None, min_child_weight=5, missing=nan,\n",
       "              monotone_constraints=None, multi_strategy=None, n_estimators=None,\n",
       "              n_jobs=None, num_parallel_tree=None, objective='multi:softprob', ...)"
      ]
     },
     "execution_count": 27,
     "metadata": {},
     "output_type": "execute_result"
    }
   ],
   "source": [
    "print('Parameters for XGBoost with Word2Vec:')\n",
    "Model2_xgb_vader_combinedData = XGBClassifier(subsample = 1.0, min_child_weight = 5, max_depth = 5, gamma = 0.5, colsample_bytree = 1)\n",
    "Model2_xgb_vader_combinedData.fit(X_train_word2vec, y_train_combinedData)"
   ]
  },
  {
   "cell_type": "code",
   "execution_count": 28,
   "id": "2876b3bc-ac84-4688-bd0c-9e9daf0fe6f8",
   "metadata": {},
   "outputs": [],
   "source": [
    "from sklearn.metrics import classification_report, accuracy_score\n",
    "y_pred_xgb_combinedData_tfidf = Model1_xgb_vader_combinedData.predict(X_test_tfidf)\n",
    "accuracy_xgb_tfidf = accuracy_score(y_test_combinedData, y_pred_xgb_combinedData_tfidf)"
   ]
  },
  {
   "cell_type": "code",
   "execution_count": 29,
   "id": "eb2242ac-254a-4afd-ab43-7a3e6ad1ad11",
   "metadata": {},
   "outputs": [],
   "source": [
    "y_pred_xgb_combinedData_word2vec = Model2_xgb_vader_combinedData.predict(X_test_word2vec)\n",
    "accuracy_xgb_word2vec = accuracy_score(y_test_combinedData, y_pred_xgb_combinedData_word2vec)"
   ]
  },
  {
   "cell_type": "code",
   "execution_count": 30,
   "id": "7c2a8897-51b9-4a5c-b915-9cf21f47e14a",
   "metadata": {},
   "outputs": [
    {
     "name": "stdout",
     "output_type": "stream",
     "text": [
      "Accuracy for XGBoost using TF-IDF in combined app data: 85.575\n",
      "Accuracy for XGBoost using Word2Vec in combined app data: 73.13333333333333\n"
     ]
    }
   ],
   "source": [
    "print(f'Accuracy for XGBoost using TF-IDF in combined app data: {accuracy_xgb_tfidf*100}')\n",
    "print(f'Accuracy for XGBoost using Word2Vec in combined app data: {accuracy_xgb_word2vec*100}')"
   ]
  },
  {
   "cell_type": "code",
   "execution_count": 31,
   "id": "704a888a-3feb-4449-895f-eedec7f56016",
   "metadata": {},
   "outputs": [
    {
     "name": "stdout",
     "output_type": "stream",
     "text": [
      "Classification Report for XGBoost using TF-IDF:\n",
      "              precision    recall  f1-score   support\n",
      "\n",
      "    negative       0.86      0.81      0.83      4020\n",
      "     neutral       0.79      0.94      0.86      4022\n",
      "    positive       0.94      0.82      0.88      3958\n",
      "\n",
      "    accuracy                           0.86     12000\n",
      "   macro avg       0.86      0.86      0.86     12000\n",
      "weighted avg       0.86      0.86      0.86     12000\n",
      "\n",
      "Classification Report for XGBoost using Word2Vec:\n",
      "              precision    recall  f1-score   support\n",
      "\n",
      "    negative       0.68      0.75      0.71      4020\n",
      "     neutral       0.73      0.72      0.73      4022\n",
      "    positive       0.80      0.72      0.76      3958\n",
      "\n",
      "    accuracy                           0.73     12000\n",
      "   macro avg       0.74      0.73      0.73     12000\n",
      "weighted avg       0.74      0.73      0.73     12000\n",
      "\n"
     ]
    }
   ],
   "source": [
    "print(\"Classification Report for XGBoost using TF-IDF:\")\n",
    "print(classification_report(y_test_combinedData, y_pred_xgb_combinedData_tfidf, target_names=label_encoder.classes_))\n",
    "print(\"Classification Report for XGBoost using Word2Vec:\")\n",
    "print(classification_report(y_test_combinedData, y_pred_xgb_combinedData_word2vec, target_names=label_encoder.classes_))"
   ]
  },
  {
   "cell_type": "code",
   "execution_count": 32,
   "id": "c76fc212-c87b-431d-afba-5eed55edef8b",
   "metadata": {},
   "outputs": [
    {
     "data": {
      "image/png": "[encoded data removed]",
      "text/plain": [
       "<Figure size 1200x600 with 4 Axes>"
      ]
     },
     "metadata": {},
     "output_type": "display_data"
    }
   ],
   "source": [
    "import seaborn as sns\n",
    "import matplotlib.pyplot as plt\n",
    "from sklearn.metrics import confusion_matrix\n",
    "\n",
    "cm_model1_xgb = confusion_matrix(y_test_combinedData, y_pred_xgb_combinedData_tfidf)\n",
    "cm_model2_xgb = confusion_matrix(y_test_combinedData, y_pred_xgb_combinedData_word2vec)\n",
    "\n",
    "plt.figure(figsize=(12, 6))\n",
    "\n",
    "plt.subplot(1, 2, 1)\n",
    "sns.heatmap(cm_model1_xgb, annot=True, fmt='d', cmap='Blues', xticklabels=label_encoder.classes_, yticklabels=label_encoder.classes_)\n",
    "plt.xlabel('Predicted')\n",
    "plt.ylabel('Actual')\n",
    "plt.title('Confusion Matrix XGBoost - Model 1')\n",
    "\n",
    "plt.subplot(1, 2, 2)\n",
    "sns.heatmap(cm_model2_xgb, annot=True, fmt='d', cmap='Blues', xticklabels=label_encoder.classes_, yticklabels=label_encoder.classes_)\n",
    "plt.xlabel('Predicted')\n",
    "plt.ylabel('Actual')\n",
    "plt.title('Confusion Matrix XGBoost - Model 2')\n",
    "\n",
    "plt.tight_layout()\n",
    "plt.show()"
   ]
  },
  {
   "cell_type": "code",
   "execution_count": 33,
   "id": "5bc422b7-dce2-4937-a07c-1ea18092f1b4",
   "metadata": {},
   "outputs": [
    {
     "name": "stdout",
     "output_type": "stream",
     "text": [
      "Parameters for LogReg with TF-IDF:\n"
     ]
    },
    {
     "data": {
      "text/html": [
       "<style>#sk-container-id-3 {color: black;}#sk-container-id-3 pre{padding: 0;}#sk-container-id-3 div.sk-toggleable {background-color: white;}#sk-container-id-3 label.sk-toggleable__label {cursor: pointer;display: block;width: 100%;margin-bottom: 0;padding: 0.3em;box-sizing: border-box;text-align: center;}#sk-container-id-3 label.sk-toggleable__label-arrow:before {content: \"▸\";float: left;margin-right: 0.25em;color: #696969;}#sk-container-id-3 label.sk-toggleable__label-arrow:hover:before {color: black;}#sk-container-id-3 div.sk-estimator:hover label.sk-toggleable__label-arrow:before {color: black;}#sk-container-id-3 div.sk-toggleable__content {max-height: 0;max-width: 0;overflow: hidden;text-align: left;background-color: #f0f8ff;}#sk-container-id-3 div.sk-toggleable__content pre {margin: 0.2em;color: black;border-radius: 0.25em;background-color: #f0f8ff;}#sk-container-id-3 input.sk-toggleable__control:checked~div.sk-toggleable__content {max-height: 200px;max-width: 100%;overflow: auto;}#sk-container-id-3 input.sk-toggleable__control:checked~label.sk-toggleable__label-arrow:before {content: \"▾\";}#sk-container-id-3 div.sk-estimator input.sk-toggleable__control:checked~label.sk-toggleable__label {background-color: #d4ebff;}#sk-container-id-3 div.sk-label input.sk-toggleable__control:checked~label.sk-toggleable__label {background-color: #d4ebff;}#sk-container-id-3 input.sk-hidden--visually {border: 0;clip: rect(1px 1px 1px 1px);clip: rect(1px, 1px, 1px, 1px);height: 1px;margin: -1px;overflow: hidden;padding: 0;position: absolute;width: 1px;}#sk-container-id-3 div.sk-estimator {font-family: monospace;background-color: #f0f8ff;border: 1px dotted black;border-radius: 0.25em;box-sizing: border-box;margin-bottom: 0.5em;}#sk-container-id-3 div.sk-estimator:hover {background-color: #d4ebff;}#sk-container-id-3 div.sk-parallel-item::after {content: \"\";width: 100%;border-bottom: 1px solid gray;flex-grow: 1;}#sk-container-id-3 div.sk-label:hover label.sk-toggleable__label {background-color: #d4ebff;}#sk-container-id-3 div.sk-serial::before {content: \"\";position: absolute;border-left: 1px solid gray;box-sizing: border-box;top: 0;bottom: 0;left: 50%;z-index: 0;}#sk-container-id-3 div.sk-serial {display: flex;flex-direction: column;align-items: center;background-color: white;padding-right: 0.2em;padding-left: 0.2em;position: relative;}#sk-container-id-3 div.sk-item {position: relative;z-index: 1;}#sk-container-id-3 div.sk-parallel {display: flex;align-items: stretch;justify-content: center;background-color: white;position: relative;}#sk-container-id-3 div.sk-item::before, #sk-container-id-3 div.sk-parallel-item::before {content: \"\";position: absolute;border-left: 1px solid gray;box-sizing: border-box;top: 0;bottom: 0;left: 50%;z-index: -1;}#sk-container-id-3 div.sk-parallel-item {display: flex;flex-direction: column;z-index: 1;position: relative;background-color: white;}#sk-container-id-3 div.sk-parallel-item:first-child::after {align-self: flex-end;width: 50%;}#sk-container-id-3 div.sk-parallel-item:last-child::after {align-self: flex-start;width: 50%;}#sk-container-id-3 div.sk-parallel-item:only-child::after {width: 0;}#sk-container-id-3 div.sk-dashed-wrapped {border: 1px dashed gray;margin: 0 0.4em 0.5em 0.4em;box-sizing: border-box;padding-bottom: 0.4em;background-color: white;}#sk-container-id-3 div.sk-label label {font-family: monospace;font-weight: bold;display: inline-block;line-height: 1.2em;}#sk-container-id-3 div.sk-label-container {text-align: center;}#sk-container-id-3 div.sk-container {/* jupyter's `normalize.less` sets `[hidden] { display: none; }` but bootstrap.min.css set `[hidden] { display: none !important; }` so we also need the `!important` here to be able to override the default hidden behavior on the sphinx rendered scikit-learn.org. See: https://github.com/scikit-learn/scikit-learn/issues/21755 */display: inline-block !important;position: relative;}#sk-container-id-3 div.sk-text-repr-fallback {display: none;}</style><div id=\"sk-container-id-3\" class=\"sk-top-container\"><div class=\"sk-text-repr-fallback\"><pre>LogisticRegression(C=10, max_iter=300, solver=&#x27;saga&#x27;)</pre><b>In a Jupyter environment, please rerun this cell to show the HTML representation or trust the notebook. <br />On GitHub, the HTML representation is unable to render, please try loading this page with nbviewer.org.</b></div><div class=\"sk-container\" hidden><div class=\"sk-item\"><div class=\"sk-estimator sk-toggleable\"><input class=\"sk-toggleable__control sk-hidden--visually\" id=\"sk-estimator-id-3\" type=\"checkbox\" checked><label for=\"sk-estimator-id-3\" class=\"sk-toggleable__label sk-toggleable__label-arrow\">LogisticRegression</label><div class=\"sk-toggleable__content\"><pre>LogisticRegression(C=10, max_iter=300, solver=&#x27;saga&#x27;)</pre></div></div></div></div></div>"
      ],
      "text/plain": [
       "LogisticRegression(C=10, max_iter=300, solver='saga')"
      ]
     },
     "execution_count": 33,
     "metadata": {},
     "output_type": "execute_result"
    }
   ],
   "source": [
    "print('Parameters for LogReg with TF-IDF:')\n",
    "Model1_logreg_vader_combinedData = LogisticRegression(solver = 'saga', penalty = 'l2', max_iter = 300, C = 10)\n",
    "Model1_logreg_vader_combinedData.fit(X_train_tfidf, y_train_combinedData)"
   ]
  },
  {
   "cell_type": "code",
   "execution_count": 34,
   "id": "e8348d35-58e3-4592-97c9-7d19762c6754",
   "metadata": {
    "scrolled": true
   },
   "outputs": [
    {
     "name": "stdout",
     "output_type": "stream",
     "text": [
      "Parameters for LogReg with Word2Vec:\n"
     ]
    },
    {
     "name": "stderr",
     "output_type": "stream",
     "text": [
      "C:\\Users\\anish\\anaconda3\\envs\\gputest\\lib\\site-packages\\sklearn\\linear_model\\_logistic.py:1183: FutureWarning: `penalty='none'`has been deprecated in 1.2 and will be removed in 1.4. To keep the past behaviour, set `penalty=None`.\n",
      "  warnings.warn(\n",
      "C:\\Users\\anish\\anaconda3\\envs\\gputest\\lib\\site-packages\\sklearn\\linear_model\\_logistic.py:1193: UserWarning: Setting penalty=None will ignore the C and l1_ratio parameters\n",
      "  warnings.warn(\n"
     ]
    },
    {
     "data": {
      "text/html": [
       "<style>#sk-container-id-4 {color: black;}#sk-container-id-4 pre{padding: 0;}#sk-container-id-4 div.sk-toggleable {background-color: white;}#sk-container-id-4 label.sk-toggleable__label {cursor: pointer;display: block;width: 100%;margin-bottom: 0;padding: 0.3em;box-sizing: border-box;text-align: center;}#sk-container-id-4 label.sk-toggleable__label-arrow:before {content: \"▸\";float: left;margin-right: 0.25em;color: #696969;}#sk-container-id-4 label.sk-toggleable__label-arrow:hover:before {color: black;}#sk-container-id-4 div.sk-estimator:hover label.sk-toggleable__label-arrow:before {color: black;}#sk-container-id-4 div.sk-toggleable__content {max-height: 0;max-width: 0;overflow: hidden;text-align: left;background-color: #f0f8ff;}#sk-container-id-4 div.sk-toggleable__content pre {margin: 0.2em;color: black;border-radius: 0.25em;background-color: #f0f8ff;}#sk-container-id-4 input.sk-toggleable__control:checked~div.sk-toggleable__content {max-height: 200px;max-width: 100%;overflow: auto;}#sk-container-id-4 input.sk-toggleable__control:checked~label.sk-toggleable__label-arrow:before {content: \"▾\";}#sk-container-id-4 div.sk-estimator input.sk-toggleable__control:checked~label.sk-toggleable__label {background-color: #d4ebff;}#sk-container-id-4 div.sk-label input.sk-toggleable__control:checked~label.sk-toggleable__label {background-color: #d4ebff;}#sk-container-id-4 input.sk-hidden--visually {border: 0;clip: rect(1px 1px 1px 1px);clip: rect(1px, 1px, 1px, 1px);height: 1px;margin: -1px;overflow: hidden;padding: 0;position: absolute;width: 1px;}#sk-container-id-4 div.sk-estimator {font-family: monospace;background-color: #f0f8ff;border: 1px dotted black;border-radius: 0.25em;box-sizing: border-box;margin-bottom: 0.5em;}#sk-container-id-4 div.sk-estimator:hover {background-color: #d4ebff;}#sk-container-id-4 div.sk-parallel-item::after {content: \"\";width: 100%;border-bottom: 1px solid gray;flex-grow: 1;}#sk-container-id-4 div.sk-label:hover label.sk-toggleable__label {background-color: #d4ebff;}#sk-container-id-4 div.sk-serial::before {content: \"\";position: absolute;border-left: 1px solid gray;box-sizing: border-box;top: 0;bottom: 0;left: 50%;z-index: 0;}#sk-container-id-4 div.sk-serial {display: flex;flex-direction: column;align-items: center;background-color: white;padding-right: 0.2em;padding-left: 0.2em;position: relative;}#sk-container-id-4 div.sk-item {position: relative;z-index: 1;}#sk-container-id-4 div.sk-parallel {display: flex;align-items: stretch;justify-content: center;background-color: white;position: relative;}#sk-container-id-4 div.sk-item::before, #sk-container-id-4 div.sk-parallel-item::before {content: \"\";position: absolute;border-left: 1px solid gray;box-sizing: border-box;top: 0;bottom: 0;left: 50%;z-index: -1;}#sk-container-id-4 div.sk-parallel-item {display: flex;flex-direction: column;z-index: 1;position: relative;background-color: white;}#sk-container-id-4 div.sk-parallel-item:first-child::after {align-self: flex-end;width: 50%;}#sk-container-id-4 div.sk-parallel-item:last-child::after {align-self: flex-start;width: 50%;}#sk-container-id-4 div.sk-parallel-item:only-child::after {width: 0;}#sk-container-id-4 div.sk-dashed-wrapped {border: 1px dashed gray;margin: 0 0.4em 0.5em 0.4em;box-sizing: border-box;padding-bottom: 0.4em;background-color: white;}#sk-container-id-4 div.sk-label label {font-family: monospace;font-weight: bold;display: inline-block;line-height: 1.2em;}#sk-container-id-4 div.sk-label-container {text-align: center;}#sk-container-id-4 div.sk-container {/* jupyter's `normalize.less` sets `[hidden] { display: none; }` but bootstrap.min.css set `[hidden] { display: none !important; }` so we also need the `!important` here to be able to override the default hidden behavior on the sphinx rendered scikit-learn.org. See: https://github.com/scikit-learn/scikit-learn/issues/21755 */display: inline-block !important;position: relative;}#sk-container-id-4 div.sk-text-repr-fallback {display: none;}</style><div id=\"sk-container-id-4\" class=\"sk-top-container\"><div class=\"sk-text-repr-fallback\"><pre>LogisticRegression(C=10, max_iter=300, penalty=&#x27;none&#x27;, solver=&#x27;saga&#x27;)</pre><b>In a Jupyter environment, please rerun this cell to show the HTML representation or trust the notebook. <br />On GitHub, the HTML representation is unable to render, please try loading this page with nbviewer.org.</b></div><div class=\"sk-container\" hidden><div class=\"sk-item\"><div class=\"sk-estimator sk-toggleable\"><input class=\"sk-toggleable__control sk-hidden--visually\" id=\"sk-estimator-id-4\" type=\"checkbox\" checked><label for=\"sk-estimator-id-4\" class=\"sk-toggleable__label sk-toggleable__label-arrow\">LogisticRegression</label><div class=\"sk-toggleable__content\"><pre>LogisticRegression(C=10, max_iter=300, penalty=&#x27;none&#x27;, solver=&#x27;saga&#x27;)</pre></div></div></div></div></div>"
      ],
      "text/plain": [
       "LogisticRegression(C=10, max_iter=300, penalty='none', solver='saga')"
      ]
     },
     "execution_count": 34,
     "metadata": {},
     "output_type": "execute_result"
    }
   ],
   "source": [
    "print('Parameters for LogReg with Word2Vec:')\n",
    "Model2_logreg_vader_combinedData = LogisticRegression(solver = 'saga', penalty = 'none', max_iter = 300, C = 10)\n",
    "Model2_logreg_vader_combinedData.fit(X_train_word2vec, y_train_combinedData)"
   ]
  },
  {
   "cell_type": "code",
   "execution_count": 35,
   "id": "1bc60965-e689-4ef4-a4dc-7db890c5a9a2",
   "metadata": {},
   "outputs": [],
   "source": [
    "y_pred_logreg_combinedData_tfidf = Model1_logreg_vader_combinedData.predict(X_test_tfidf)\n",
    "accuracy_logreg_tfidf = accuracy_score(y_test_combinedData, y_pred_logreg_combinedData_tfidf)"
   ]
  },
  {
   "cell_type": "code",
   "execution_count": 36,
   "id": "e71b51e3-d77b-49d6-adde-2f4fe4133b65",
   "metadata": {},
   "outputs": [],
   "source": [
    "y_pred_logreg_combinedData_word2vec = Model2_logreg_vader_combinedData.predict(X_test_word2vec)\n",
    "accuracy_logreg_word2vec = accuracy_score(y_test_combinedData, y_pred_logreg_combinedData_word2vec)"
   ]
  },
  {
   "cell_type": "code",
   "execution_count": 37,
   "id": "ba7d3a3b-e7c1-4c19-8fea-da210a3674ae",
   "metadata": {},
   "outputs": [
    {
     "name": "stdout",
     "output_type": "stream",
     "text": [
      "Accuracy for LogReg using TF-IDF in combined app data: 89.08333333333334\n",
      "Accuracy for LogReg using Word2Vec in combined app data: 60.96666666666667\n"
     ]
    }
   ],
   "source": [
    "print(f'Accuracy for LogReg using TF-IDF in combined app data: {accuracy_logreg_tfidf*100}')\n",
    "print(f'Accuracy for LogReg using Word2Vec in combined app data: {accuracy_logreg_word2vec*100}')"
   ]
  },
  {
   "cell_type": "code",
   "execution_count": 38,
   "id": "9c816fb0-f4e6-4f5d-a42c-981151dd0726",
   "metadata": {},
   "outputs": [
    {
     "name": "stdout",
     "output_type": "stream",
     "text": [
      "Classification Report for LogReg using TF-IDF:\n",
      "              precision    recall  f1-score   support\n",
      "\n",
      "    negative       0.87      0.87      0.87      4020\n",
      "     neutral       0.88      0.92      0.90      4022\n",
      "    positive       0.93      0.88      0.91      3958\n",
      "\n",
      "    accuracy                           0.89     12000\n",
      "   macro avg       0.89      0.89      0.89     12000\n",
      "weighted avg       0.89      0.89      0.89     12000\n",
      "\n",
      "Classification Report for LogReg using Word2Vec:\n",
      "              precision    recall  f1-score   support\n",
      "\n",
      "    negative       0.58      0.64      0.61      4020\n",
      "     neutral       0.54      0.53      0.53      4022\n",
      "    positive       0.72      0.67      0.69      3958\n",
      "\n",
      "    accuracy                           0.61     12000\n",
      "   macro avg       0.61      0.61      0.61     12000\n",
      "weighted avg       0.61      0.61      0.61     12000\n",
      "\n"
     ]
    }
   ],
   "source": [
    "print(\"Classification Report for LogReg using TF-IDF:\")\n",
    "print(classification_report(y_test_combinedData, y_pred_logreg_combinedData_tfidf, target_names=label_encoder.classes_))\n",
    "print(\"Classification Report for LogReg using Word2Vec:\")\n",
    "print(classification_report(y_test_combinedData, y_pred_logreg_combinedData_word2vec, target_names=label_encoder.classes_))"
   ]
  },
  {
   "cell_type": "code",
   "execution_count": 39,
   "id": "0ce77104-47e5-4e4b-82b3-38b5b671006e",
   "metadata": {},
   "outputs": [
    {
     "data": {
      "image/png": "[encoded data removed]",
      "text/plain": [
       "<Figure size 1200x600 with 4 Axes>"
      ]
     },
     "metadata": {},
     "output_type": "display_data"
    }
   ],
   "source": [
    "cm_model1_logreg = confusion_matrix(y_test_combinedData, y_pred_logreg_combinedData_tfidf)\n",
    "cm_model2_logreg = confusion_matrix(y_test_combinedData, y_pred_logreg_combinedData_word2vec)\n",
    "\n",
    "plt.figure(figsize=(12, 6))\n",
    "\n",
    "plt.subplot(1, 2, 1)\n",
    "sns.heatmap(cm_model1_logreg, annot=True, fmt='d', cmap='Blues', xticklabels=label_encoder.classes_, yticklabels=label_encoder.classes_)\n",
    "plt.xlabel('Predicted')\n",
    "plt.ylabel('Actual')\n",
    "plt.title('Confusion Matrix LogReg - Model 1')\n",
    "\n",
    "plt.subplot(1, 2, 2)\n",
    "sns.heatmap(cm_model2_logreg, annot=True, fmt='d', cmap='Blues', xticklabels=label_encoder.classes_, yticklabels=label_encoder.classes_)\n",
    "plt.xlabel('Predicted')\n",
    "plt.ylabel('Actual')\n",
    "plt.title('Confusion Matrix LogReg- Model 2')\n",
    "\n",
    "plt.tight_layout()\n",
    "plt.show()"
   ]
  },
  {
   "cell_type": "code",
   "execution_count": 40,
   "id": "04c7d483-bad5-40b2-9120-8fce2510d588",
   "metadata": {},
   "outputs": [
    {
     "name": "stdout",
     "output_type": "stream",
     "text": [
      "Parameters for NaiveBayes with TF-IDF:\n"
     ]
    },
    {
     "data": {
      "text/html": [
       "<style>#sk-container-id-5 {color: black;}#sk-container-id-5 pre{padding: 0;}#sk-container-id-5 div.sk-toggleable {background-color: white;}#sk-container-id-5 label.sk-toggleable__label {cursor: pointer;display: block;width: 100%;margin-bottom: 0;padding: 0.3em;box-sizing: border-box;text-align: center;}#sk-container-id-5 label.sk-toggleable__label-arrow:before {content: \"▸\";float: left;margin-right: 0.25em;color: #696969;}#sk-container-id-5 label.sk-toggleable__label-arrow:hover:before {color: black;}#sk-container-id-5 div.sk-estimator:hover label.sk-toggleable__label-arrow:before {color: black;}#sk-container-id-5 div.sk-toggleable__content {max-height: 0;max-width: 0;overflow: hidden;text-align: left;background-color: #f0f8ff;}#sk-container-id-5 div.sk-toggleable__content pre {margin: 0.2em;color: black;border-radius: 0.25em;background-color: #f0f8ff;}#sk-container-id-5 input.sk-toggleable__control:checked~div.sk-toggleable__content {max-height: 200px;max-width: 100%;overflow: auto;}#sk-container-id-5 input.sk-toggleable__control:checked~label.sk-toggleable__label-arrow:before {content: \"▾\";}#sk-container-id-5 div.sk-estimator input.sk-toggleable__control:checked~label.sk-toggleable__label {background-color: #d4ebff;}#sk-container-id-5 div.sk-label input.sk-toggleable__control:checked~label.sk-toggleable__label {background-color: #d4ebff;}#sk-container-id-5 input.sk-hidden--visually {border: 0;clip: rect(1px 1px 1px 1px);clip: rect(1px, 1px, 1px, 1px);height: 1px;margin: -1px;overflow: hidden;padding: 0;position: absolute;width: 1px;}#sk-container-id-5 div.sk-estimator {font-family: monospace;background-color: #f0f8ff;border: 1px dotted black;border-radius: 0.25em;box-sizing: border-box;margin-bottom: 0.5em;}#sk-container-id-5 div.sk-estimator:hover {background-color: #d4ebff;}#sk-container-id-5 div.sk-parallel-item::after {content: \"\";width: 100%;border-bottom: 1px solid gray;flex-grow: 1;}#sk-container-id-5 div.sk-label:hover label.sk-toggleable__label {background-color: #d4ebff;}#sk-container-id-5 div.sk-serial::before {content: \"\";position: absolute;border-left: 1px solid gray;box-sizing: border-box;top: 0;bottom: 0;left: 50%;z-index: 0;}#sk-container-id-5 div.sk-serial {display: flex;flex-direction: column;align-items: center;background-color: white;padding-right: 0.2em;padding-left: 0.2em;position: relative;}#sk-container-id-5 div.sk-item {position: relative;z-index: 1;}#sk-container-id-5 div.sk-parallel {display: flex;align-items: stretch;justify-content: center;background-color: white;position: relative;}#sk-container-id-5 div.sk-item::before, #sk-container-id-5 div.sk-parallel-item::before {content: \"\";position: absolute;border-left: 1px solid gray;box-sizing: border-box;top: 0;bottom: 0;left: 50%;z-index: -1;}#sk-container-id-5 div.sk-parallel-item {display: flex;flex-direction: column;z-index: 1;position: relative;background-color: white;}#sk-container-id-5 div.sk-parallel-item:first-child::after {align-self: flex-end;width: 50%;}#sk-container-id-5 div.sk-parallel-item:last-child::after {align-self: flex-start;width: 50%;}#sk-container-id-5 div.sk-parallel-item:only-child::after {width: 0;}#sk-container-id-5 div.sk-dashed-wrapped {border: 1px dashed gray;margin: 0 0.4em 0.5em 0.4em;box-sizing: border-box;padding-bottom: 0.4em;background-color: white;}#sk-container-id-5 div.sk-label label {font-family: monospace;font-weight: bold;display: inline-block;line-height: 1.2em;}#sk-container-id-5 div.sk-label-container {text-align: center;}#sk-container-id-5 div.sk-container {/* jupyter's `normalize.less` sets `[hidden] { display: none; }` but bootstrap.min.css set `[hidden] { display: none !important; }` so we also need the `!important` here to be able to override the default hidden behavior on the sphinx rendered scikit-learn.org. See: https://github.com/scikit-learn/scikit-learn/issues/21755 */display: inline-block !important;position: relative;}#sk-container-id-5 div.sk-text-repr-fallback {display: none;}</style><div id=\"sk-container-id-5\" class=\"sk-top-container\"><div class=\"sk-text-repr-fallback\"><pre>MultinomialNB(fit_prior=False)</pre><b>In a Jupyter environment, please rerun this cell to show the HTML representation or trust the notebook. <br />On GitHub, the HTML representation is unable to render, please try loading this page with nbviewer.org.</b></div><div class=\"sk-container\" hidden><div class=\"sk-item\"><div class=\"sk-estimator sk-toggleable\"><input class=\"sk-toggleable__control sk-hidden--visually\" id=\"sk-estimator-id-5\" type=\"checkbox\" checked><label for=\"sk-estimator-id-5\" class=\"sk-toggleable__label sk-toggleable__label-arrow\">MultinomialNB</label><div class=\"sk-toggleable__content\"><pre>MultinomialNB(fit_prior=False)</pre></div></div></div></div></div>"
      ],
      "text/plain": [
       "MultinomialNB(fit_prior=False)"
      ]
     },
     "execution_count": 40,
     "metadata": {},
     "output_type": "execute_result"
    }
   ],
   "source": [
    "from sklearn.naive_bayes import MultinomialNB\n",
    "print('Parameters for NaiveBayes with TF-IDF:')\n",
    "Model1_nb_vader_combinedData = MultinomialNB(fit_prior= False, alpha = 1.0)\n",
    "Model1_nb_vader_combinedData.fit(X_train_tfidf, y_train_combinedData)"
   ]
  },
  {
   "cell_type": "code",
   "execution_count": 41,
   "id": "094d3f07-582e-4e9f-9b70-4f6301edc3ba",
   "metadata": {},
   "outputs": [
    {
     "name": "stdout",
     "output_type": "stream",
     "text": [
      "Parameters for NaiveBayes with Word2Vec:\n"
     ]
    },
    {
     "data": {
      "text/html": [
       "<style>#sk-container-id-6 {color: black;}#sk-container-id-6 pre{padding: 0;}#sk-container-id-6 div.sk-toggleable {background-color: white;}#sk-container-id-6 label.sk-toggleable__label {cursor: pointer;display: block;width: 100%;margin-bottom: 0;padding: 0.3em;box-sizing: border-box;text-align: center;}#sk-container-id-6 label.sk-toggleable__label-arrow:before {content: \"▸\";float: left;margin-right: 0.25em;color: #696969;}#sk-container-id-6 label.sk-toggleable__label-arrow:hover:before {color: black;}#sk-container-id-6 div.sk-estimator:hover label.sk-toggleable__label-arrow:before {color: black;}#sk-container-id-6 div.sk-toggleable__content {max-height: 0;max-width: 0;overflow: hidden;text-align: left;background-color: #f0f8ff;}#sk-container-id-6 div.sk-toggleable__content pre {margin: 0.2em;color: black;border-radius: 0.25em;background-color: #f0f8ff;}#sk-container-id-6 input.sk-toggleable__control:checked~div.sk-toggleable__content {max-height: 200px;max-width: 100%;overflow: auto;}#sk-container-id-6 input.sk-toggleable__control:checked~label.sk-toggleable__label-arrow:before {content: \"▾\";}#sk-container-id-6 div.sk-estimator input.sk-toggleable__control:checked~label.sk-toggleable__label {background-color: #d4ebff;}#sk-container-id-6 div.sk-label input.sk-toggleable__control:checked~label.sk-toggleable__label {background-color: #d4ebff;}#sk-container-id-6 input.sk-hidden--visually {border: 0;clip: rect(1px 1px 1px 1px);clip: rect(1px, 1px, 1px, 1px);height: 1px;margin: -1px;overflow: hidden;padding: 0;position: absolute;width: 1px;}#sk-container-id-6 div.sk-estimator {font-family: monospace;background-color: #f0f8ff;border: 1px dotted black;border-radius: 0.25em;box-sizing: border-box;margin-bottom: 0.5em;}#sk-container-id-6 div.sk-estimator:hover {background-color: #d4ebff;}#sk-container-id-6 div.sk-parallel-item::after {content: \"\";width: 100%;border-bottom: 1px solid gray;flex-grow: 1;}#sk-container-id-6 div.sk-label:hover label.sk-toggleable__label {background-color: #d4ebff;}#sk-container-id-6 div.sk-serial::before {content: \"\";position: absolute;border-left: 1px solid gray;box-sizing: border-box;top: 0;bottom: 0;left: 50%;z-index: 0;}#sk-container-id-6 div.sk-serial {display: flex;flex-direction: column;align-items: center;background-color: white;padding-right: 0.2em;padding-left: 0.2em;position: relative;}#sk-container-id-6 div.sk-item {position: relative;z-index: 1;}#sk-container-id-6 div.sk-parallel {display: flex;align-items: stretch;justify-content: center;background-color: white;position: relative;}#sk-container-id-6 div.sk-item::before, #sk-container-id-6 div.sk-parallel-item::before {content: \"\";position: absolute;border-left: 1px solid gray;box-sizing: border-box;top: 0;bottom: 0;left: 50%;z-index: -1;}#sk-container-id-6 div.sk-parallel-item {display: flex;flex-direction: column;z-index: 1;position: relative;background-color: white;}#sk-container-id-6 div.sk-parallel-item:first-child::after {align-self: flex-end;width: 50%;}#sk-container-id-6 div.sk-parallel-item:last-child::after {align-self: flex-start;width: 50%;}#sk-container-id-6 div.sk-parallel-item:only-child::after {width: 0;}#sk-container-id-6 div.sk-dashed-wrapped {border: 1px dashed gray;margin: 0 0.4em 0.5em 0.4em;box-sizing: border-box;padding-bottom: 0.4em;background-color: white;}#sk-container-id-6 div.sk-label label {font-family: monospace;font-weight: bold;display: inline-block;line-height: 1.2em;}#sk-container-id-6 div.sk-label-container {text-align: center;}#sk-container-id-6 div.sk-container {/* jupyter's `normalize.less` sets `[hidden] { display: none; }` but bootstrap.min.css set `[hidden] { display: none !important; }` so we also need the `!important` here to be able to override the default hidden behavior on the sphinx rendered scikit-learn.org. See: https://github.com/scikit-learn/scikit-learn/issues/21755 */display: inline-block !important;position: relative;}#sk-container-id-6 div.sk-text-repr-fallback {display: none;}</style><div id=\"sk-container-id-6\" class=\"sk-top-container\"><div class=\"sk-text-repr-fallback\"><pre>GaussianNB(var_smoothing=1e-11)</pre><b>In a Jupyter environment, please rerun this cell to show the HTML representation or trust the notebook. <br />On GitHub, the HTML representation is unable to render, please try loading this page with nbviewer.org.</b></div><div class=\"sk-container\" hidden><div class=\"sk-item\"><div class=\"sk-estimator sk-toggleable\"><input class=\"sk-toggleable__control sk-hidden--visually\" id=\"sk-estimator-id-6\" type=\"checkbox\" checked><label for=\"sk-estimator-id-6\" class=\"sk-toggleable__label sk-toggleable__label-arrow\">GaussianNB</label><div class=\"sk-toggleable__content\"><pre>GaussianNB(var_smoothing=1e-11)</pre></div></div></div></div></div>"
      ],
      "text/plain": [
       "GaussianNB(var_smoothing=1e-11)"
      ]
     },
     "execution_count": 41,
     "metadata": {},
     "output_type": "execute_result"
    }
   ],
   "source": [
    "print('Parameters for NaiveBayes with Word2Vec:')\n",
    "Model2_nb_vader_combinedData = GaussianNB(var_smoothing = 1e-11)\n",
    "Model2_nb_vader_combinedData.fit(X_train_word2vec, y_train_combinedData)"
   ]
  },
  {
   "cell_type": "code",
   "execution_count": 42,
   "id": "a23c39ab-9e33-48b4-bac8-6e3a436e3119",
   "metadata": {},
   "outputs": [],
   "source": [
    "y_pred_nb_combinedData_tfidf = Model1_nb_vader_combinedData.predict(X_test_tfidf)\n",
    "accuracy_nb_tfidf = accuracy_score(y_test_combinedData, y_pred_nb_combinedData_tfidf)\n",
    "\n",
    "y_pred_nb_combinedData_word2vec = Model2_nb_vader_combinedData.predict(X_test_word2vec)\n",
    "accuracy_nb_word2vec = accuracy_score(y_test_combinedData, y_pred_nb_combinedData_word2vec)"
   ]
  },
  {
   "cell_type": "code",
   "execution_count": 43,
   "id": "30deeab4-090c-4445-aa41-e8d3cf574a19",
   "metadata": {},
   "outputs": [
    {
     "name": "stdout",
     "output_type": "stream",
     "text": [
      "Accuracy for NB using TF-IDF in combined app data: 75.3\n",
      "Accuracy for NB using Word2Vec in combined app data: 56.75\n"
     ]
    }
   ],
   "source": [
    "print(f'Accuracy for NB using TF-IDF in combined app data: {accuracy_nb_tfidf*100}')\n",
    "print(f'Accuracy for NB using Word2Vec in combined app data: {accuracy_nb_word2vec*100}')"
   ]
  },
  {
   "cell_type": "code",
   "execution_count": 44,
   "id": "3d389898-acd8-4aa8-9b94-54497da086e3",
   "metadata": {},
   "outputs": [
    {
     "name": "stdout",
     "output_type": "stream",
     "text": [
      "Classification Report for NB using TF-IDF:\n",
      "              precision    recall  f1-score   support\n",
      "\n",
      "    negative       0.68      0.88      0.77      4020\n",
      "     neutral       0.86      0.54      0.66      4022\n",
      "    positive       0.77      0.84      0.80      3958\n",
      "\n",
      "    accuracy                           0.75     12000\n",
      "   macro avg       0.77      0.75      0.75     12000\n",
      "weighted avg       0.77      0.75      0.75     12000\n",
      "\n",
      "Classification Report for NB using Word2Vec:\n",
      "              precision    recall  f1-score   support\n",
      "\n",
      "    negative       0.52      0.79      0.63      4020\n",
      "     neutral       0.59      0.55      0.57      4022\n",
      "    positive       0.66      0.36      0.46      3958\n",
      "\n",
      "    accuracy                           0.57     12000\n",
      "   macro avg       0.59      0.57      0.55     12000\n",
      "weighted avg       0.59      0.57      0.55     12000\n",
      "\n"
     ]
    }
   ],
   "source": [
    "print(\"Classification Report for NB using TF-IDF:\")\n",
    "print(classification_report(y_test_combinedData, y_pred_nb_combinedData_tfidf, target_names=label_encoder.classes_))\n",
    "print(\"Classification Report for NB using Word2Vec:\")\n",
    "print(classification_report(y_test_combinedData, y_pred_nb_combinedData_word2vec, target_names=label_encoder.classes_))"
   ]
  },
  {
   "cell_type": "code",
   "execution_count": 45,
   "id": "c0f062ca-b7f5-4012-9317-a31106eb3189",
   "metadata": {},
   "outputs": [
    {
     "data": {
      "image/png": "[encoded data removed]",
      "text/plain": [
       "<Figure size 1200x600 with 4 Axes>"
      ]
     },
     "metadata": {},
     "output_type": "display_data"
    }
   ],
   "source": [
    "cm_model1_nb = confusion_matrix(y_test_combinedData, y_pred_nb_combinedData_tfidf)\n",
    "cm_model2_nb = confusion_matrix(y_test_combinedData, y_pred_nb_combinedData_word2vec)\n",
    "\n",
    "plt.figure(figsize=(12, 6))\n",
    "\n",
    "plt.subplot(1, 2, 1)\n",
    "sns.heatmap(cm_model1_nb, annot=True, fmt='d', cmap='Blues', xticklabels=label_encoder.classes_, yticklabels=label_encoder.classes_)\n",
    "plt.xlabel('Predicted')\n",
    "plt.ylabel('Actual')\n",
    "plt.title('Confusion Matrix NaiveBayes - Model 1')\n",
    "\n",
    "plt.subplot(1, 2, 2)\n",
    "sns.heatmap(cm_model2_nb, annot=True, fmt='d', cmap='Blues', xticklabels=label_encoder.classes_, yticklabels=label_encoder.classes_)\n",
    "plt.xlabel('Predicted')\n",
    "plt.ylabel('Actual')\n",
    "plt.title('Confusion Matrix NaiveBayes - Model 2')\n",
    "\n",
    "plt.tight_layout()\n",
    "plt.show()"
   ]
  },
  {
   "cell_type": "code",
   "execution_count": 46,
   "id": "4175bef5-2096-40ad-aacc-5b2383fb7a34",
   "metadata": {},
   "outputs": [
    {
     "name": "stdout",
     "output_type": "stream",
     "text": [
      "Parameters for RF with TF-IDF:\n"
     ]
    },
    {
     "data": {
      "text/html": [
       "<style>#sk-container-id-7 {color: black;}#sk-container-id-7 pre{padding: 0;}#sk-container-id-7 div.sk-toggleable {background-color: white;}#sk-container-id-7 label.sk-toggleable__label {cursor: pointer;display: block;width: 100%;margin-bottom: 0;padding: 0.3em;box-sizing: border-box;text-align: center;}#sk-container-id-7 label.sk-toggleable__label-arrow:before {content: \"▸\";float: left;margin-right: 0.25em;color: #696969;}#sk-container-id-7 label.sk-toggleable__label-arrow:hover:before {color: black;}#sk-container-id-7 div.sk-estimator:hover label.sk-toggleable__label-arrow:before {color: black;}#sk-container-id-7 div.sk-toggleable__content {max-height: 0;max-width: 0;overflow: hidden;text-align: left;background-color: #f0f8ff;}#sk-container-id-7 div.sk-toggleable__content pre {margin: 0.2em;color: black;border-radius: 0.25em;background-color: #f0f8ff;}#sk-container-id-7 input.sk-toggleable__control:checked~div.sk-toggleable__content {max-height: 200px;max-width: 100%;overflow: auto;}#sk-container-id-7 input.sk-toggleable__control:checked~label.sk-toggleable__label-arrow:before {content: \"▾\";}#sk-container-id-7 div.sk-estimator input.sk-toggleable__control:checked~label.sk-toggleable__label {background-color: #d4ebff;}#sk-container-id-7 div.sk-label input.sk-toggleable__control:checked~label.sk-toggleable__label {background-color: #d4ebff;}#sk-container-id-7 input.sk-hidden--visually {border: 0;clip: rect(1px 1px 1px 1px);clip: rect(1px, 1px, 1px, 1px);height: 1px;margin: -1px;overflow: hidden;padding: 0;position: absolute;width: 1px;}#sk-container-id-7 div.sk-estimator {font-family: monospace;background-color: #f0f8ff;border: 1px dotted black;border-radius: 0.25em;box-sizing: border-box;margin-bottom: 0.5em;}#sk-container-id-7 div.sk-estimator:hover {background-color: #d4ebff;}#sk-container-id-7 div.sk-parallel-item::after {content: \"\";width: 100%;border-bottom: 1px solid gray;flex-grow: 1;}#sk-container-id-7 div.sk-label:hover label.sk-toggleable__label {background-color: #d4ebff;}#sk-container-id-7 div.sk-serial::before {content: \"\";position: absolute;border-left: 1px solid gray;box-sizing: border-box;top: 0;bottom: 0;left: 50%;z-index: 0;}#sk-container-id-7 div.sk-serial {display: flex;flex-direction: column;align-items: center;background-color: white;padding-right: 0.2em;padding-left: 0.2em;position: relative;}#sk-container-id-7 div.sk-item {position: relative;z-index: 1;}#sk-container-id-7 div.sk-parallel {display: flex;align-items: stretch;justify-content: center;background-color: white;position: relative;}#sk-container-id-7 div.sk-item::before, #sk-container-id-7 div.sk-parallel-item::before {content: \"\";position: absolute;border-left: 1px solid gray;box-sizing: border-box;top: 0;bottom: 0;left: 50%;z-index: -1;}#sk-container-id-7 div.sk-parallel-item {display: flex;flex-direction: column;z-index: 1;position: relative;background-color: white;}#sk-container-id-7 div.sk-parallel-item:first-child::after {align-self: flex-end;width: 50%;}#sk-container-id-7 div.sk-parallel-item:last-child::after {align-self: flex-start;width: 50%;}#sk-container-id-7 div.sk-parallel-item:only-child::after {width: 0;}#sk-container-id-7 div.sk-dashed-wrapped {border: 1px dashed gray;margin: 0 0.4em 0.5em 0.4em;box-sizing: border-box;padding-bottom: 0.4em;background-color: white;}#sk-container-id-7 div.sk-label label {font-family: monospace;font-weight: bold;display: inline-block;line-height: 1.2em;}#sk-container-id-7 div.sk-label-container {text-align: center;}#sk-container-id-7 div.sk-container {/* jupyter's `normalize.less` sets `[hidden] { display: none; }` but bootstrap.min.css set `[hidden] { display: none !important; }` so we also need the `!important` here to be able to override the default hidden behavior on the sphinx rendered scikit-learn.org. See: https://github.com/scikit-learn/scikit-learn/issues/21755 */display: inline-block !important;position: relative;}#sk-container-id-7 div.sk-text-repr-fallback {display: none;}</style><div id=\"sk-container-id-7\" class=\"sk-top-container\"><div class=\"sk-text-repr-fallback\"><pre>RandomForestClassifier(max_depth=20, min_samples_split=15, n_estimators=57)</pre><b>In a Jupyter environment, please rerun this cell to show the HTML representation or trust the notebook. <br />On GitHub, the HTML representation is unable to render, please try loading this page with nbviewer.org.</b></div><div class=\"sk-container\" hidden><div class=\"sk-item\"><div class=\"sk-estimator sk-toggleable\"><input class=\"sk-toggleable__control sk-hidden--visually\" id=\"sk-estimator-id-7\" type=\"checkbox\" checked><label for=\"sk-estimator-id-7\" class=\"sk-toggleable__label sk-toggleable__label-arrow\">RandomForestClassifier</label><div class=\"sk-toggleable__content\"><pre>RandomForestClassifier(max_depth=20, min_samples_split=15, n_estimators=57)</pre></div></div></div></div></div>"
      ],
      "text/plain": [
       "RandomForestClassifier(max_depth=20, min_samples_split=15, n_estimators=57)"
      ]
     },
     "execution_count": 46,
     "metadata": {},
     "output_type": "execute_result"
    }
   ],
   "source": [
    "print('Parameters for RF with TF-IDF:')\n",
    "Model1_rf_vader_combinedData = RandomForestClassifier(n_estimators = 57, min_samples_split = 15, min_samples_leaf = 1, max_features = 'sqrt', max_depth = 20)\n",
    "Model1_rf_vader_combinedData.fit(X_train_tfidf, y_train_combinedData)"
   ]
  },
  {
   "cell_type": "code",
   "execution_count": 47,
   "id": "9558e576-13e1-42a6-bca8-4a05681e048f",
   "metadata": {},
   "outputs": [
    {
     "name": "stdout",
     "output_type": "stream",
     "text": [
      "Parameters for RF with Word2Vec:\n"
     ]
    },
    {
     "data": {
      "text/html": [
       "<style>#sk-container-id-8 {color: black;}#sk-container-id-8 pre{padding: 0;}#sk-container-id-8 div.sk-toggleable {background-color: white;}#sk-container-id-8 label.sk-toggleable__label {cursor: pointer;display: block;width: 100%;margin-bottom: 0;padding: 0.3em;box-sizing: border-box;text-align: center;}#sk-container-id-8 label.sk-toggleable__label-arrow:before {content: \"▸\";float: left;margin-right: 0.25em;color: #696969;}#sk-container-id-8 label.sk-toggleable__label-arrow:hover:before {color: black;}#sk-container-id-8 div.sk-estimator:hover label.sk-toggleable__label-arrow:before {color: black;}#sk-container-id-8 div.sk-toggleable__content {max-height: 0;max-width: 0;overflow: hidden;text-align: left;background-color: #f0f8ff;}#sk-container-id-8 div.sk-toggleable__content pre {margin: 0.2em;color: black;border-radius: 0.25em;background-color: #f0f8ff;}#sk-container-id-8 input.sk-toggleable__control:checked~div.sk-toggleable__content {max-height: 200px;max-width: 100%;overflow: auto;}#sk-container-id-8 input.sk-toggleable__control:checked~label.sk-toggleable__label-arrow:before {content: \"▾\";}#sk-container-id-8 div.sk-estimator input.sk-toggleable__control:checked~label.sk-toggleable__label {background-color: #d4ebff;}#sk-container-id-8 div.sk-label input.sk-toggleable__control:checked~label.sk-toggleable__label {background-color: #d4ebff;}#sk-container-id-8 input.sk-hidden--visually {border: 0;clip: rect(1px 1px 1px 1px);clip: rect(1px, 1px, 1px, 1px);height: 1px;margin: -1px;overflow: hidden;padding: 0;position: absolute;width: 1px;}#sk-container-id-8 div.sk-estimator {font-family: monospace;background-color: #f0f8ff;border: 1px dotted black;border-radius: 0.25em;box-sizing: border-box;margin-bottom: 0.5em;}#sk-container-id-8 div.sk-estimator:hover {background-color: #d4ebff;}#sk-container-id-8 div.sk-parallel-item::after {content: \"\";width: 100%;border-bottom: 1px solid gray;flex-grow: 1;}#sk-container-id-8 div.sk-label:hover label.sk-toggleable__label {background-color: #d4ebff;}#sk-container-id-8 div.sk-serial::before {content: \"\";position: absolute;border-left: 1px solid gray;box-sizing: border-box;top: 0;bottom: 0;left: 50%;z-index: 0;}#sk-container-id-8 div.sk-serial {display: flex;flex-direction: column;align-items: center;background-color: white;padding-right: 0.2em;padding-left: 0.2em;position: relative;}#sk-container-id-8 div.sk-item {position: relative;z-index: 1;}#sk-container-id-8 div.sk-parallel {display: flex;align-items: stretch;justify-content: center;background-color: white;position: relative;}#sk-container-id-8 div.sk-item::before, #sk-container-id-8 div.sk-parallel-item::before {content: \"\";position: absolute;border-left: 1px solid gray;box-sizing: border-box;top: 0;bottom: 0;left: 50%;z-index: -1;}#sk-container-id-8 div.sk-parallel-item {display: flex;flex-direction: column;z-index: 1;position: relative;background-color: white;}#sk-container-id-8 div.sk-parallel-item:first-child::after {align-self: flex-end;width: 50%;}#sk-container-id-8 div.sk-parallel-item:last-child::after {align-self: flex-start;width: 50%;}#sk-container-id-8 div.sk-parallel-item:only-child::after {width: 0;}#sk-container-id-8 div.sk-dashed-wrapped {border: 1px dashed gray;margin: 0 0.4em 0.5em 0.4em;box-sizing: border-box;padding-bottom: 0.4em;background-color: white;}#sk-container-id-8 div.sk-label label {font-family: monospace;font-weight: bold;display: inline-block;line-height: 1.2em;}#sk-container-id-8 div.sk-label-container {text-align: center;}#sk-container-id-8 div.sk-container {/* jupyter's `normalize.less` sets `[hidden] { display: none; }` but bootstrap.min.css set `[hidden] { display: none !important; }` so we also need the `!important` here to be able to override the default hidden behavior on the sphinx rendered scikit-learn.org. See: https://github.com/scikit-learn/scikit-learn/issues/21755 */display: inline-block !important;position: relative;}#sk-container-id-8 div.sk-text-repr-fallback {display: none;}</style><div id=\"sk-container-id-8\" class=\"sk-top-container\"><div class=\"sk-text-repr-fallback\"><pre>RandomForestClassifier(max_depth=20, max_features=&#x27;log2&#x27;, min_samples_leaf=2,\n",
       "                       n_estimators=71)</pre><b>In a Jupyter environment, please rerun this cell to show the HTML representation or trust the notebook. <br />On GitHub, the HTML representation is unable to render, please try loading this page with nbviewer.org.</b></div><div class=\"sk-container\" hidden><div class=\"sk-item\"><div class=\"sk-estimator sk-toggleable\"><input class=\"sk-toggleable__control sk-hidden--visually\" id=\"sk-estimator-id-8\" type=\"checkbox\" checked><label for=\"sk-estimator-id-8\" class=\"sk-toggleable__label sk-toggleable__label-arrow\">RandomForestClassifier</label><div class=\"sk-toggleable__content\"><pre>RandomForestClassifier(max_depth=20, max_features=&#x27;log2&#x27;, min_samples_leaf=2,\n",
       "                       n_estimators=71)</pre></div></div></div></div></div>"
      ],
      "text/plain": [
       "RandomForestClassifier(max_depth=20, max_features='log2', min_samples_leaf=2,\n",
       "                       n_estimators=71)"
      ]
     },
     "execution_count": 47,
     "metadata": {},
     "output_type": "execute_result"
    }
   ],
   "source": [
    "print('Parameters for RF with Word2Vec:')\n",
    "Model2_rf_vader_combinedData = RandomForestClassifier(n_estimators = 71, min_samples_split = 2, min_samples_leaf = 2, max_features = 'log2', max_depth = 20)\n",
    "Model2_rf_vader_combinedData.fit(X_train_word2vec, y_train_combinedData)"
   ]
  },
  {
   "cell_type": "code",
   "execution_count": 48,
   "id": "7d519e5d-de47-4652-a3bb-baaf8cbd1d34",
   "metadata": {},
   "outputs": [],
   "source": [
    "y_pred_rf_combinedData_tfidf = Model1_rf_vader_combinedData.predict(X_test_tfidf)\n",
    "accuracy_rf_tfidf = accuracy_score(y_test_combinedData, y_pred_rf_combinedData_tfidf)\n",
    "\n",
    "y_pred_rf_combinedData_word2vec = Model2_rf_vader_combinedData.predict(X_test_word2vec)\n",
    "accuracy_rf_word2vec = accuracy_score(y_test_combinedData, y_pred_rf_combinedData_word2vec)"
   ]
  },
  {
   "cell_type": "code",
   "execution_count": 49,
   "id": "2f64e990-c2c3-49a4-83b4-be033c9cb1c0",
   "metadata": {},
   "outputs": [
    {
     "name": "stdout",
     "output_type": "stream",
     "text": [
      "Accuracy for RF using TF-IDF in combined app data: 78.36666666666666\n",
      "Accuracy for RF using Word2Vec in combined app data: 69.56666666666666\n"
     ]
    }
   ],
   "source": [
    "print(f'Accuracy for RF using TF-IDF in combined app data: {accuracy_rf_tfidf*100}')\n",
    "print(f'Accuracy for RF using Word2Vec in combined app data: {accuracy_rf_word2vec*100}')"
   ]
  },
  {
   "cell_type": "code",
   "execution_count": 50,
   "id": "8016a6b9-a399-4a4b-924f-0078f4286cb9",
   "metadata": {},
   "outputs": [
    {
     "name": "stdout",
     "output_type": "stream",
     "text": [
      "Classification Report for RF using TF-IDF:\n",
      "              precision    recall  f1-score   support\n",
      "\n",
      "    negative       0.77      0.72      0.75      4020\n",
      "     neutral       0.71      0.87      0.78      4022\n",
      "    positive       0.92      0.75      0.83      3958\n",
      "\n",
      "    accuracy                           0.78     12000\n",
      "   macro avg       0.80      0.78      0.78     12000\n",
      "weighted avg       0.80      0.78      0.78     12000\n",
      "\n",
      "Classification Report for RF using Word2Vec:\n",
      "              precision    recall  f1-score   support\n",
      "\n",
      "    negative       0.65      0.72      0.68      4020\n",
      "     neutral       0.68      0.72      0.70      4022\n",
      "    positive       0.78      0.64      0.70      3958\n",
      "\n",
      "    accuracy                           0.70     12000\n",
      "   macro avg       0.70      0.70      0.70     12000\n",
      "weighted avg       0.70      0.70      0.70     12000\n",
      "\n"
     ]
    }
   ],
   "source": [
    "print(\"Classification Report for RF using TF-IDF:\")\n",
    "print(classification_report(y_test_combinedData, y_pred_rf_combinedData_tfidf, target_names=label_encoder.classes_))\n",
    "print(\"Classification Report for RF using Word2Vec:\")\n",
    "print(classification_report(y_test_combinedData, y_pred_rf_combinedData_word2vec, target_names=label_encoder.classes_))"
   ]
  },
  {
   "cell_type": "code",
   "execution_count": 51,
   "id": "a5db75fb-f128-43f9-ae4e-e94a02fc7cd3",
   "metadata": {},
   "outputs": [
    {
     "data": {
      "image/png": "[encoded data removed]",
      "text/plain": [
       "<Figure size 1200x600 with 4 Axes>"
      ]
     },
     "metadata": {},
     "output_type": "display_data"
    }
   ],
   "source": [
    "cm_model1_rf = confusion_matrix(y_test_combinedData, y_pred_rf_combinedData_tfidf)\n",
    "cm_model2_rf = confusion_matrix(y_test_combinedData, y_pred_rf_combinedData_word2vec)\n",
    "\n",
    "plt.figure(figsize=(12, 6))\n",
    "\n",
    "plt.subplot(1, 2, 1)\n",
    "sns.heatmap(cm_model1_rf, annot=True, fmt='d', cmap='Blues', xticklabels=label_encoder.classes_, yticklabels=label_encoder.classes_)\n",
    "plt.xlabel('Predicted')\n",
    "plt.ylabel('Actual')\n",
    "plt.title('Confusion Matrix RandomForest - Model 1')\n",
    "\n",
    "plt.subplot(1, 2, 2)\n",
    "sns.heatmap(cm_model2_rf, annot=True, fmt='d', cmap='Blues', xticklabels=label_encoder.classes_, yticklabels=label_encoder.classes_)\n",
    "plt.xlabel('Predicted')\n",
    "plt.ylabel('Actual')\n",
    "plt.title('Confusion Matrix RandomForest- Model 2')\n",
    "\n",
    "plt.tight_layout()\n",
    "plt.show()"
   ]
  },
  {
   "cell_type": "code",
   "execution_count": 52,
   "id": "366ffe4f-e9db-4163-9126-580a503eb6fd",
   "metadata": {},
   "outputs": [
    {
     "name": "stdout",
     "output_type": "stream",
     "text": [
      "Parameters for SVC with TF-IDF:\n"
     ]
    },
    {
     "data": {
      "text/html": [
       "<style>#sk-container-id-9 {color: black;}#sk-container-id-9 pre{padding: 0;}#sk-container-id-9 div.sk-toggleable {background-color: white;}#sk-container-id-9 label.sk-toggleable__label {cursor: pointer;display: block;width: 100%;margin-bottom: 0;padding: 0.3em;box-sizing: border-box;text-align: center;}#sk-container-id-9 label.sk-toggleable__label-arrow:before {content: \"▸\";float: left;margin-right: 0.25em;color: #696969;}#sk-container-id-9 label.sk-toggleable__label-arrow:hover:before {color: black;}#sk-container-id-9 div.sk-estimator:hover label.sk-toggleable__label-arrow:before {color: black;}#sk-container-id-9 div.sk-toggleable__content {max-height: 0;max-width: 0;overflow: hidden;text-align: left;background-color: #f0f8ff;}#sk-container-id-9 div.sk-toggleable__content pre {margin: 0.2em;color: black;border-radius: 0.25em;background-color: #f0f8ff;}#sk-container-id-9 input.sk-toggleable__control:checked~div.sk-toggleable__content {max-height: 200px;max-width: 100%;overflow: auto;}#sk-container-id-9 input.sk-toggleable__control:checked~label.sk-toggleable__label-arrow:before {content: \"▾\";}#sk-container-id-9 div.sk-estimator input.sk-toggleable__control:checked~label.sk-toggleable__label {background-color: #d4ebff;}#sk-container-id-9 div.sk-label input.sk-toggleable__control:checked~label.sk-toggleable__label {background-color: #d4ebff;}#sk-container-id-9 input.sk-hidden--visually {border: 0;clip: rect(1px 1px 1px 1px);clip: rect(1px, 1px, 1px, 1px);height: 1px;margin: -1px;overflow: hidden;padding: 0;position: absolute;width: 1px;}#sk-container-id-9 div.sk-estimator {font-family: monospace;background-color: #f0f8ff;border: 1px dotted black;border-radius: 0.25em;box-sizing: border-box;margin-bottom: 0.5em;}#sk-container-id-9 div.sk-estimator:hover {background-color: #d4ebff;}#sk-container-id-9 div.sk-parallel-item::after {content: \"\";width: 100%;border-bottom: 1px solid gray;flex-grow: 1;}#sk-container-id-9 div.sk-label:hover label.sk-toggleable__label {background-color: #d4ebff;}#sk-container-id-9 div.sk-serial::before {content: \"\";position: absolute;border-left: 1px solid gray;box-sizing: border-box;top: 0;bottom: 0;left: 50%;z-index: 0;}#sk-container-id-9 div.sk-serial {display: flex;flex-direction: column;align-items: center;background-color: white;padding-right: 0.2em;padding-left: 0.2em;position: relative;}#sk-container-id-9 div.sk-item {position: relative;z-index: 1;}#sk-container-id-9 div.sk-parallel {display: flex;align-items: stretch;justify-content: center;background-color: white;position: relative;}#sk-container-id-9 div.sk-item::before, #sk-container-id-9 div.sk-parallel-item::before {content: \"\";position: absolute;border-left: 1px solid gray;box-sizing: border-box;top: 0;bottom: 0;left: 50%;z-index: -1;}#sk-container-id-9 div.sk-parallel-item {display: flex;flex-direction: column;z-index: 1;position: relative;background-color: white;}#sk-container-id-9 div.sk-parallel-item:first-child::after {align-self: flex-end;width: 50%;}#sk-container-id-9 div.sk-parallel-item:last-child::after {align-self: flex-start;width: 50%;}#sk-container-id-9 div.sk-parallel-item:only-child::after {width: 0;}#sk-container-id-9 div.sk-dashed-wrapped {border: 1px dashed gray;margin: 0 0.4em 0.5em 0.4em;box-sizing: border-box;padding-bottom: 0.4em;background-color: white;}#sk-container-id-9 div.sk-label label {font-family: monospace;font-weight: bold;display: inline-block;line-height: 1.2em;}#sk-container-id-9 div.sk-label-container {text-align: center;}#sk-container-id-9 div.sk-container {/* jupyter's `normalize.less` sets `[hidden] { display: none; }` but bootstrap.min.css set `[hidden] { display: none !important; }` so we also need the `!important` here to be able to override the default hidden behavior on the sphinx rendered scikit-learn.org. See: https://github.com/scikit-learn/scikit-learn/issues/21755 */display: inline-block !important;position: relative;}#sk-container-id-9 div.sk-text-repr-fallback {display: none;}</style><div id=\"sk-container-id-9\" class=\"sk-top-container\"><div class=\"sk-text-repr-fallback\"><pre>SVC(C=1, degree=2, kernel=&#x27;linear&#x27;)</pre><b>In a Jupyter environment, please rerun this cell to show the HTML representation or trust the notebook. <br />On GitHub, the HTML representation is unable to render, please try loading this page with nbviewer.org.</b></div><div class=\"sk-container\" hidden><div class=\"sk-item\"><div class=\"sk-estimator sk-toggleable\"><input class=\"sk-toggleable__control sk-hidden--visually\" id=\"sk-estimator-id-9\" type=\"checkbox\" checked><label for=\"sk-estimator-id-9\" class=\"sk-toggleable__label sk-toggleable__label-arrow\">SVC</label><div class=\"sk-toggleable__content\"><pre>SVC(C=1, degree=2, kernel=&#x27;linear&#x27;)</pre></div></div></div></div></div>"
      ],
      "text/plain": [
       "SVC(C=1, degree=2, kernel='linear')"
      ]
     },
     "execution_count": 52,
     "metadata": {},
     "output_type": "execute_result"
    }
   ],
   "source": [
    "print('Parameters for SVC with TF-IDF:')\n",
    "Model1_svc_vader_combinedData = SVC(kernel = 'linear', degree = 2, C = 1)\n",
    "Model1_svc_vader_combinedData.fit(X_train_tfidf, y_train_combinedData)"
   ]
  },
  {
   "cell_type": "code",
   "execution_count": 55,
   "id": "efbd4889-aea8-4541-baf4-6120a105d5eb",
   "metadata": {},
   "outputs": [
    {
     "name": "stdout",
     "output_type": "stream",
     "text": [
      "Parameters for SVC with Word2Vec:\n"
     ]
    },
    {
     "data": {
      "text/html": [
       "<style>#sk-container-id-11 {color: black;}#sk-container-id-11 pre{padding: 0;}#sk-container-id-11 div.sk-toggleable {background-color: white;}#sk-container-id-11 label.sk-toggleable__label {cursor: pointer;display: block;width: 100%;margin-bottom: 0;padding: 0.3em;box-sizing: border-box;text-align: center;}#sk-container-id-11 label.sk-toggleable__label-arrow:before {content: \"▸\";float: left;margin-right: 0.25em;color: #696969;}#sk-container-id-11 label.sk-toggleable__label-arrow:hover:before {color: black;}#sk-container-id-11 div.sk-estimator:hover label.sk-toggleable__label-arrow:before {color: black;}#sk-container-id-11 div.sk-toggleable__content {max-height: 0;max-width: 0;overflow: hidden;text-align: left;background-color: #f0f8ff;}#sk-container-id-11 div.sk-toggleable__content pre {margin: 0.2em;color: black;border-radius: 0.25em;background-color: #f0f8ff;}#sk-container-id-11 input.sk-toggleable__control:checked~div.sk-toggleable__content {max-height: 200px;max-width: 100%;overflow: auto;}#sk-container-id-11 input.sk-toggleable__control:checked~label.sk-toggleable__label-arrow:before {content: \"▾\";}#sk-container-id-11 div.sk-estimator input.sk-toggleable__control:checked~label.sk-toggleable__label {background-color: #d4ebff;}#sk-container-id-11 div.sk-label input.sk-toggleable__control:checked~label.sk-toggleable__label {background-color: #d4ebff;}#sk-container-id-11 input.sk-hidden--visually {border: 0;clip: rect(1px 1px 1px 1px);clip: rect(1px, 1px, 1px, 1px);height: 1px;margin: -1px;overflow: hidden;padding: 0;position: absolute;width: 1px;}#sk-container-id-11 div.sk-estimator {font-family: monospace;background-color: #f0f8ff;border: 1px dotted black;border-radius: 0.25em;box-sizing: border-box;margin-bottom: 0.5em;}#sk-container-id-11 div.sk-estimator:hover {background-color: #d4ebff;}#sk-container-id-11 div.sk-parallel-item::after {content: \"\";width: 100%;border-bottom: 1px solid gray;flex-grow: 1;}#sk-container-id-11 div.sk-label:hover label.sk-toggleable__label {background-color: #d4ebff;}#sk-container-id-11 div.sk-serial::before {content: \"\";position: absolute;border-left: 1px solid gray;box-sizing: border-box;top: 0;bottom: 0;left: 50%;z-index: 0;}#sk-container-id-11 div.sk-serial {display: flex;flex-direction: column;align-items: center;background-color: white;padding-right: 0.2em;padding-left: 0.2em;position: relative;}#sk-container-id-11 div.sk-item {position: relative;z-index: 1;}#sk-container-id-11 div.sk-parallel {display: flex;align-items: stretch;justify-content: center;background-color: white;position: relative;}#sk-container-id-11 div.sk-item::before, #sk-container-id-11 div.sk-parallel-item::before {content: \"\";position: absolute;border-left: 1px solid gray;box-sizing: border-box;top: 0;bottom: 0;left: 50%;z-index: -1;}#sk-container-id-11 div.sk-parallel-item {display: flex;flex-direction: column;z-index: 1;position: relative;background-color: white;}#sk-container-id-11 div.sk-parallel-item:first-child::after {align-self: flex-end;width: 50%;}#sk-container-id-11 div.sk-parallel-item:last-child::after {align-self: flex-start;width: 50%;}#sk-container-id-11 div.sk-parallel-item:only-child::after {width: 0;}#sk-container-id-11 div.sk-dashed-wrapped {border: 1px dashed gray;margin: 0 0.4em 0.5em 0.4em;box-sizing: border-box;padding-bottom: 0.4em;background-color: white;}#sk-container-id-11 div.sk-label label {font-family: monospace;font-weight: bold;display: inline-block;line-height: 1.2em;}#sk-container-id-11 div.sk-label-container {text-align: center;}#sk-container-id-11 div.sk-container {/* jupyter's `normalize.less` sets `[hidden] { display: none; }` but bootstrap.min.css set `[hidden] { display: none !important; }` so we also need the `!important` here to be able to override the default hidden behavior on the sphinx rendered scikit-learn.org. See: https://github.com/scikit-learn/scikit-learn/issues/21755 */display: inline-block !important;position: relative;}#sk-container-id-11 div.sk-text-repr-fallback {display: none;}</style><div id=\"sk-container-id-11\" class=\"sk-top-container\"><div class=\"sk-text-repr-fallback\"><pre>SVC(C=1, degree=1)</pre><b>In a Jupyter environment, please rerun this cell to show the HTML representation or trust the notebook. <br />On GitHub, the HTML representation is unable to render, please try loading this page with nbviewer.org.</b></div><div class=\"sk-container\" hidden><div class=\"sk-item\"><div class=\"sk-estimator sk-toggleable\"><input class=\"sk-toggleable__control sk-hidden--visually\" id=\"sk-estimator-id-11\" type=\"checkbox\" checked><label for=\"sk-estimator-id-11\" class=\"sk-toggleable__label sk-toggleable__label-arrow\">SVC</label><div class=\"sk-toggleable__content\"><pre>SVC(C=1, degree=1)</pre></div></div></div></div></div>"
      ],
      "text/plain": [
       "SVC(C=1, degree=1)"
      ]
     },
     "execution_count": 55,
     "metadata": {},
     "output_type": "execute_result"
    }
   ],
   "source": [
    "print('Parameters for SVC with Word2Vec:')\n",
    "Model2_svc_vader_combinedData = SVC(kernel = 'rbf', degree = 1, C = 1)\n",
    "Model2_svc_vader_combinedData.fit(X_train_word2vec, y_train_combinedData)"
   ]
  },
  {
   "cell_type": "code",
   "execution_count": 56,
   "id": "1c0b3d4f-951c-444a-8a7c-9061e3b3fdf9",
   "metadata": {},
   "outputs": [],
   "source": [
    "y_pred_svc_combinedData_tfidf = Model1_svc_vader_combinedData.predict(X_test_tfidf)\n",
    "accuracy_svc_tfidf = accuracy_score(y_test_combinedData, y_pred_svc_combinedData_tfidf)\n",
    "\n",
    "y_pred_svc_combinedData_word2vec = Model2_svc_vader_combinedData.predict(X_test_word2vec)\n",
    "accuracy_svc_word2vec = accuracy_score(y_test_combinedData, y_pred_svc_combinedData_word2vec)"
   ]
  },
  {
   "cell_type": "code",
   "execution_count": 57,
   "id": "a1ca3048-4e83-4e2e-9c32-4d83bfbf627a",
   "metadata": {},
   "outputs": [
    {
     "name": "stdout",
     "output_type": "stream",
     "text": [
      "Accuracy for SVC using TF-IDF in combined app data: 90.525\n",
      "Accuracy for SVC using Word2Vec in combined app data: 78.51666666666667\n"
     ]
    }
   ],
   "source": [
    "print(f'Accuracy for SVC using TF-IDF in combined app data: {accuracy_svc_tfidf*100}')\n",
    "print(f'Accuracy for SVC using Word2Vec in combined app data: {accuracy_svc_word2vec*100}')"
   ]
  },
  {
   "cell_type": "code",
   "execution_count": 58,
   "id": "e0a3409f-6e63-41b7-99ea-2a32f6223b42",
   "metadata": {},
   "outputs": [
    {
     "name": "stdout",
     "output_type": "stream",
     "text": [
      "Classification Report for SVC using TF-IDF:\n",
      "              precision    recall  f1-score   support\n",
      "\n",
      "    negative       0.86      0.91      0.88      4020\n",
      "     neutral       0.91      0.93      0.92      4022\n",
      "    positive       0.95      0.88      0.91      3958\n",
      "\n",
      "    accuracy                           0.91     12000\n",
      "   macro avg       0.91      0.91      0.91     12000\n",
      "weighted avg       0.91      0.91      0.91     12000\n",
      "\n",
      "Classification Report for SVC using Word2Vec:\n",
      "              precision    recall  f1-score   support\n",
      "\n",
      "    negative       0.69      0.84      0.76      4020\n",
      "     neutral       0.81      0.77      0.79      4022\n",
      "    positive       0.89      0.75      0.81      3958\n",
      "\n",
      "    accuracy                           0.79     12000\n",
      "   macro avg       0.80      0.78      0.79     12000\n",
      "weighted avg       0.80      0.79      0.79     12000\n",
      "\n"
     ]
    }
   ],
   "source": [
    "print(\"Classification Report for SVC using TF-IDF:\")\n",
    "print(classification_report(y_test_combinedData, y_pred_svc_combinedData_tfidf, target_names=label_encoder.classes_))\n",
    "print(\"Classification Report for SVC using Word2Vec:\")\n",
    "print(classification_report(y_test_combinedData, y_pred_svc_combinedData_word2vec, target_names=label_encoder.classes_))"
   ]
  },
  {
   "cell_type": "code",
   "execution_count": 59,
   "id": "368e8225-0dfc-40c0-bf48-5a97b5ad2b70",
   "metadata": {},
   "outputs": [
    {
     "data": {
      "image/png": "[encoded data removed]",
      "text/plain": [
       "<Figure size 1200x600 with 4 Axes>"
      ]
     },
     "metadata": {},
     "output_type": "display_data"
    }
   ],
   "source": [
    "cm_model1_svc = confusion_matrix(y_test_combinedData, y_pred_svc_combinedData_tfidf)\n",
    "cm_model2_svc = confusion_matrix(y_test_combinedData, y_pred_svc_combinedData_word2vec)\n",
    "\n",
    "plt.figure(figsize=(12, 6))\n",
    "\n",
    "plt.subplot(1, 2, 1)\n",
    "sns.heatmap(cm_model1_svc, annot=True, fmt='d', cmap='Blues', xticklabels=label_encoder.classes_, yticklabels=label_encoder.classes_)\n",
    "plt.xlabel('Predicted')\n",
    "plt.ylabel('Actual')\n",
    "plt.title('Confusion Matrix SVC - Model 1')\n",
    "\n",
    "plt.subplot(1, 2, 2)\n",
    "sns.heatmap(cm_model2_svc, annot=True, fmt='d', cmap='Blues', xticklabels=label_encoder.classes_, yticklabels=label_encoder.classes_)\n",
    "plt.xlabel('Predicted')\n",
    "plt.ylabel('Actual')\n",
    "plt.title('Confusion Matrix SVC - Model 2')\n",
    "\n",
    "plt.tight_layout()\n",
    "plt.show()"
   ]
  },
  {
   "cell_type": "code",
   "execution_count": 60,
   "id": "78973afa-92ae-4531-a918-404fe8a5fa02",
   "metadata": {},
   "outputs": [
    {
     "name": "stdout",
     "output_type": "stream",
     "text": [
      "Accuracy using diff ML and word-embedding models in Combined App Data:\n"
     ]
    },
    {
     "data": {
      "text/html": [
       "<div>\n",
       "<style scoped>\n",
       "    .dataframe tbody tr th:only-of-type {\n",
       "        vertical-align: middle;\n",
       "    }\n",
       "\n",
       "    .dataframe tbody tr th {\n",
       "        vertical-align: top;\n",
       "    }\n",
       "\n",
       "    .dataframe thead th {\n",
       "        text-align: right;\n",
       "    }\n",
       "</style>\n",
       "<table border=\"1\" class=\"dataframe\">\n",
       "  <thead>\n",
       "    <tr style=\"text-align: right;\">\n",
       "      <th></th>\n",
       "      <th>Model</th>\n",
       "      <th>TF-IDF Accuracy (%)</th>\n",
       "      <th>Word2Vec Accuracy (%)</th>\n",
       "    </tr>\n",
       "  </thead>\n",
       "  <tbody>\n",
       "    <tr>\n",
       "      <th>0</th>\n",
       "      <td>XGBoost</td>\n",
       "      <td>85.575000</td>\n",
       "      <td>73.133333</td>\n",
       "    </tr>\n",
       "    <tr>\n",
       "      <th>1</th>\n",
       "      <td>Logistic Regression</td>\n",
       "      <td>89.083333</td>\n",
       "      <td>60.966667</td>\n",
       "    </tr>\n",
       "    <tr>\n",
       "      <th>2</th>\n",
       "      <td>Random Forest</td>\n",
       "      <td>78.366667</td>\n",
       "      <td>69.566667</td>\n",
       "    </tr>\n",
       "    <tr>\n",
       "      <th>3</th>\n",
       "      <td>Naive Bayes</td>\n",
       "      <td>75.300000</td>\n",
       "      <td>56.750000</td>\n",
       "    </tr>\n",
       "    <tr>\n",
       "      <th>4</th>\n",
       "      <td>Support Vector Machines</td>\n",
       "      <td>90.525000</td>\n",
       "      <td>78.516667</td>\n",
       "    </tr>\n",
       "  </tbody>\n",
       "</table>\n",
       "</div>"
      ],
      "text/plain": [
       "                     Model  TF-IDF Accuracy (%)  Word2Vec Accuracy (%)\n",
       "0                  XGBoost            85.575000              73.133333\n",
       "1      Logistic Regression            89.083333              60.966667\n",
       "2            Random Forest            78.366667              69.566667\n",
       "3              Naive Bayes            75.300000              56.750000\n",
       "4  Support Vector Machines            90.525000              78.516667"
      ]
     },
     "metadata": {},
     "output_type": "display_data"
    }
   ],
   "source": [
    "from IPython.display import display\n",
    "data_CApp = {\n",
    "    \"Model\": [\"XGBoost\", \"Logistic Regression\", \"Random Forest\", \"Naive Bayes\", \"Support Vector Machines\"],\n",
    "    \"TF-IDF Accuracy (%)\": [accuracy_xgb_tfidf*100, accuracy_logreg_tfidf*100, accuracy_rf_tfidf*100, accuracy_nb_tfidf*100, accuracy_svc_tfidf*100],\n",
    "    \"Word2Vec Accuracy (%)\": [accuracy_xgb_word2vec*100, accuracy_logreg_word2vec*100, accuracy_rf_word2vec*100, accuracy_nb_word2vec*100, accuracy_svc_word2vec*100]\n",
    "}\n",
    "\n",
    "df_CApp = pd.DataFrame(data_CApp)\n",
    "\n",
    "print('Accuracy using diff ML and word-embedding models in Combined App Data:')\n",
    "display(df_CApp)"
   ]
  },
  {
   "cell_type": "code",
   "execution_count": 61,
   "id": "af468b42-2e45-4764-a223-be683bdec3b0",
   "metadata": {},
   "outputs": [],
   "source": [
    "model_tfidf = [Model1_xgb_vader_combinedData, Model1_logreg_vader_combinedData, Model1_rf_vader_combinedData, Model1_nb_vader_combinedData, Model1_svc_vader_combinedData]\n",
    "model_w2v = [Model2_xgb_vader_combinedData, Model2_logreg_vader_combinedData, Model2_rf_vader_combinedData, Model2_nb_vader_combinedData, Model2_svc_vader_combinedData]"
   ]
  },
  {
   "cell_type": "markdown",
   "id": "0c2c35b4-4e35-405c-b529-62781781d8e8",
   "metadata": {},
   "source": [
    "Save models to disk"
   ]
  },
  {
   "cell_type": "code",
   "execution_count": 62,
   "id": "b95aace4-58ee-4638-bb24-ba969935a77f",
   "metadata": {},
   "outputs": [],
   "source": [
    "import pickle\n",
    "model_names_tfidf = ['Model1_xgb_vader_combinedData.pkl', 'Model1_logreg_vader_combinedData.pkl', 'Model1_rf_vader_combinedData.pkl', 'Model1_nb_vader_combinedData.pkl', 'Model1_svc_vader_combinedData.pkl']\n",
    "for model, name in zip(model_tfidf, model_names_tfidf):\n",
    "    with open(name, 'wb') as file:\n",
    "        pickle.dump(model, file)"
   ]
  },
  {
   "cell_type": "code",
   "execution_count": 63,
   "id": "596e3163-87a2-4178-8613-0cbbd226481e",
   "metadata": {},
   "outputs": [],
   "source": [
    "model_names_w2v = ['Model2_xgb_vader_combinedData', 'Model2_logreg_vader_combinedData.pkl', 'Model2_rf_vader_combinedData.pkl', 'Model2_nb_vader_combinedData.pkl', 'Model2_svc_vader_combinedData.pkl']\n",
    "for model, name in zip(model_w2v, model_names_w2v):\n",
    "    with open(name, 'wb') as file:\n",
    "        pickle.dump(model, file)"
   ]
  },
  {
   "cell_type": "markdown",
   "id": "bdaea640-5a10-488b-9122-1236297aada0",
   "metadata": {},
   "source": [
    "Load models from disk"
   ]
  },
  {
   "cell_type": "code",
   "execution_count": 64,
   "id": "2f45b230-8c0b-4b6f-b099-bab54516be16",
   "metadata": {},
   "outputs": [
    {
     "data": {
      "text/plain": [
       "[XGBClassifier(base_score=None, booster=None, callbacks=None,\n",
       "               colsample_bylevel=None, colsample_bynode=None,\n",
       "               colsample_bytree=0.8, device=None, early_stopping_rounds=None,\n",
       "               enable_categorical=False, eval_metric=None, feature_types=None,\n",
       "               gamma=2, grow_policy=None, importance_type=None,\n",
       "               interaction_constraints=None, learning_rate=None, max_bin=None,\n",
       "               max_cat_threshold=None, max_cat_to_onehot=None,\n",
       "               max_delta_step=None, max_depth=4, max_leaves=None,\n",
       "               min_child_weight=1, missing=nan, monotone_constraints=None,\n",
       "               multi_strategy=None, n_estimators=None, n_jobs=None,\n",
       "               num_parallel_tree=None, objective='multi:softprob', ...),\n",
       " LogisticRegression(C=10, max_iter=300, solver='saga'),\n",
       " RandomForestClassifier(max_depth=20, min_samples_split=15, n_estimators=57),\n",
       " MultinomialNB(fit_prior=False),\n",
       " SVC(C=1, degree=2, kernel='linear')]"
      ]
     },
     "execution_count": 64,
     "metadata": {},
     "output_type": "execute_result"
    }
   ],
   "source": [
    "from joblib import dump, load\n",
    "loaded_models_tfidf = []\n",
    "for name in model_names_tfidf:\n",
    "    loaded_models_tfidf.append(load(name))\n",
    "loaded_models_tfidf  "
   ]
  },
  {
   "cell_type": "code",
   "execution_count": 65,
   "id": "0f002051-d8de-421d-8476-cb44ef9c2a6d",
   "metadata": {},
   "outputs": [
    {
     "data": {
      "text/plain": [
       "[XGBClassifier(base_score=None, booster=None, callbacks=None,\n",
       "               colsample_bylevel=None, colsample_bynode=None, colsample_bytree=1,\n",
       "               device=None, early_stopping_rounds=None, enable_categorical=False,\n",
       "               eval_metric=None, feature_types=None, gamma=0.5, grow_policy=None,\n",
       "               importance_type=None, interaction_constraints=None,\n",
       "               learning_rate=None, max_bin=None, max_cat_threshold=None,\n",
       "               max_cat_to_onehot=None, max_delta_step=None, max_depth=5,\n",
       "               max_leaves=None, min_child_weight=5, missing=nan,\n",
       "               monotone_constraints=None, multi_strategy=None, n_estimators=None,\n",
       "               n_jobs=None, num_parallel_tree=None, objective='multi:softprob', ...),\n",
       " LogisticRegression(C=10, max_iter=300, penalty='none', solver='saga'),\n",
       " RandomForestClassifier(max_depth=20, max_features='log2', min_samples_leaf=2,\n",
       "                        n_estimators=71),\n",
       " GaussianNB(var_smoothing=1e-11),\n",
       " SVC(C=1, degree=1)]"
      ]
     },
     "execution_count": 65,
     "metadata": {},
     "output_type": "execute_result"
    }
   ],
   "source": [
    "from joblib import dump, load\n",
    "loaded_models_w2v = []\n",
    "for name in model_names_w2v:\n",
    "    loaded_models_w2v.append(load(name))\n",
    "loaded_models_w2v  "
   ]
  },
  {
   "cell_type": "markdown",
   "id": "41e5aaaa-b7cd-4433-abba-9dcd5dca0099",
   "metadata": {},
   "source": [
    "seperating apps and Removing matching data from earlier trained data, so that all data are fresh for prediction"
   ]
  },
  {
   "cell_type": "code",
   "execution_count": 66,
   "id": "c131e129-7b3c-4709-a69d-d85c1a8fd8a9",
   "metadata": {},
   "outputs": [
    {
     "name": "stdout",
     "output_type": "stream",
     "text": [
      "app1_data1_separated DataFrame\n",
      "\n",
      "\n"
     ]
    },
    {
     "data": {
      "text/html": [
       "<div>\n",
       "<style scoped>\n",
       "    .dataframe tbody tr th:only-of-type {\n",
       "        vertical-align: middle;\n",
       "    }\n",
       "\n",
       "    .dataframe tbody tr th {\n",
       "        vertical-align: top;\n",
       "    }\n",
       "\n",
       "    .dataframe thead th {\n",
       "        text-align: right;\n",
       "    }\n",
       "</style>\n",
       "<table border=\"1\" class=\"dataframe\">\n",
       "  <thead>\n",
       "    <tr style=\"text-align: right;\">\n",
       "      <th></th>\n",
       "      <th>ID</th>\n",
       "      <th>CleanText</th>\n",
       "      <th>rating</th>\n",
       "      <th>sentiment_vader</th>\n",
       "      <th>num_characters</th>\n",
       "      <th>num_words</th>\n",
       "      <th>num_sentences</th>\n",
       "      <th>sentiment_encoded</th>\n",
       "    </tr>\n",
       "  </thead>\n",
       "  <tbody>\n",
       "    <tr>\n",
       "      <th>0</th>\n",
       "      <td>3</td>\n",
       "      <td>great easy navigate use super easy</td>\n",
       "      <td>5</td>\n",
       "      <td>positive</td>\n",
       "      <td>34</td>\n",
       "      <td>6</td>\n",
       "      <td>1</td>\n",
       "      <td>2</td>\n",
       "    </tr>\n",
       "    <tr>\n",
       "      <th>1</th>\n",
       "      <td>5</td>\n",
       "      <td>easy use great rates love meeting host super f...</td>\n",
       "      <td>5</td>\n",
       "      <td>positive</td>\n",
       "      <td>76</td>\n",
       "      <td>13</td>\n",
       "      <td>1</td>\n",
       "      <td>2</td>\n",
       "    </tr>\n",
       "    <tr>\n",
       "      <th>2</th>\n",
       "      <td>7</td>\n",
       "      <td>host unavailable due overseas wait hour enter ...</td>\n",
       "      <td>1</td>\n",
       "      <td>positive</td>\n",
       "      <td>314</td>\n",
       "      <td>40</td>\n",
       "      <td>1</td>\n",
       "      <td>2</td>\n",
       "    </tr>\n",
       "    <tr>\n",
       "      <th>3</th>\n",
       "      <td>8</td>\n",
       "      <td>good easy reference customers dont reply</td>\n",
       "      <td>4</td>\n",
       "      <td>positive</td>\n",
       "      <td>40</td>\n",
       "      <td>6</td>\n",
       "      <td>1</td>\n",
       "      <td>2</td>\n",
       "    </tr>\n",
       "    <tr>\n",
       "      <th>4</th>\n",
       "      <td>9</td>\n",
       "      <td>dumpster fire</td>\n",
       "      <td>1</td>\n",
       "      <td>negative</td>\n",
       "      <td>13</td>\n",
       "      <td>2</td>\n",
       "      <td>1</td>\n",
       "      <td>0</td>\n",
       "    </tr>\n",
       "    <tr>\n",
       "      <th>...</th>\n",
       "      <td>...</td>\n",
       "      <td>...</td>\n",
       "      <td>...</td>\n",
       "      <td>...</td>\n",
       "      <td>...</td>\n",
       "      <td>...</td>\n",
       "      <td>...</td>\n",
       "      <td>...</td>\n",
       "    </tr>\n",
       "    <tr>\n",
       "      <th>76853</th>\n",
       "      <td>147595</td>\n",
       "      <td>love work actually useful travelers look cheap...</td>\n",
       "      <td>5</td>\n",
       "      <td>positive</td>\n",
       "      <td>58</td>\n",
       "      <td>9</td>\n",
       "      <td>1</td>\n",
       "      <td>2</td>\n",
       "    </tr>\n",
       "    <tr>\n",
       "      <th>76854</th>\n",
       "      <td>147596</td>\n",
       "      <td>please add search filters pets allow</td>\n",
       "      <td>2</td>\n",
       "      <td>positive</td>\n",
       "      <td>36</td>\n",
       "      <td>6</td>\n",
       "      <td>1</td>\n",
       "      <td>2</td>\n",
       "    </tr>\n",
       "    <tr>\n",
       "      <th>76855</th>\n",
       "      <td>147598</td>\n",
       "      <td>since last time update featured collection cat...</td>\n",
       "      <td>3</td>\n",
       "      <td>negative</td>\n",
       "      <td>148</td>\n",
       "      <td>24</td>\n",
       "      <td>1</td>\n",
       "      <td>0</td>\n",
       "    </tr>\n",
       "    <tr>\n",
       "      <th>76856</th>\n",
       "      <td>147599</td>\n",
       "      <td>useful ive use quickly compose messages hosts ...</td>\n",
       "      <td>4</td>\n",
       "      <td>positive</td>\n",
       "      <td>72</td>\n",
       "      <td>10</td>\n",
       "      <td>1</td>\n",
       "      <td>2</td>\n",
       "    </tr>\n",
       "    <tr>\n",
       "      <th>76857</th>\n",
       "      <td>147600</td>\n",
       "      <td>great idea real shame fall short mark flips or...</td>\n",
       "      <td>1</td>\n",
       "      <td>neutral</td>\n",
       "      <td>191</td>\n",
       "      <td>29</td>\n",
       "      <td>1</td>\n",
       "      <td>1</td>\n",
       "    </tr>\n",
       "  </tbody>\n",
       "</table>\n",
       "<p>76858 rows × 8 columns</p>\n",
       "</div>"
      ],
      "text/plain": [
       "           ID                                          CleanText  rating  \\\n",
       "0           3                 great easy navigate use super easy       5   \n",
       "1           5  easy use great rates love meeting host super f...       5   \n",
       "2           7  host unavailable due overseas wait hour enter ...       1   \n",
       "3           8           good easy reference customers dont reply       4   \n",
       "4           9                                      dumpster fire       1   \n",
       "...       ...                                                ...     ...   \n",
       "76853  147595  love work actually useful travelers look cheap...       5   \n",
       "76854  147596               please add search filters pets allow       2   \n",
       "76855  147598  since last time update featured collection cat...       3   \n",
       "76856  147599  useful ive use quickly compose messages hosts ...       4   \n",
       "76857  147600  great idea real shame fall short mark flips or...       1   \n",
       "\n",
       "      sentiment_vader  num_characters  num_words  num_sentences  \\\n",
       "0            positive              34          6              1   \n",
       "1            positive              76         13              1   \n",
       "2            positive             314         40              1   \n",
       "3            positive              40          6              1   \n",
       "4            negative              13          2              1   \n",
       "...               ...             ...        ...            ...   \n",
       "76853        positive              58          9              1   \n",
       "76854        positive              36          6              1   \n",
       "76855        negative             148         24              1   \n",
       "76856        positive              72         10              1   \n",
       "76857         neutral             191         29              1   \n",
       "\n",
       "       sentiment_encoded  \n",
       "0                      2  \n",
       "1                      2  \n",
       "2                      2  \n",
       "3                      2  \n",
       "4                      0  \n",
       "...                  ...  \n",
       "76853                  2  \n",
       "76854                  2  \n",
       "76855                  0  \n",
       "76856                  2  \n",
       "76857                  1  \n",
       "\n",
       "[76858 rows x 8 columns]"
      ]
     },
     "metadata": {},
     "output_type": "display_data"
    },
    {
     "name": "stdout",
     "output_type": "stream",
     "text": [
      "\n",
      "\n",
      "\n",
      "app2_data1_separated DataFrame\n",
      "\n",
      "\n"
     ]
    },
    {
     "data": {
      "text/html": [
       "<div>\n",
       "<style scoped>\n",
       "    .dataframe tbody tr th:only-of-type {\n",
       "        vertical-align: middle;\n",
       "    }\n",
       "\n",
       "    .dataframe tbody tr th {\n",
       "        vertical-align: top;\n",
       "    }\n",
       "\n",
       "    .dataframe thead th {\n",
       "        text-align: right;\n",
       "    }\n",
       "</style>\n",
       "<table border=\"1\" class=\"dataframe\">\n",
       "  <thead>\n",
       "    <tr style=\"text-align: right;\">\n",
       "      <th></th>\n",
       "      <th>ID</th>\n",
       "      <th>CleanText</th>\n",
       "      <th>rating</th>\n",
       "      <th>sentiment_vader</th>\n",
       "      <th>num_characters</th>\n",
       "      <th>num_words</th>\n",
       "      <th>num_sentences</th>\n",
       "      <th>sentiment_encoded</th>\n",
       "    </tr>\n",
       "  </thead>\n",
       "  <tbody>\n",
       "    <tr>\n",
       "      <th>0</th>\n",
       "      <td>1</td>\n",
       "      <td>customer support available though marked websi...</td>\n",
       "      <td>1</td>\n",
       "      <td>positive</td>\n",
       "      <td>282</td>\n",
       "      <td>43</td>\n",
       "      <td>1</td>\n",
       "      <td>2</td>\n",
       "    </tr>\n",
       "    <tr>\n",
       "      <th>1</th>\n",
       "      <td>2</td>\n",
       "      <td>trust issues sell fake hotel</td>\n",
       "      <td>1</td>\n",
       "      <td>positive</td>\n",
       "      <td>28</td>\n",
       "      <td>5</td>\n",
       "      <td>1</td>\n",
       "      <td>2</td>\n",
       "    </tr>\n",
       "    <tr>\n",
       "      <th>2</th>\n",
       "      <td>4</td>\n",
       "      <td>slow</td>\n",
       "      <td>3</td>\n",
       "      <td>neutral</td>\n",
       "      <td>4</td>\n",
       "      <td>1</td>\n",
       "      <td>1</td>\n",
       "      <td>1</td>\n",
       "    </tr>\n",
       "    <tr>\n",
       "      <th>3</th>\n",
       "      <td>5</td>\n",
       "      <td>bad hard talk customer service request refund ...</td>\n",
       "      <td>1</td>\n",
       "      <td>negative</td>\n",
       "      <td>69</td>\n",
       "      <td>11</td>\n",
       "      <td>1</td>\n",
       "      <td>0</td>\n",
       "    </tr>\n",
       "    <tr>\n",
       "      <th>4</th>\n",
       "      <td>7</td>\n",
       "      <td>ok whatever</td>\n",
       "      <td>2</td>\n",
       "      <td>positive</td>\n",
       "      <td>11</td>\n",
       "      <td>2</td>\n",
       "      <td>1</td>\n",
       "      <td>2</td>\n",
       "    </tr>\n",
       "    <tr>\n",
       "      <th>...</th>\n",
       "      <td>...</td>\n",
       "      <td>...</td>\n",
       "      <td>...</td>\n",
       "      <td>...</td>\n",
       "      <td>...</td>\n",
       "      <td>...</td>\n",
       "      <td>...</td>\n",
       "      <td>...</td>\n",
       "    </tr>\n",
       "    <tr>\n",
       "      <th>40237</th>\n",
       "      <td>84689</td>\n",
       "      <td>try type venice search function crashes immedi...</td>\n",
       "      <td>1</td>\n",
       "      <td>negative</td>\n",
       "      <td>56</td>\n",
       "      <td>8</td>\n",
       "      <td>1</td>\n",
       "      <td>0</td>\n",
       "    </tr>\n",
       "    <tr>\n",
       "      <th>40238</th>\n",
       "      <td>84692</td>\n",
       "      <td>clean room many facilities u ask towel soap mi...</td>\n",
       "      <td>5</td>\n",
       "      <td>positive</td>\n",
       "      <td>327</td>\n",
       "      <td>55</td>\n",
       "      <td>1</td>\n",
       "      <td>2</td>\n",
       "    </tr>\n",
       "    <tr>\n",
       "      <th>40239</th>\n",
       "      <td>84693</td>\n",
       "      <td>good guide travels asia good choice hotels pic...</td>\n",
       "      <td>2</td>\n",
       "      <td>positive</td>\n",
       "      <td>242</td>\n",
       "      <td>38</td>\n",
       "      <td>1</td>\n",
       "      <td>2</td>\n",
       "    </tr>\n",
       "    <tr>\n",
       "      <th>40240</th>\n",
       "      <td>84694</td>\n",
       "      <td>useful times use</td>\n",
       "      <td>4</td>\n",
       "      <td>positive</td>\n",
       "      <td>16</td>\n",
       "      <td>3</td>\n",
       "      <td>1</td>\n",
       "      <td>2</td>\n",
       "    </tr>\n",
       "    <tr>\n",
       "      <th>40241</th>\n",
       "      <td>84696</td>\n",
       "      <td>great slow</td>\n",
       "      <td>4</td>\n",
       "      <td>positive</td>\n",
       "      <td>10</td>\n",
       "      <td>2</td>\n",
       "      <td>1</td>\n",
       "      <td>2</td>\n",
       "    </tr>\n",
       "  </tbody>\n",
       "</table>\n",
       "<p>40242 rows × 8 columns</p>\n",
       "</div>"
      ],
      "text/plain": [
       "          ID                                          CleanText  rating  \\\n",
       "0          1  customer support available though marked websi...       1   \n",
       "1          2                       trust issues sell fake hotel       1   \n",
       "2          4                                               slow       3   \n",
       "3          5  bad hard talk customer service request refund ...       1   \n",
       "4          7                                        ok whatever       2   \n",
       "...      ...                                                ...     ...   \n",
       "40237  84689  try type venice search function crashes immedi...       1   \n",
       "40238  84692  clean room many facilities u ask towel soap mi...       5   \n",
       "40239  84693  good guide travels asia good choice hotels pic...       2   \n",
       "40240  84694                                   useful times use       4   \n",
       "40241  84696                                         great slow       4   \n",
       "\n",
       "      sentiment_vader  num_characters  num_words  num_sentences  \\\n",
       "0            positive             282         43              1   \n",
       "1            positive              28          5              1   \n",
       "2             neutral               4          1              1   \n",
       "3            negative              69         11              1   \n",
       "4            positive              11          2              1   \n",
       "...               ...             ...        ...            ...   \n",
       "40237        negative              56          8              1   \n",
       "40238        positive             327         55              1   \n",
       "40239        positive             242         38              1   \n",
       "40240        positive              16          3              1   \n",
       "40241        positive              10          2              1   \n",
       "\n",
       "       sentiment_encoded  \n",
       "0                      2  \n",
       "1                      2  \n",
       "2                      1  \n",
       "3                      0  \n",
       "4                      2  \n",
       "...                  ...  \n",
       "40237                  0  \n",
       "40238                  2  \n",
       "40239                  2  \n",
       "40240                  2  \n",
       "40241                  2  \n",
       "\n",
       "[40242 rows x 8 columns]"
      ]
     },
     "metadata": {},
     "output_type": "display_data"
    },
    {
     "name": "stdout",
     "output_type": "stream",
     "text": [
      "\n",
      "\n",
      "\n"
     ]
    }
   ],
   "source": [
    "from IPython.display import display\n",
    "\n",
    "separated_app_data = ['app1_data1_separated', 'app2_data1_separated'] # Name accordingly for more apps \n",
    "review_data_sources = ['ReviewData1', 'ReviewData2']  # List of corresponding review data sources\n",
    "\n",
    "separated_data = {}\n",
    "unique_separated_data = {}\n",
    "\n",
    "for app, review_source in zip(separated_app_data, review_data_sources):\n",
    "    separated_data[app] = combined_app_data_vader[combined_app_data_vader['source'] == review_source].drop(columns=['source'])\n",
    "    \n",
    "    # Exclude matching data using a merge with indicator\n",
    "    merged_data = separated_data[app].merge(balanced_data_CA_vader, how='left', indicator=True)\n",
    "    unique_separated_data[app] = merged_data[merged_data['_merge'] == 'left_only'].drop(columns=['_merge', 'source'])\n",
    "    \n",
    "    print(f'{app} DataFrame\\n\\n')\n",
    "    unique_separated_data[app].reset_index(drop=True, inplace=True)\n",
    "    display(unique_separated_data[app])\n",
    "    print('\\n\\n')\n"
   ]
  },
  {
   "cell_type": "code",
   "execution_count": 67,
   "id": "96359cc0-7a4a-4c58-ac25-19dd22b3b815",
   "metadata": {},
   "outputs": [],
   "source": [
    "App1_sampled_data = unique_separated_data['app1_data1_separated'].sample(frac=0.2, random_state=42)\n",
    "App2_sampled_data = unique_separated_data['app2_data1_separated'].sample(frac=0.2, random_state=42)"
   ]
  },
  {
   "cell_type": "code",
   "execution_count": 68,
   "id": "dfd0bb97-26e9-4bcb-bb40-f6804a01caa1",
   "metadata": {},
   "outputs": [
    {
     "name": "stdout",
     "output_type": "stream",
     "text": [
      "App1_sampled_data shape: (15372, 8)\n",
      "App2_sampled_data shape: (8048, 8)\n"
     ]
    }
   ],
   "source": [
    "print(\"App1_sampled_data shape:\", App1_sampled_data.shape)\n",
    "print(\"App2_sampled_data shape:\", App2_sampled_data.shape)"
   ]
  },
  {
   "cell_type": "markdown",
   "id": "28f6e705-03f7-48b3-bd6b-42db0ea1f8c7",
   "metadata": {},
   "source": [
    "Transform App data using TF-IDF"
   ]
  },
  {
   "cell_type": "code",
   "execution_count": 72,
   "id": "23a84419-e7d6-454d-959f-e5672e3f6f72",
   "metadata": {},
   "outputs": [],
   "source": [
    "App1_data_vader_tfidf = tfidf_vectorizer_vader.transform(App1_sampled_data['CleanText'])\n",
    "App2_data_vader_tfidf = tfidf_vectorizer_vader.transform(App2_sampled_data['CleanText'])"
   ]
  },
  {
   "cell_type": "markdown",
   "id": "93295643-6e4e-4ba6-9453-9d2270a9e9b8",
   "metadata": {},
   "source": [
    "Tokenize App data"
   ]
  },
  {
   "cell_type": "code",
   "execution_count": 73,
   "id": "dd37cc96-a38b-4782-b9b0-e642ad294efa",
   "metadata": {},
   "outputs": [],
   "source": [
    "App1_data_tokens = tokenize_text(App1_sampled_data['CleanText'])\n",
    "App2_data_tokens = tokenize_text(App2_sampled_data['CleanText'])"
   ]
  },
  {
   "cell_type": "markdown",
   "id": "86776a88-4fcd-4173-b930-f8ae1c817de3",
   "metadata": {},
   "source": [
    "Transform App data using Word2Vec"
   ]
  },
  {
   "cell_type": "code",
   "execution_count": 74,
   "id": "8cf8468d-9f16-41d8-9f29-1bf8185112d4",
   "metadata": {},
   "outputs": [],
   "source": [
    "App1_data_vader_W2V = np.array([average_word_vectors(tokens, word2vec_model_vader.wv, vocabulary_combinedData, word2vec_model_vader.vector_size) for tokens in App1_data_tokens])\n",
    "App2_data_vader_W2V = np.array([average_word_vectors(tokens, word2vec_model_vader.wv, vocabulary_combinedData, word2vec_model_vader.vector_size) for tokens in App2_data_tokens])"
   ]
  },
  {
   "cell_type": "markdown",
   "id": "9a9b271a-bd04-4fdc-817e-ada058f8ce61",
   "metadata": {},
   "source": [
    "Function to predict sentiments and store them"
   ]
  },
  {
   "cell_type": "code",
   "execution_count": 103,
   "id": "ba8e71ee-50a8-4702-b65d-28a5d0fc0289",
   "metadata": {},
   "outputs": [],
   "source": [
    "from sklearn.metrics import accuracy_score,confusion_matrix,precision_score\n",
    "def predict_and_print_tfidf(models, data_tfidf, app_name, y_actual_tfidf):\n",
    "    predictions_tfidf = []\n",
    "    model1 = []\n",
    "    \n",
    "    for model, name in zip(models, model_names_tfidf):\n",
    "        predicted_sentiment1 = model.predict(data_tfidf)\n",
    "        accuracy1 = accuracy_score(y_actual_tfidf, predicted_sentiment1)*100\n",
    "        precision1 = precision_score(y_actual_tfidf, predicted_sentiment1, average='weighted')\n",
    "        model1.append((name, accuracy1, precision1))\n",
    "        predictions_tfidf.append((name, predicted_sentiment1))\n",
    "        print(f'Predicted sentiment for {app_name} using {name} (TF-IDF): {predicted_sentiment1}')\n",
    "        print(f'Accuracy for {app_name} using {name} (TF-IDF): {accuracy1}')\n",
    "        print(f'Precision for {app_name} using {name} (TF-IDF): {precision1}')\n",
    "        print('\\n')\n",
    "    \n",
    "    return model1"
   ]
  },
  {
   "cell_type": "code",
   "execution_count": 105,
   "id": "e25d1f6a-1fba-43b2-b6f6-19810fa9a067",
   "metadata": {},
   "outputs": [],
   "source": [
    "def predict_and_print_w2v(models, data_w2v, app_name, y_actual_w2v):\n",
    "    predictions_w2v = []\n",
    "    model2 = []\n",
    "    \n",
    "    for model, name in zip(models, model_names_w2v):\n",
    "        predicted_sentiment2 = model.predict(data_w2v)\n",
    "        accuracy2 = accuracy_score(y_actual_w2v, predicted_sentiment2)*100\n",
    "        precision2 = precision_score(y_actual_w2v, predicted_sentiment2, average='weighted')\n",
    "        model2.append((name, accuracy2, precision2))\n",
    "        predictions_w2v.append((name, predicted_sentiment2, ))\n",
    "        print(f'Predicted sentiment for {app_name} using {name} (Word2Vec): {predicted_sentiment2}')\n",
    "        print(f'Accuracy for {app_name} using {name} (Word2Vec): {accuracy2}')\n",
    "        print(f'Precision for {app_name} using {name} (TF-IDF): {precision2}')\n",
    "        print('\\n')\n",
    "    \n",
    "    return model2"
   ]
  },
  {
   "cell_type": "markdown",
   "id": "77638335-3fc8-4e95-bcaa-feca5e3907c2",
   "metadata": {},
   "source": [
    "Predict and store results for App1"
   ]
  },
  {
   "cell_type": "code",
   "execution_count": 99,
   "id": "d3cf9cdb-ec5c-4f01-aa88-4d093dbefd8e",
   "metadata": {},
   "outputs": [
    {
     "name": "stdout",
     "output_type": "stream",
     "text": [
      "Predicted sentiment for App1 using Model1_xgb_vader_combinedData.pkl (TF-IDF): [2 1 2 ... 0 2 2]\n",
      "Accuracy for App1 using Model1_xgb_vader_combinedData.pkl (TF-IDF): 82.35102784283113\n",
      "Precision for App1 using Model1_xgb_vader_combinedData.pkl (TF-IDF): 0.9204748612084636\n",
      "\n",
      "\n",
      "Predicted sentiment for App1 using Model1_logreg_vader_combinedData.pkl (TF-IDF): [2 2 2 ... 0 2 2]\n",
      "Accuracy for App1 using Model1_logreg_vader_combinedData.pkl (TF-IDF): 88.81082487639864\n",
      "Precision for App1 using Model1_logreg_vader_combinedData.pkl (TF-IDF): 0.9313665754800878\n",
      "\n",
      "\n",
      "Predicted sentiment for App1 using Model1_rf_vader_combinedData.pkl (TF-IDF): [2 1 2 ... 1 0 2]\n",
      "Accuracy for App1 using Model1_rf_vader_combinedData.pkl (TF-IDF): 75.11059068436118\n",
      "Precision for App1 using Model1_rf_vader_combinedData.pkl (TF-IDF): 0.9027922431997912\n",
      "\n",
      "\n",
      "Predicted sentiment for App1 using Model1_nb_vader_combinedData.pkl (TF-IDF): [2 0 2 ... 0 0 2]\n",
      "Accuracy for App1 using Model1_nb_vader_combinedData.pkl (TF-IDF): 83.46344002081707\n",
      "Precision for App1 using Model1_nb_vader_combinedData.pkl (TF-IDF): 0.9040245910136768\n",
      "\n",
      "\n",
      "Predicted sentiment for App1 using Model1_svc_vader_combinedData.pkl (TF-IDF): [2 0 2 ... 0 2 2]\n",
      "Accuracy for App1 using Model1_svc_vader_combinedData.pkl (TF-IDF): 89.1230809263596\n",
      "Precision for App1 using Model1_svc_vader_combinedData.pkl (TF-IDF): 0.9331286689403755\n",
      "\n",
      "\n"
     ]
    }
   ],
   "source": [
    "model1_app1 = predict_and_print_tfidf(loaded_models_tfidf, App1_data_vader_tfidf, 'App1', App1_sampled_data['sentiment_encoded'])"
   ]
  },
  {
   "cell_type": "markdown",
   "id": "398c049b-726c-4238-854c-cd1449d06cd3",
   "metadata": {},
   "source": [
    "Predict and store results for App2"
   ]
  },
  {
   "cell_type": "code",
   "execution_count": 102,
   "id": "0c73411a-8a2e-4867-ba87-2601158021aa",
   "metadata": {},
   "outputs": [
    {
     "name": "stdout",
     "output_type": "stream",
     "text": [
      "Predicted sentiment for App2 using Model1_xgb_vader_combinedData.pkl (TF-IDF): [2 2 2 ... 2 2 2]\n",
      "Accuracy for App2 using Model1_xgb_vader_combinedData.pkl (TF-IDF): 83.00198807157058\n",
      "Precision for App2 using Model1_xgb_vader_combinedData.pkl (TF-IDF): 0.9134369251133695\n",
      "\n",
      "\n",
      "Predicted sentiment for App2 using Model1_logreg_vader_combinedData.pkl (TF-IDF): [2 2 0 ... 2 2 2]\n",
      "Accuracy for App2 using Model1_logreg_vader_combinedData.pkl (TF-IDF): 89.74900596421472\n",
      "Precision for App2 using Model1_logreg_vader_combinedData.pkl (TF-IDF): 0.9309750032841043\n",
      "\n",
      "\n",
      "Predicted sentiment for App2 using Model1_rf_vader_combinedData.pkl (TF-IDF): [1 2 2 ... 2 0 2]\n",
      "Accuracy for App2 using Model1_rf_vader_combinedData.pkl (TF-IDF): 76.5034791252485\n",
      "Precision for App2 using Model1_rf_vader_combinedData.pkl (TF-IDF): 0.8979894790918033\n",
      "\n",
      "\n",
      "Predicted sentiment for App2 using Model1_nb_vader_combinedData.pkl (TF-IDF): [0 2 2 ... 2 2 2]\n",
      "Accuracy for App2 using Model1_nb_vader_combinedData.pkl (TF-IDF): 83.4493041749503\n",
      "Precision for App2 using Model1_nb_vader_combinedData.pkl (TF-IDF): 0.8924470888188905\n",
      "\n",
      "\n",
      "Predicted sentiment for App2 using Model1_svc_vader_combinedData.pkl (TF-IDF): [2 2 2 ... 2 2 2]\n",
      "Accuracy for App2 using Model1_svc_vader_combinedData.pkl (TF-IDF): 89.74900596421472\n",
      "Precision for App2 using Model1_svc_vader_combinedData.pkl (TF-IDF): 0.9306445500730123\n",
      "\n",
      "\n"
     ]
    }
   ],
   "source": [
    "model1_app2 = predict_and_print_tfidf(loaded_models_tfidf, App2_data_vader_tfidf, 'App2', App2_sampled_data['sentiment_encoded'])"
   ]
  },
  {
   "cell_type": "code",
   "execution_count": 106,
   "id": "f41652c0-80e3-4a68-adc3-91b82a51fb54",
   "metadata": {},
   "outputs": [
    {
     "name": "stdout",
     "output_type": "stream",
     "text": [
      "Predicted sentiment for App1 using Model2_xgb_vader_combinedData (Word2Vec): [2 0 2 ... 0 0 2]\n",
      "Accuracy for App1 using Model2_xgb_vader_combinedData (Word2Vec): 71.86442883164194\n",
      "Precision for App1 using Model2_xgb_vader_combinedData (TF-IDF): 0.884974309073975\n",
      "\n",
      "\n",
      "Predicted sentiment for App1 using Model2_logreg_vader_combinedData.pkl (Word2Vec): [2 0 2 ... 0 0 2]\n",
      "Accuracy for App1 using Model2_logreg_vader_combinedData.pkl (Word2Vec): 66.42596929482175\n",
      "Precision for App1 using Model2_logreg_vader_combinedData.pkl (TF-IDF): 0.8738873211687584\n",
      "\n",
      "\n",
      "Predicted sentiment for App1 using Model2_rf_vader_combinedData.pkl (Word2Vec): [2 1 2 ... 0 0 2]\n",
      "Accuracy for App1 using Model2_rf_vader_combinedData.pkl (Word2Vec): 64.35076762945616\n",
      "Precision for App1 using Model2_rf_vader_combinedData.pkl (TF-IDF): 0.8762997566489227\n",
      "\n",
      "\n",
      "Predicted sentiment for App1 using Model2_nb_vader_combinedData.pkl (Word2Vec): [0 1 2 ... 0 0 2]\n",
      "Accuracy for App1 using Model2_nb_vader_combinedData.pkl (Word2Vec): 40.67135050741608\n",
      "Precision for App1 using Model2_nb_vader_combinedData.pkl (TF-IDF): 0.8537224396539845\n",
      "\n",
      "\n",
      "Predicted sentiment for App1 using Model2_svc_vader_combinedData.pkl (Word2Vec): [2 1 2 ... 1 0 2]\n",
      "Accuracy for App1 using Model2_svc_vader_combinedData.pkl (Word2Vec): 75.05204267499349\n",
      "Precision for App1 using Model2_svc_vader_combinedData.pkl (TF-IDF): 0.8963632456508367\n",
      "\n",
      "\n"
     ]
    }
   ],
   "source": [
    "model2_app1 = predict_and_print_w2v(loaded_models_w2v, App1_data_vader_W2V, 'App1', App1_sampled_data['sentiment_encoded'])"
   ]
  },
  {
   "cell_type": "code",
   "execution_count": 107,
   "id": "9e8cc074-6d3a-48ea-a920-dc64ab5421e7",
   "metadata": {},
   "outputs": [
    {
     "name": "stdout",
     "output_type": "stream",
     "text": [
      "Predicted sentiment for App2 using Model2_xgb_vader_combinedData (Word2Vec): [1 2 2 ... 2 2 2]\n",
      "Accuracy for App2 using Model2_xgb_vader_combinedData (Word2Vec): 74.49055666003976\n",
      "Precision for App2 using Model2_xgb_vader_combinedData (TF-IDF): 0.8765943939277783\n",
      "\n",
      "\n",
      "Predicted sentiment for App2 using Model2_logreg_vader_combinedData.pkl (Word2Vec): [1 2 2 ... 2 2 2]\n",
      "Accuracy for App2 using Model2_logreg_vader_combinedData.pkl (Word2Vec): 69.37127236580517\n",
      "Precision for App2 using Model2_logreg_vader_combinedData.pkl (TF-IDF): 0.8562910935139012\n",
      "\n",
      "\n",
      "Predicted sentiment for App2 using Model2_rf_vader_combinedData.pkl (Word2Vec): [1 2 2 ... 2 0 2]\n",
      "Accuracy for App2 using Model2_rf_vader_combinedData.pkl (Word2Vec): 68.4145129224652\n",
      "Precision for App2 using Model2_rf_vader_combinedData.pkl (TF-IDF): 0.8682398483212709\n",
      "\n",
      "\n",
      "Predicted sentiment for App2 using Model2_nb_vader_combinedData.pkl (Word2Vec): [1 2 0 ... 2 0 2]\n",
      "Accuracy for App2 using Model2_nb_vader_combinedData.pkl (Word2Vec): 44.8434393638171\n",
      "Precision for App2 using Model2_nb_vader_combinedData.pkl (TF-IDF): 0.8321342392270447\n",
      "\n",
      "\n",
      "Predicted sentiment for App2 using Model2_svc_vader_combinedData.pkl (Word2Vec): [2 2 2 ... 2 2 2]\n",
      "Accuracy for App2 using Model2_svc_vader_combinedData.pkl (Word2Vec): 78.37972166998011\n",
      "Precision for App2 using Model2_svc_vader_combinedData.pkl (TF-IDF): 0.8919904113416225\n",
      "\n",
      "\n"
     ]
    }
   ],
   "source": [
    "model2_app2 = predict_and_print_w2v(loaded_models_w2v, App2_data_vader_W2V, 'App2', App2_sampled_data['sentiment_encoded'])"
   ]
  },
  {
   "cell_type": "markdown",
   "id": "2e2959b2-4755-492f-9851-9957463469bd",
   "metadata": {},
   "source": [
    "Create DataFrame for app, model, and accuracy"
   ]
  },
  {
   "cell_type": "code",
   "execution_count": 101,
   "id": "9be41cee-6cc4-4a53-acb2-edf0c75ef0c6",
   "metadata": {},
   "outputs": [
    {
     "name": "stdout",
     "output_type": "stream",
     "text": [
      "Accuracy and Precision in App1 with different models using TF-IDF\n"
     ]
    },
    {
     "data": {
      "text/html": [
       "<div>\n",
       "<style scoped>\n",
       "    .dataframe tbody tr th:only-of-type {\n",
       "        vertical-align: middle;\n",
       "    }\n",
       "\n",
       "    .dataframe tbody tr th {\n",
       "        vertical-align: top;\n",
       "    }\n",
       "\n",
       "    .dataframe thead th {\n",
       "        text-align: right;\n",
       "    }\n",
       "</style>\n",
       "<table border=\"1\" class=\"dataframe\">\n",
       "  <thead>\n",
       "    <tr style=\"text-align: right;\">\n",
       "      <th></th>\n",
       "      <th>Model</th>\n",
       "      <th>Accuracy</th>\n",
       "      <th>Precision</th>\n",
       "    </tr>\n",
       "  </thead>\n",
       "  <tbody>\n",
       "    <tr>\n",
       "      <th>4</th>\n",
       "      <td>Model1_svc_vader_combinedData.pkl</td>\n",
       "      <td>89.123081</td>\n",
       "      <td>0.933129</td>\n",
       "    </tr>\n",
       "    <tr>\n",
       "      <th>1</th>\n",
       "      <td>Model1_logreg_vader_combinedData.pkl</td>\n",
       "      <td>88.810825</td>\n",
       "      <td>0.931367</td>\n",
       "    </tr>\n",
       "    <tr>\n",
       "      <th>0</th>\n",
       "      <td>Model1_xgb_vader_combinedData.pkl</td>\n",
       "      <td>82.351028</td>\n",
       "      <td>0.920475</td>\n",
       "    </tr>\n",
       "    <tr>\n",
       "      <th>3</th>\n",
       "      <td>Model1_nb_vader_combinedData.pkl</td>\n",
       "      <td>83.463440</td>\n",
       "      <td>0.904025</td>\n",
       "    </tr>\n",
       "    <tr>\n",
       "      <th>2</th>\n",
       "      <td>Model1_rf_vader_combinedData.pkl</td>\n",
       "      <td>75.110591</td>\n",
       "      <td>0.902792</td>\n",
       "    </tr>\n",
       "  </tbody>\n",
       "</table>\n",
       "</div>"
      ],
      "text/plain": [
       "                                  Model   Accuracy  Precision\n",
       "4     Model1_svc_vader_combinedData.pkl  89.123081   0.933129\n",
       "1  Model1_logreg_vader_combinedData.pkl  88.810825   0.931367\n",
       "0     Model1_xgb_vader_combinedData.pkl  82.351028   0.920475\n",
       "3      Model1_nb_vader_combinedData.pkl  83.463440   0.904025\n",
       "2      Model1_rf_vader_combinedData.pkl  75.110591   0.902792"
      ]
     },
     "metadata": {},
     "output_type": "display_data"
    }
   ],
   "source": [
    "df_tfidf_app1 = pd.DataFrame(model1_app1, columns=['Model', 'Accuracy', 'Precision']).sort_values(by='Precision', ascending=False)\n",
    "print('Accuracy and Precision in App1 with different models using TF-IDF')\n",
    "display(df_tfidf_app1)"
   ]
  },
  {
   "cell_type": "code",
   "execution_count": 109,
   "id": "0707fd37-7314-4acc-b161-d3e85bdddd09",
   "metadata": {},
   "outputs": [
    {
     "name": "stdout",
     "output_type": "stream",
     "text": [
      "Accuracy and Precision in App2 with different models using TF-IDF\n"
     ]
    },
    {
     "data": {
      "text/html": [
       "<div>\n",
       "<style scoped>\n",
       "    .dataframe tbody tr th:only-of-type {\n",
       "        vertical-align: middle;\n",
       "    }\n",
       "\n",
       "    .dataframe tbody tr th {\n",
       "        vertical-align: top;\n",
       "    }\n",
       "\n",
       "    .dataframe thead th {\n",
       "        text-align: right;\n",
       "    }\n",
       "</style>\n",
       "<table border=\"1\" class=\"dataframe\">\n",
       "  <thead>\n",
       "    <tr style=\"text-align: right;\">\n",
       "      <th></th>\n",
       "      <th>Model</th>\n",
       "      <th>Accuracy</th>\n",
       "      <th>Precision</th>\n",
       "    </tr>\n",
       "  </thead>\n",
       "  <tbody>\n",
       "    <tr>\n",
       "      <th>1</th>\n",
       "      <td>Model1_logreg_vader_combinedData.pkl</td>\n",
       "      <td>89.749006</td>\n",
       "      <td>0.930975</td>\n",
       "    </tr>\n",
       "    <tr>\n",
       "      <th>4</th>\n",
       "      <td>Model1_svc_vader_combinedData.pkl</td>\n",
       "      <td>89.749006</td>\n",
       "      <td>0.930645</td>\n",
       "    </tr>\n",
       "    <tr>\n",
       "      <th>0</th>\n",
       "      <td>Model1_xgb_vader_combinedData.pkl</td>\n",
       "      <td>83.001988</td>\n",
       "      <td>0.913437</td>\n",
       "    </tr>\n",
       "    <tr>\n",
       "      <th>2</th>\n",
       "      <td>Model1_rf_vader_combinedData.pkl</td>\n",
       "      <td>76.503479</td>\n",
       "      <td>0.897989</td>\n",
       "    </tr>\n",
       "    <tr>\n",
       "      <th>3</th>\n",
       "      <td>Model1_nb_vader_combinedData.pkl</td>\n",
       "      <td>83.449304</td>\n",
       "      <td>0.892447</td>\n",
       "    </tr>\n",
       "  </tbody>\n",
       "</table>\n",
       "</div>"
      ],
      "text/plain": [
       "                                  Model   Accuracy  Precision\n",
       "1  Model1_logreg_vader_combinedData.pkl  89.749006   0.930975\n",
       "4     Model1_svc_vader_combinedData.pkl  89.749006   0.930645\n",
       "0     Model1_xgb_vader_combinedData.pkl  83.001988   0.913437\n",
       "2      Model1_rf_vader_combinedData.pkl  76.503479   0.897989\n",
       "3      Model1_nb_vader_combinedData.pkl  83.449304   0.892447"
      ]
     },
     "metadata": {},
     "output_type": "display_data"
    }
   ],
   "source": [
    "df_tfidf_app2 = pd.DataFrame(model1_app2, columns=['Model', 'Accuracy', 'Precision']).sort_values(by='Precision', ascending=False)\n",
    "print('Accuracy and Precision in App2 with different models using TF-IDF')\n",
    "display(df_tfidf_app2)"
   ]
  },
  {
   "cell_type": "code",
   "execution_count": 123,
   "id": "780ed1bc-e440-49e4-8e45-aebc0cbcf6b4",
   "metadata": {},
   "outputs": [],
   "source": [
    "df_tfidf_app1['Apps'] = 'App1'\n",
    "df_tfidf_app2['Apps'] = 'App2'\n",
    "df_tfidf_app = pd.concat([df_tfidf_app1,df_tfidf_app2])"
   ]
  },
  {
   "cell_type": "code",
   "execution_count": 125,
   "id": "d44e0cba-e985-4e57-a20f-588ea0062ec2",
   "metadata": {},
   "outputs": [
    {
     "data": {
      "image/png": "[encoded data removed]",
      "text/plain": [
       "<Figure size 1200x600 with 1 Axes>"
      ]
     },
     "metadata": {},
     "output_type": "display_data"
    }
   ],
   "source": [
    "# Plot the precisions for each model\n",
    "plt.figure(figsize=(12, 6))\n",
    "sns.barplot(data=df_tfidf_app, x='Apps', y='Precision', hue='Model')\n",
    "plt.title('Model Precisions for App1 and App2 using TF-IDF')\n",
    "plt.xlabel('Apps')\n",
    "plt.ylabel('Precision')\n",
    "plt.legend(title='Model')\n",
    "plt.show()"
   ]
  },
  {
   "cell_type": "code",
   "execution_count": 126,
   "id": "86695c32-1cc2-4db8-b6cf-6b28a1f14d20",
   "metadata": {},
   "outputs": [
    {
     "data": {
      "image/png": "[encoded data removed]",
      "text/plain": [
       "<Figure size 1200x600 with 1 Axes>"
      ]
     },
     "metadata": {},
     "output_type": "display_data"
    }
   ],
   "source": [
    "# Plot the accuracies for each model\n",
    "plt.figure(figsize=(12, 6))\n",
    "sns.barplot(data=df_tfidf_app, x='Apps', y='Accuracy', hue='Model')\n",
    "plt.title('Model Accuracies for App1 and App2 using TF-IDF')\n",
    "plt.xlabel('App')\n",
    "plt.ylabel('Accuracy')\n",
    "plt.legend(title='Model')\n",
    "plt.show()"
   ]
  },
  {
   "cell_type": "code",
   "execution_count": 127,
   "id": "e19cd46f-a291-4924-b467-1a10367d1b68",
   "metadata": {},
   "outputs": [
    {
     "name": "stdout",
     "output_type": "stream",
     "text": [
      "Accuracy and Precision in App1 with different models using TF-IDF\n"
     ]
    },
    {
     "data": {
      "text/html": [
       "<div>\n",
       "<style scoped>\n",
       "    .dataframe tbody tr th:only-of-type {\n",
       "        vertical-align: middle;\n",
       "    }\n",
       "\n",
       "    .dataframe tbody tr th {\n",
       "        vertical-align: top;\n",
       "    }\n",
       "\n",
       "    .dataframe thead th {\n",
       "        text-align: right;\n",
       "    }\n",
       "</style>\n",
       "<table border=\"1\" class=\"dataframe\">\n",
       "  <thead>\n",
       "    <tr style=\"text-align: right;\">\n",
       "      <th></th>\n",
       "      <th>Model</th>\n",
       "      <th>Accuracy</th>\n",
       "      <th>Precision</th>\n",
       "    </tr>\n",
       "  </thead>\n",
       "  <tbody>\n",
       "    <tr>\n",
       "      <th>4</th>\n",
       "      <td>Model2_svc_vader_combinedData.pkl</td>\n",
       "      <td>75.052043</td>\n",
       "      <td>0.896363</td>\n",
       "    </tr>\n",
       "    <tr>\n",
       "      <th>0</th>\n",
       "      <td>Model2_xgb_vader_combinedData</td>\n",
       "      <td>71.864429</td>\n",
       "      <td>0.884974</td>\n",
       "    </tr>\n",
       "    <tr>\n",
       "      <th>2</th>\n",
       "      <td>Model2_rf_vader_combinedData.pkl</td>\n",
       "      <td>64.350768</td>\n",
       "      <td>0.876300</td>\n",
       "    </tr>\n",
       "    <tr>\n",
       "      <th>1</th>\n",
       "      <td>Model2_logreg_vader_combinedData.pkl</td>\n",
       "      <td>66.425969</td>\n",
       "      <td>0.873887</td>\n",
       "    </tr>\n",
       "    <tr>\n",
       "      <th>3</th>\n",
       "      <td>Model2_nb_vader_combinedData.pkl</td>\n",
       "      <td>40.671351</td>\n",
       "      <td>0.853722</td>\n",
       "    </tr>\n",
       "  </tbody>\n",
       "</table>\n",
       "</div>"
      ],
      "text/plain": [
       "                                  Model   Accuracy  Precision\n",
       "4     Model2_svc_vader_combinedData.pkl  75.052043   0.896363\n",
       "0         Model2_xgb_vader_combinedData  71.864429   0.884974\n",
       "2      Model2_rf_vader_combinedData.pkl  64.350768   0.876300\n",
       "1  Model2_logreg_vader_combinedData.pkl  66.425969   0.873887\n",
       "3      Model2_nb_vader_combinedData.pkl  40.671351   0.853722"
      ]
     },
     "metadata": {},
     "output_type": "display_data"
    }
   ],
   "source": [
    "df_w2v_app1 = pd.DataFrame(model2_app1, columns=['Model', 'Accuracy', 'Precision']).sort_values(by='Precision', ascending=False)\n",
    "print('Accuracy and Precision in App1 with different models using TF-IDF')\n",
    "display(df_w2v_app1)"
   ]
  },
  {
   "cell_type": "code",
   "execution_count": 128,
   "id": "44d26395-5eb4-478c-bd65-28bfd2fccd6d",
   "metadata": {},
   "outputs": [
    {
     "name": "stdout",
     "output_type": "stream",
     "text": [
      "Accuracy and Precision in App2 with different models using TF-IDF\n"
     ]
    },
    {
     "data": {
      "text/html": [
       "<div>\n",
       "<style scoped>\n",
       "    .dataframe tbody tr th:only-of-type {\n",
       "        vertical-align: middle;\n",
       "    }\n",
       "\n",
       "    .dataframe tbody tr th {\n",
       "        vertical-align: top;\n",
       "    }\n",
       "\n",
       "    .dataframe thead th {\n",
       "        text-align: right;\n",
       "    }\n",
       "</style>\n",
       "<table border=\"1\" class=\"dataframe\">\n",
       "  <thead>\n",
       "    <tr style=\"text-align: right;\">\n",
       "      <th></th>\n",
       "      <th>Model</th>\n",
       "      <th>Accuracy</th>\n",
       "      <th>Precision</th>\n",
       "    </tr>\n",
       "  </thead>\n",
       "  <tbody>\n",
       "    <tr>\n",
       "      <th>4</th>\n",
       "      <td>Model2_svc_vader_combinedData.pkl</td>\n",
       "      <td>78.379722</td>\n",
       "      <td>0.891990</td>\n",
       "    </tr>\n",
       "    <tr>\n",
       "      <th>0</th>\n",
       "      <td>Model2_xgb_vader_combinedData</td>\n",
       "      <td>74.490557</td>\n",
       "      <td>0.876594</td>\n",
       "    </tr>\n",
       "    <tr>\n",
       "      <th>2</th>\n",
       "      <td>Model2_rf_vader_combinedData.pkl</td>\n",
       "      <td>68.414513</td>\n",
       "      <td>0.868240</td>\n",
       "    </tr>\n",
       "    <tr>\n",
       "      <th>1</th>\n",
       "      <td>Model2_logreg_vader_combinedData.pkl</td>\n",
       "      <td>69.371272</td>\n",
       "      <td>0.856291</td>\n",
       "    </tr>\n",
       "    <tr>\n",
       "      <th>3</th>\n",
       "      <td>Model2_nb_vader_combinedData.pkl</td>\n",
       "      <td>44.843439</td>\n",
       "      <td>0.832134</td>\n",
       "    </tr>\n",
       "  </tbody>\n",
       "</table>\n",
       "</div>"
      ],
      "text/plain": [
       "                                  Model   Accuracy  Precision\n",
       "4     Model2_svc_vader_combinedData.pkl  78.379722   0.891990\n",
       "0         Model2_xgb_vader_combinedData  74.490557   0.876594\n",
       "2      Model2_rf_vader_combinedData.pkl  68.414513   0.868240\n",
       "1  Model2_logreg_vader_combinedData.pkl  69.371272   0.856291\n",
       "3      Model2_nb_vader_combinedData.pkl  44.843439   0.832134"
      ]
     },
     "metadata": {},
     "output_type": "display_data"
    }
   ],
   "source": [
    "df_w2v_app2 = pd.DataFrame(model2_app2, columns=['Model', 'Accuracy', 'Precision']).sort_values(by='Precision', ascending=False)\n",
    "print('Accuracy and Precision in App2 with different models using TF-IDF')\n",
    "display(df_w2v_app2)"
   ]
  },
  {
   "cell_type": "code",
   "execution_count": 129,
   "id": "cdd6f3e8-177e-4114-89f6-340fce37aa9a",
   "metadata": {},
   "outputs": [],
   "source": [
    "df_w2v_app1['Apps'] = 'App1'\n",
    "df_w2v_app2['Apps'] = 'App2'\n",
    "df_w2v_app = pd.concat([df_w2v_app1,df_w2v_app2])"
   ]
  },
  {
   "cell_type": "code",
   "execution_count": 130,
   "id": "c4598390-df94-4a6f-955f-f6828be2814a",
   "metadata": {},
   "outputs": [
    {
     "data": {
      "image/png": "[encoded data removed]",
      "text/plain": [
       "<Figure size 1200x600 with 1 Axes>"
      ]
     },
     "metadata": {},
     "output_type": "display_data"
    }
   ],
   "source": [
    "plt.figure(figsize=(12, 6))\n",
    "sns.barplot(data=df_w2v_app, x='Apps', y='Accuracy', hue='Model')\n",
    "plt.title('Model Accuracies for App1 and App2 using Word2Vec')\n",
    "plt.xlabel('Apps')\n",
    "plt.ylabel('Precision')\n",
    "plt.legend(title='Model')\n",
    "plt.show()"
   ]
  },
  {
   "cell_type": "code",
   "execution_count": 131,
   "id": "451eb7b5-9ca5-4da1-a990-c1f95292e7ac",
   "metadata": {},
   "outputs": [
    {
     "data": {
      "image/png": "[encoded data removed]",
      "text/plain": [
       "<Figure size 1200x600 with 1 Axes>"
      ]
     },
     "metadata": {},
     "output_type": "display_data"
    }
   ],
   "source": [
    "plt.figure(figsize=(12, 6))\n",
    "sns.barplot(data=df_w2v_app, x='Apps', y='Accuracy', hue='Model')\n",
    "plt.title('Model Accuracies for App1 and App2 using Word2Vec')\n",
    "plt.xlabel('App')\n",
    "plt.ylabel('Accuracy')\n",
    "plt.legend(title='Model')\n",
    "plt.show()"
   ]
  },
  {
   "cell_type": "code",
   "execution_count": 135,
   "id": "780eb1ea-d443-43b4-89d0-32790d326327",
   "metadata": {},
   "outputs": [],
   "source": [
    "best_model_ML = Model1_logreg_vader_combinedData"
   ]
  },
  {
   "cell_type": "code",
   "execution_count": 134,
   "id": "2b133d6d-994b-4486-bd64-3239f1d6883b",
   "metadata": {},
   "outputs": [
    {
     "name": "stdout",
     "output_type": "stream",
     "text": [
      "Accuracy for combined_app_data: 90.85036702428006\n",
      "Precision for combined_app_data: 0.9208123192357341\n"
     ]
    }
   ],
   "source": [
    "combined_app_data_vader_tfidf = tfidf_vectorizer_vader.transform(combined_app_data_vader['CleanText'])\n",
    "predicted_sentiment = best_model_ML.predict(combined_app_data_vader_tfidf)\n",
    "y_actual = combined_app_data_vader['sentiment_encoded']\n",
    "accuracy_combined_data = accuracy_score(y_actual, predicted_sentiment)*100\n",
    "precision_combined_data = precision_score(y_actual, predicted_sentiment,  average='weighted')\n",
    "print(f'Accuracy for combined_app_data: {accuracy_combined_data}')\n",
    "print(f'Precision for combined_app_data: {precision_combined_data}')"
   ]
  },
  {
   "cell_type": "markdown",
   "id": "34d475f8-8d1a-41e2-8f26-8d28d91377c2",
   "metadata": {},
   "source": [
    "saving the best ML model"
   ]
  },
  {
   "cell_type": "code",
   "execution_count": 137,
   "id": "3471b967-cef5-4427-bd29-70d8aec6eb8f",
   "metadata": {},
   "outputs": [
    {
     "data": {
      "text/plain": [
       "['best_model_ML.pkl']"
      ]
     },
     "execution_count": 137,
     "metadata": {},
     "output_type": "execute_result"
    }
   ],
   "source": [
    "import joblib\n",
    "joblib_filename = 'best_model_ML.pkl'\n",
    "joblib.dump(best_model_ML, joblib_filename)"
   ]
  },
  {
   "cell_type": "markdown",
   "id": "3532d391-558b-4ce7-87f6-ebbf0966fe59",
   "metadata": {},
   "source": [
    "loading the saved model "
   ]
  },
  {
   "cell_type": "code",
   "execution_count": 138,
   "id": "5d41ca61-cfb8-4e54-90d9-80470af1e8a4",
   "metadata": {},
   "outputs": [],
   "source": [
    "loaded_model = joblib.load(joblib_filename)"
   ]
  }
 ],
 "metadata": {
  "kernelspec": {
   "display_name": "“Python(gpu)”",
   "language": "python",
   "name": "gputest"
  },
  "language_info": {
   "codemirror_mode": {
    "name": "ipython",
    "version": 3
   },
   "file_extension": ".py",
   "mimetype": "text/x-python",
   "name": "python",
   "nbconvert_exporter": "python",
   "pygments_lexer": "ipython3",
   "version": "3.8.19"
  }
 },
 "nbformat": 4,
 "nbformat_minor": 5
}
